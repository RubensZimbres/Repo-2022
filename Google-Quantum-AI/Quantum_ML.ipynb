{
 "cells": [
  {
   "cell_type": "markdown",
   "metadata": {
    "colab_type": "text",
    "id": "xLOXFOT5Q40E"
   },
   "source": [
    "##### Copyright 2020 The TensorFlow Authors."
   ]
  },
  {
   "cell_type": "code",
   "execution_count": 1,
   "metadata": {
    "cellView": "form",
    "colab": {},
    "colab_type": "code",
    "execution": {
     "iopub.execute_input": "2022-07-29T11:51:51.235175Z",
     "iopub.status.busy": "2022-07-29T11:51:51.234701Z",
     "iopub.status.idle": "2022-07-29T11:51:51.239027Z",
     "shell.execute_reply": "2022-07-29T11:51:51.238437Z"
    },
    "id": "iiQkM5ZgQ8r2"
   },
   "outputs": [],
   "source": [
    "#@title Licensed under the Apache License, Version 2.0 (the \"License\");\n",
    "# you may not use this file except in compliance with the License.\n",
    "# You may obtain a copy of the License at\n",
    "#\n",
    "# https://www.apache.org/licenses/LICENSE-2.0\n",
    "#\n",
    "# Unless required by applicable law or agreed to in writing, software\n",
    "# distributed under the License is distributed on an \"AS IS\" BASIS,\n",
    "# WITHOUT WARRANTIES OR CONDITIONS OF ANY KIND, either express or implied.\n",
    "# See the License for the specific language governing permissions and\n",
    "# limitations under the License."
   ]
  },
  {
   "cell_type": "markdown",
   "metadata": {
    "colab_type": "text",
    "id": "j6331ZSsQGY3"
   },
   "source": [
    "# Hello, many worlds - Google Quantum AI"
   ]
  },
  {
   "cell_type": "markdown",
   "metadata": {
    "colab_type": "text",
    "id": "i9Jcnb8bQQyd"
   },
   "source": [
    "<table class=\"tfo-notebook-buttons\" align=\"left\">\n",
    "  <td>\n",
    "    <a target=\"_blank\" href=\"https://www.tensorflow.org/quantum/tutorials/hello_many_worlds\"><img src=\"https://www.tensorflow.org/images/tf_logo_32px.png\" />View on TensorFlow.org</a>\n",
    "  </td>\n",
    "  <td>\n",
    "    <a target=\"_blank\" href=\"https://colab.research.google.com/github/tensorflow/quantum/blob/master/docs/tutorials/hello_many_worlds.ipynb\"><img src=\"https://www.tensorflow.org/images/colab_logo_32px.png\" />Run in Google Colab</a>\n",
    "  </td>\n",
    "  <td>\n",
    "    <a target=\"_blank\" href=\"https://github.com/tensorflow/quantum/blob/master/docs/tutorials/hello_many_worlds.ipynb\"><img src=\"https://www.tensorflow.org/images/GitHub-Mark-32px.png\" />View source on GitHub</a>\n",
    "  </td>\n",
    "  <td>\n",
    "    <a href=\"https://storage.googleapis.com/tensorflow_docs/quantum/docs/tutorials/hello_many_worlds.ipynb\"><img src=\"https://www.tensorflow.org/images/download_logo_32px.png\" />Download notebook</a>\n",
    "  </td>\n",
    "</table>"
   ]
  },
  {
   "cell_type": "markdown",
   "metadata": {
    "colab_type": "text",
    "id": "6tYn2HaAUgH0"
   },
   "source": [
    "This tutorial shows how a classical neural network can learn to correct qubit calibration errors. It introduces <a target=\"_blank\" href=\"https://github.com/quantumlib/Cirq\" class=\"external\">Cirq</a>, a Python framework to create, edit, and invoke Noisy Intermediate Scale Quantum (NISQ) circuits, and demonstrates how Cirq interfaces with TensorFlow Quantum."
   ]
  },
  {
   "cell_type": "markdown",
   "metadata": {
    "colab_type": "text",
    "id": "sPZoNKvpUaqa"
   },
   "source": [
    "## Setup"
   ]
  },
  {
   "cell_type": "code",
   "execution_count": 2,
   "metadata": {
    "colab": {},
    "colab_type": "code",
    "execution": {
     "iopub.execute_input": "2022-07-29T11:51:51.242640Z",
     "iopub.status.busy": "2022-07-29T11:51:51.242174Z",
     "iopub.status.idle": "2022-07-29T11:52:14.106672Z",
     "shell.execute_reply": "2022-07-29T11:52:14.105612Z"
    },
    "id": "TorxE5tnkvb2"
   },
   "outputs": [],
   "source": [
    "## SOURCE https://colab.research.google.com/github/tensorflow/quantum/blob/master/docs/tutorials/hello_many_worlds.ipynb\n",
    "\n",
    "#!pip install tensorflow==2.7.0\n",
    "#(tf27)"
   ]
  },
  {
   "cell_type": "markdown",
   "metadata": {
    "colab_type": "text",
    "id": "FxkQA6oblNqI"
   },
   "source": [
    "Install TensorFlow Quantum:"
   ]
  },
  {
   "cell_type": "code",
   "execution_count": 3,
   "metadata": {
    "colab": {},
    "colab_type": "code",
    "execution": {
     "iopub.execute_input": "2022-07-29T11:52:14.111480Z",
     "iopub.status.busy": "2022-07-29T11:52:14.110764Z",
     "iopub.status.idle": "2022-07-29T11:52:28.428716Z",
     "shell.execute_reply": "2022-07-29T11:52:28.427814Z"
    },
    "id": "saFHsRDpkvkH"
   },
   "outputs": [],
   "source": [
    "#!pip install cirq\n",
    "# #!pip install tensorflow-quantum==0.6.1\n"
   ]
  },
  {
   "cell_type": "code",
   "execution_count": 4,
   "metadata": {
    "colab": {},
    "colab_type": "code",
    "execution": {
     "iopub.execute_input": "2022-07-29T11:52:28.432874Z",
     "iopub.status.busy": "2022-07-29T11:52:28.432274Z",
     "iopub.status.idle": "2022-07-29T11:52:28.488563Z",
     "shell.execute_reply": "2022-07-29T11:52:28.487931Z"
    },
    "id": "4Ql5PW-ACO0J"
   },
   "outputs": [],
   "source": [
    "# Update package resources to account for version changes.\n",
    "import importlib, pkg_resources\n",
    "importlib.reload(pkg_resources)\n",
    "import cirq"
   ]
  },
  {
   "cell_type": "markdown",
   "metadata": {
    "colab_type": "text",
    "id": "F1L8h1YKUvIO"
   },
   "source": [
    "Now import TensorFlow and the module dependencies:"
   ]
  },
  {
   "cell_type": "code",
   "execution_count": 5,
   "metadata": {
    "colab": {},
    "colab_type": "code",
    "execution": {
     "iopub.execute_input": "2022-07-29T11:52:28.492028Z",
     "iopub.status.busy": "2022-07-29T11:52:28.491394Z",
     "iopub.status.idle": "2022-07-29T11:52:32.331934Z",
     "shell.execute_reply": "2022-07-29T11:52:32.331052Z"
    },
    "id": "enZ300Bflq80"
   },
   "outputs": [
    {
     "name": "stderr",
     "output_type": "stream",
     "text": [
      "2022-08-07 21:03:13.004676: W tensorflow/stream_executor/platform/default/dso_loader.cc:64] Could not load dynamic library 'libcudart.so.11.0'; dlerror: libcudart.so.11.0: cannot open shared object file: No such file or directory\n",
      "2022-08-07 21:03:13.004701: I tensorflow/stream_executor/cuda/cudart_stub.cc:29] Ignore above cudart dlerror if you do not have a GPU set up on your machine.\n",
      "2022-08-07 21:03:14.582280: I tensorflow/stream_executor/cuda/cuda_gpu_executor.cc:939] successful NUMA node read from SysFS had negative value (-1), but there must be at least one NUMA node, so returning NUMA node zero\n",
      "2022-08-07 21:03:14.582630: W tensorflow/stream_executor/platform/default/dso_loader.cc:64] Could not load dynamic library 'libcudart.so.11.0'; dlerror: libcudart.so.11.0: cannot open shared object file: No such file or directory\n",
      "2022-08-07 21:03:14.582766: W tensorflow/stream_executor/platform/default/dso_loader.cc:64] Could not load dynamic library 'libcublas.so.11'; dlerror: libcublas.so.11: cannot open shared object file: No such file or directory\n",
      "2022-08-07 21:03:14.582854: W tensorflow/stream_executor/platform/default/dso_loader.cc:64] Could not load dynamic library 'libcublasLt.so.11'; dlerror: libcublasLt.so.11: cannot open shared object file: No such file or directory\n",
      "2022-08-07 21:03:14.584838: W tensorflow/stream_executor/platform/default/dso_loader.cc:64] Could not load dynamic library 'libcusolver.so.11'; dlerror: libcusolver.so.11: cannot open shared object file: No such file or directory\n",
      "2022-08-07 21:03:14.584911: W tensorflow/stream_executor/platform/default/dso_loader.cc:64] Could not load dynamic library 'libcusparse.so.11'; dlerror: libcusparse.so.11: cannot open shared object file: No such file or directory\n",
      "2022-08-07 21:03:14.584970: W tensorflow/stream_executor/platform/default/dso_loader.cc:64] Could not load dynamic library 'libcudnn.so.8'; dlerror: libcudnn.so.8: cannot open shared object file: No such file or directory\n",
      "2022-08-07 21:03:14.584980: W tensorflow/core/common_runtime/gpu/gpu_device.cc:1850] Cannot dlopen some GPU libraries. Please make sure the missing libraries mentioned above are installed properly if you would like to use GPU. Follow the guide at https://www.tensorflow.org/install/gpu for how to download and setup the required libraries for your platform.\n",
      "Skipping registering GPU devices...\n",
      "2022-08-07 21:03:14.585250: I tensorflow/core/platform/cpu_feature_guard.cc:151] This TensorFlow binary is optimized with oneAPI Deep Neural Network Library (oneDNN) to use the following CPU instructions in performance-critical operations:  AVX2 FMA\n",
      "To enable them in other operations, rebuild TensorFlow with the appropriate compiler flags.\n"
     ]
    }
   ],
   "source": [
    "import tensorflow as tf\n",
    "import tensorflow_quantum as tfq\n",
    "\n",
    "import sympy\n",
    "import cirq\n",
    "import matplotlib.image as mpimg\n",
    "import matplotlib.pyplot as plt\n",
    "\n",
    "\n",
    "import numpy as np\n",
    "\n",
    "# visualization tools\n",
    "%matplotlib inline\n",
    "import matplotlib.pyplot as plt\n",
    "from cirq.contrib.svg import SVGCircuit"
   ]
  },
  {
   "cell_type": "markdown",
   "metadata": {
    "colab_type": "text",
    "id": "b08Mmbs8lr81"
   },
   "source": [
    "## 1. The Basics"
   ]
  },
  {
   "cell_type": "markdown",
   "metadata": {
    "colab_type": "text",
    "id": "y31qSRCczI-L"
   },
   "source": [
    "### 1.1 Cirq and parameterized quantum circuits\n",
    "\n",
    "Before exploring TensorFlow Quantum (TFQ), let's look at some <a target=\"_blank\" href=\"https://github.com/quantumlib/Cirq\" class=\"external\">Cirq</a> basics. Cirq is a Python library for quantum computing from Google. You use it to define circuits, including static and parameterized gates.\n",
    "\n",
    "Cirq uses <a target=\"_blank\" href=\"https://www.sympy.org\" class=\"external\">SymPy</a> symbols to represent free parameters."
   ]
  },
  {
   "cell_type": "code",
   "execution_count": 6,
   "metadata": {
    "colab": {},
    "colab_type": "code",
    "execution": {
     "iopub.execute_input": "2022-07-29T11:52:32.336551Z",
     "iopub.status.busy": "2022-07-29T11:52:32.335317Z",
     "iopub.status.idle": "2022-07-29T11:52:32.339906Z",
     "shell.execute_reply": "2022-07-29T11:52:32.339259Z"
    },
    "id": "2yQdmhQLCrzQ"
   },
   "outputs": [],
   "source": [
    "a, b = sympy.symbols('a b')"
   ]
  },
  {
   "cell_type": "markdown",
   "metadata": {
    "colab_type": "text",
    "id": "itUlpbKmDYNW"
   },
   "source": [
    "The following code creates a two-qubit circuit using your parameters:"
   ]
  },
  {
   "cell_type": "code",
   "execution_count": 7,
   "metadata": {
    "colab": {},
    "colab_type": "code",
    "execution": {
     "iopub.execute_input": "2022-07-29T11:52:32.343249Z",
     "iopub.status.busy": "2022-07-29T11:52:32.342687Z",
     "iopub.status.idle": "2022-07-29T11:52:32.463611Z",
     "shell.execute_reply": "2022-07-29T11:52:32.462936Z"
    },
    "id": "Ps-pd2mndXs7"
   },
   "outputs": [
    {
     "name": "stderr",
     "output_type": "stream",
     "text": [
      "findfont: Font family ['Arial'] not found. Falling back to DejaVu Sans.\n"
     ]
    },
    {
     "data": {
      "image/svg+xml": "<svg xmlns=\"http://www.w3.org/2000/svg\" width=\"298.62578125\" height=\"100.0\"><line x1=\"34.7588671875\" x2=\"268.62578125\" y1=\"25.0\" y2=\"25.0\" stroke=\"#1967d2\" stroke-width=\"1\" /><line x1=\"34.7588671875\" x2=\"268.62578125\" y1=\"75.0\" y2=\"75.0\" stroke=\"#1967d2\" stroke-width=\"1\" /><line x1=\"228.62578125\" x2=\"228.62578125\" y1=\"25.0\" y2=\"75.0\" stroke=\"black\" stroke-width=\"3\" /><rect x=\"10.0\" y=\"5.0\" width=\"49.517734375\" height=\"40\" stroke=\"black\" fill=\"white\" stroke-width=\"0\" /><text x=\"34.7588671875\" y=\"25.0\" dominant-baseline=\"middle\" text-anchor=\"middle\" font-size=\"14px\" font-family=\"Arial\">(0, 0): </text><rect x=\"10.0\" y=\"55.0\" width=\"49.517734375\" height=\"40\" stroke=\"black\" fill=\"white\" stroke-width=\"0\" /><text x=\"34.7588671875\" y=\"75.0\" dominant-baseline=\"middle\" text-anchor=\"middle\" font-size=\"14px\" font-family=\"Arial\">(0, 1): </text><rect x=\"79.517734375\" y=\"5.0\" width=\"44.9390234375\" height=\"40\" stroke=\"black\" fill=\"white\" stroke-width=\"1\" /><text x=\"101.98724609375\" y=\"25.0\" dominant-baseline=\"middle\" text-anchor=\"middle\" font-size=\"14px\" font-family=\"Arial\">Rx(a)</text><rect x=\"79.517734375\" y=\"55.0\" width=\"44.9390234375\" height=\"40\" stroke=\"black\" fill=\"white\" stroke-width=\"1\" /><text x=\"101.98724609375\" y=\"75.0\" dominant-baseline=\"middle\" text-anchor=\"middle\" font-size=\"14px\" font-family=\"Arial\">Ry(b)</text><rect x=\"144.4567578125\" y=\"55.0\" width=\"44.1690234375\" height=\"40\" stroke=\"black\" fill=\"white\" stroke-width=\"1\" /><text x=\"166.54126953125\" y=\"75.0\" dominant-baseline=\"middle\" text-anchor=\"middle\" font-size=\"14px\" font-family=\"Arial\">Ry(a)</text><circle cx=\"228.62578125\" cy=\"25.0\" r=\"10.0\" /><rect x=\"208.62578125\" y=\"55.0\" width=\"40\" height=\"40\" stroke=\"black\" fill=\"white\" stroke-width=\"1\" /><text x=\"228.62578125\" y=\"75.0\" dominant-baseline=\"middle\" text-anchor=\"middle\" font-size=\"18px\" font-family=\"Arial\">X</text></svg>",
      "text/plain": [
       "<cirq.contrib.svg.svg.SVGCircuit at 0x7f894011c6d0>"
      ]
     },
     "execution_count": 7,
     "metadata": {},
     "output_type": "execute_result"
    }
   ],
   "source": [
    "# Create two qubits\n",
    "q0, q1 = cirq.GridQubit.rect(1, 2)\n",
    "\n",
    "# Create a circuit on these qubits using the parameters you created above.\n",
    "circuit = cirq.Circuit(\n",
    "    cirq.rx(a).on(q0),\n",
    "    cirq.ry(b).on(q1), cirq.ry(a).on(q1), cirq.CNOT(control=q0, target=q1))\n",
    "\n",
    "SVGCircuit(circuit)"
   ]
  },
  {
   "cell_type": "markdown",
   "metadata": {
    "colab_type": "text",
    "id": "zcCX109cJUaz"
   },
   "source": [
    "To evaluate circuits, you can use the `cirq.Simulator` interface. You replace free parameters in a circuit with specific numbers by passing in a `cirq.ParamResolver` object. The following code calculates the raw state vector output of your parameterized circuit:"
   ]
  },
  {
   "cell_type": "code",
   "execution_count": 8,
   "metadata": {
    "colab": {},
    "colab_type": "code",
    "execution": {
     "iopub.execute_input": "2022-07-29T11:52:32.467038Z",
     "iopub.status.busy": "2022-07-29T11:52:32.466486Z",
     "iopub.status.idle": "2022-07-29T11:52:32.475908Z",
     "shell.execute_reply": "2022-07-29T11:52:32.475264Z"
    },
    "id": "VMq7EayNRyQb"
   },
   "outputs": [
    {
     "data": {
      "text/plain": [
       "array([0.9689124+0.j        , 0.       +0.j        ,\n",
       "       0.       +0.j        , 0.       -0.24740396j], dtype=complex64)"
      ]
     },
     "execution_count": 8,
     "metadata": {},
     "output_type": "execute_result"
    }
   ],
   "source": [
    "# Calculate a state vector with a=0.5 and b=-0.5.\n",
    "resolver = cirq.ParamResolver({a: 0.5, b: -0.5})\n",
    "output_state_vector = cirq.Simulator().simulate(circuit, resolver).final_state_vector\n",
    "output_state_vector"
   ]
  },
  {
   "cell_type": "markdown",
   "metadata": {
    "colab_type": "text",
    "id": "-SUlLpXBeicF"
   },
   "source": [
    "State vectors are not directly accessible outside of simulation (notice the complex numbers in the output above). To be physically realistic, you must specify a measurement, which converts a state vector into a real number that classical computers can understand. Cirq specifies measurements using combinations of the <a target=\"_blank\" href=\"https://en.wikipedia.org/wiki/Pauli_matrices\" class=\"external\">Pauli operators</a> $\\hat{X}$, $\\hat{Y}$, and $\\hat{Z}$. As illustration, the following code measures $\\hat{Z}_0$ and $\\frac{1}{2}\\hat{Z}_0 + \\hat{X}_1$ on the state vector you just simulated:"
   ]
  },
  {
   "cell_type": "code",
   "execution_count": 9,
   "metadata": {
    "colab": {},
    "colab_type": "code",
    "execution": {
     "iopub.execute_input": "2022-07-29T11:52:32.479379Z",
     "iopub.status.busy": "2022-07-29T11:52:32.478696Z",
     "iopub.status.idle": "2022-07-29T11:52:32.484208Z",
     "shell.execute_reply": "2022-07-29T11:52:32.483564Z"
    },
    "id": "hrSnOCi3ehr_",
    "scrolled": true
   },
   "outputs": [
    {
     "data": {
      "text/plain": [
       "0.8775825500488281"
      ]
     },
     "execution_count": 9,
     "metadata": {},
     "output_type": "execute_result"
    }
   ],
   "source": [
    "z0 = cirq.Z(q0)\n",
    "\n",
    "qubit_map={q0: 0, q1: 1}\n",
    "\n",
    "z0.expectation_from_state_vector(output_state_vector, qubit_map).real"
   ]
  },
  {
   "cell_type": "code",
   "execution_count": 10,
   "metadata": {
    "colab": {},
    "colab_type": "code",
    "execution": {
     "iopub.execute_input": "2022-07-29T11:52:32.487351Z",
     "iopub.status.busy": "2022-07-29T11:52:32.486780Z",
     "iopub.status.idle": "2022-07-29T11:52:32.492158Z",
     "shell.execute_reply": "2022-07-29T11:52:32.491529Z"
    },
    "id": "OZ0lWFXv6pII"
   },
   "outputs": [
    {
     "data": {
      "text/plain": [
       "0.43879127502441406"
      ]
     },
     "execution_count": 10,
     "metadata": {},
     "output_type": "execute_result"
    }
   ],
   "source": [
    "z0x1 = 0.5 * z0 + cirq.X(q1)\n",
    "\n",
    "z0x1.expectation_from_state_vector(output_state_vector, qubit_map).real"
   ]
  },
  {
   "cell_type": "markdown",
   "metadata": {
    "colab_type": "text",
    "id": "bkC-yjIolDNr"
   },
   "source": [
    "### 1.2 Quantum circuits as tensors\n",
    "\n",
    "TensorFlow Quantum (TFQ) provides `tfq.convert_to_tensor`, a function that converts Cirq objects into tensors. This allows you to send Cirq objects to our <a target=\"_blank\" href=\"https://www.tensorflow.org/quantum/api_docs/python/tfq/layers\">quantum layers</a> and <a target=\"_blank\" href=\"https://www.tensorflow.org/quantum/api_docs/python/tfq/get_expectation_op\">quantum ops</a>. The function can be called on lists or arrays of Cirq Circuits and Cirq Paulis:"
   ]
  },
  {
   "cell_type": "code",
   "execution_count": 11,
   "metadata": {
    "colab": {},
    "colab_type": "code",
    "execution": {
     "iopub.execute_input": "2022-07-29T11:52:32.495501Z",
     "iopub.status.busy": "2022-07-29T11:52:32.494922Z",
     "iopub.status.idle": "2022-07-29T11:52:32.506627Z",
     "shell.execute_reply": "2022-07-29T11:52:32.505962Z"
    },
    "id": "1gLQjA02mIyy",
    "scrolled": true
   },
   "outputs": [
    {
     "name": "stdout",
     "output_type": "stream",
     "text": [
      "(1,)\n",
      "<dtype: 'string'>\n"
     ]
    }
   ],
   "source": [
    "# Rank 1 tensor containing 1 circuit.\n",
    "circuit_tensor = tfq.convert_to_tensor([circuit])\n",
    "print(circuit_tensor.shape)\n",
    "print(circuit_tensor.dtype)\n"
   ]
  },
  {
   "cell_type": "markdown",
   "metadata": {
    "colab_type": "text",
    "id": "SJy6AkbU6pIP"
   },
   "source": [
    "This encodes the Cirq objects as `tf.string` tensors that `tfq` operations decode as needed."
   ]
  },
  {
   "cell_type": "code",
   "execution_count": 12,
   "metadata": {
    "colab": {},
    "colab_type": "code",
    "execution": {
     "iopub.execute_input": "2022-07-29T11:52:32.509943Z",
     "iopub.status.busy": "2022-07-29T11:52:32.509358Z",
     "iopub.status.idle": "2022-07-29T11:52:32.514398Z",
     "shell.execute_reply": "2022-07-29T11:52:32.513747Z"
    },
    "id": "aX_vEmCKmpQS"
   },
   "outputs": [
    {
     "data": {
      "text/plain": [
       "TensorShape([2])"
      ]
     },
     "execution_count": 12,
     "metadata": {},
     "output_type": "execute_result"
    }
   ],
   "source": [
    "# Rank 1 tensor containing 2 Pauli operators.\n",
    "pauli_tensor = tfq.convert_to_tensor([z0, z0x1])\n",
    "pauli_tensor.shape"
   ]
  },
  {
   "cell_type": "markdown",
   "metadata": {
    "colab_type": "text",
    "id": "FI1JLWe6m8JF"
   },
   "source": [
    "### 1.3 Batching circuit simulation\n",
    "\n",
    "TFQ provides methods for computing expectation values, samples, and state vectors. For now, let's focus on *expectation values*.\n",
    "\n",
    "The highest-level interface for calculating expectation values is the `tfq.layers.Expectation` layer, which is a `tf.keras.Layer`. In its simplest form, this layer is equivalent to simulating a parameterized circuit over many `cirq.ParamResolvers`; however, TFQ allows batching following TensorFlow semantics, and circuits are simulated using efficient C++ code.\n",
    "\n",
    "Create a batch of values to substitute for our `a` and `b` parameters:"
   ]
  },
  {
   "cell_type": "code",
   "execution_count": 13,
   "metadata": {
    "colab": {},
    "colab_type": "code",
    "execution": {
     "iopub.execute_input": "2022-07-29T11:52:32.517585Z",
     "iopub.status.busy": "2022-07-29T11:52:32.517023Z",
     "iopub.status.idle": "2022-07-29T11:52:32.520723Z",
     "shell.execute_reply": "2022-07-29T11:52:32.520056Z"
    },
    "id": "1fsVZhF5lIXp"
   },
   "outputs": [
    {
     "data": {
      "text/plain": [
       "array([[2.7232418 , 3.0224206 ],\n",
       "       [6.07581   , 0.74951273],\n",
       "       [3.2378688 , 5.0172834 ],\n",
       "       [5.569542  , 4.1560574 ],\n",
       "       [0.91476464, 1.7806989 ]], dtype=float32)"
      ]
     },
     "execution_count": 13,
     "metadata": {},
     "output_type": "execute_result"
    }
   ],
   "source": [
    "batch_vals = np.array(np.random.uniform(0, 2 * np.pi, (5, 2)), dtype=np.float32)\n",
    "batch_vals"
   ]
  },
  {
   "cell_type": "markdown",
   "metadata": {
    "colab_type": "text",
    "id": "Ip7jlGXIf22u"
   },
   "source": [
    "Batching circuit execution over parameter values in Cirq requires a loop:"
   ]
  },
  {
   "cell_type": "code",
   "execution_count": 14,
   "metadata": {
    "colab": {},
    "colab_type": "code",
    "execution": {
     "iopub.execute_input": "2022-07-29T11:52:32.523979Z",
     "iopub.status.busy": "2022-07-29T11:52:32.523402Z",
     "iopub.status.idle": "2022-07-29T11:52:32.536764Z",
     "shell.execute_reply": "2022-07-29T11:52:32.536089Z"
    },
    "id": "RsfF53UCJtr9"
   },
   "outputs": [
    {
     "name": "stdout",
     "output_type": "stream",
     "text": [
      "cirq batch results: \n",
      " [[-0.91376013]\n",
      " [ 0.97857469]\n",
      " [-0.99536902]\n",
      " [ 0.75598192]\n",
      " [ 0.60997707]]\n"
     ]
    }
   ],
   "source": [
    "cirq_results = []\n",
    "cirq_simulator = cirq.Simulator()\n",
    "\n",
    "for vals in batch_vals:\n",
    "    resolver = cirq.ParamResolver({a: vals[0], b: vals[1]})\n",
    "    final_state_vector = cirq_simulator.simulate(circuit, resolver).final_state_vector\n",
    "    cirq_results.append(\n",
    "        [z0.expectation_from_state_vector(final_state_vector, {\n",
    "            q0: 0,\n",
    "            q1: 1\n",
    "        }).real])\n",
    "\n",
    "print('cirq batch results: \\n {}'.format(np.array(cirq_results)))"
   ]
  },
  {
   "cell_type": "markdown",
   "metadata": {
    "colab_type": "text",
    "id": "W0JlZEu-f9Ac"
   },
   "source": [
    "The same operation is simplified in TFQ:"
   ]
  },
  {
   "cell_type": "code",
   "execution_count": 15,
   "metadata": {
    "colab": {},
    "colab_type": "code",
    "execution": {
     "iopub.execute_input": "2022-07-29T11:52:32.540078Z",
     "iopub.status.busy": "2022-07-29T11:52:32.539505Z",
     "iopub.status.idle": "2022-07-29T11:52:32.559525Z",
     "shell.execute_reply": "2022-07-29T11:52:32.558861Z"
    },
    "id": "kGZVdcZ6y9lC"
   },
   "outputs": [
    {
     "data": {
      "text/plain": [
       "<tf.Tensor: shape=(5, 1), dtype=float32, numpy=\n",
       "array([[-0.9137606 ],\n",
       "       [ 0.97857517],\n",
       "       [-0.995369  ],\n",
       "       [ 0.75598323],\n",
       "       [ 0.60997677]], dtype=float32)>"
      ]
     },
     "execution_count": 15,
     "metadata": {},
     "output_type": "execute_result"
    }
   ],
   "source": [
    "tfq.layers.Expectation()(circuit,\n",
    "                         symbol_names=[a, b],\n",
    "                         symbol_values=batch_vals,\n",
    "                         operators=z0)"
   ]
  },
  {
   "cell_type": "markdown",
   "metadata": {
    "colab_type": "text",
    "id": "wppQ3TJ23mWC"
   },
   "source": [
    "## 2. Hybrid quantum-classical optimization\n",
    "\n",
    "Now that you've seen the basics, let's use TensorFlow Quantum to construct a *hybrid quantum-classical neural net*. You will train a classical neural net to control a single qubit. The control will be optimized to correctly prepare the qubit in the `0` or `1` state, overcoming a simulated systematic calibration error. This figure shows the architecture:\n",
    "\n",
    "Even without a neural network this is a straightforward problem to solve, but the theme is similar to the real quantum control problems you might solve using TFQ. It demonstrates an end-to-end example of a quantum-classical computation using the `tfq.layers.ControlledPQC` (Parametrized Quantum Circuit) layer inside of a `tf.keras.Model`."
   ]
  },
  {
   "cell_type": "markdown",
   "metadata": {
    "colab_type": "text",
    "id": "NlyxF3Q-6pIe"
   },
   "source": [
    "For the implementation of this tutorial, this architecture is split into 3 parts:\n",
    "\n",
    "- The *input circuit* or *datapoint circuit*: The first three $R$ gates.\n",
    "- The *controlled circuit*: The other three $R$ gates.\n",
    "- The *controller*: The classical neural-network setting the parameters of the controlled circuit."
   ]
  },
  {
   "cell_type": "code",
   "execution_count": 16,
   "metadata": {},
   "outputs": [
    {
     "data": {
      "image/png": "[encoded data removed]",
      "text/plain": [
       "<Figure size 1440x864 with 1 Axes>"
      ]
     },
     "metadata": {
      "needs_background": "light"
     },
     "output_type": "display_data"
    }
   ],
   "source": [
    "img = mpimg.imread('/home/theone/other_models/Quantum_Start/nn_control1.png')\n",
    "plt.figure(figsize = (20,12))\n",
    "imgplot = plt.imshow(img)\n",
    "plt.show()"
   ]
  },
  {
   "cell_type": "markdown",
   "metadata": {
    "colab_type": "text",
    "id": "VjDf-nTM6ZSs"
   },
   "source": [
    "### 2.1 The controlled circuit definition\n",
    "\n",
    "Define a learnable single bit rotation, as indicated in the figure above. This will correspond to our controlled circuit."
   ]
  },
  {
   "cell_type": "code",
   "execution_count": 17,
   "metadata": {
    "colab": {},
    "colab_type": "code",
    "execution": {
     "iopub.execute_input": "2022-07-29T11:52:32.563034Z",
     "iopub.status.busy": "2022-07-29T11:52:32.562468Z",
     "iopub.status.idle": "2022-07-29T11:52:32.677406Z",
     "shell.execute_reply": "2022-07-29T11:52:32.676744Z"
    },
    "id": "N-j7SCl-51-q"
   },
   "outputs": [
    {
     "data": {
      "image/svg+xml": "<svg xmlns=\"http://www.w3.org/2000/svg\" width=\"435.74449218750004\" height=\"50.0\"><line x1=\"34.7588671875\" x2=\"405.74449218750004\" y1=\"25.0\" y2=\"25.0\" stroke=\"#1967d2\" stroke-width=\"1\" /><rect x=\"10.0\" y=\"5.0\" width=\"49.517734375\" height=\"40\" stroke=\"black\" fill=\"white\" stroke-width=\"0\" /><text x=\"34.7588671875\" y=\"25.0\" dominant-baseline=\"middle\" text-anchor=\"middle\" font-size=\"14px\" font-family=\"Arial\">(0, 0): </text><rect x=\"79.517734375\" y=\"5.0\" width=\"88.37457031250001\" height=\"40\" stroke=\"black\" fill=\"white\" stroke-width=\"1\" /><text x=\"123.70501953125\" y=\"25.0\" dominant-baseline=\"middle\" text-anchor=\"middle\" font-size=\"14px\" font-family=\"Arial\">Rz(theta_1)</text><rect x=\"187.89230468750003\" y=\"5.0\" width=\"88.54109375\" height=\"40\" stroke=\"black\" fill=\"white\" stroke-width=\"1\" /><text x=\"232.16285156250004\" y=\"25.0\" dominant-baseline=\"middle\" text-anchor=\"middle\" font-size=\"14px\" font-family=\"Arial\">Ry(theta_2)</text><rect x=\"296.43339843750005\" y=\"5.0\" width=\"89.31109375000001\" height=\"40\" stroke=\"black\" fill=\"white\" stroke-width=\"1\" /><text x=\"341.0889453125001\" y=\"25.0\" dominant-baseline=\"middle\" text-anchor=\"middle\" font-size=\"14px\" font-family=\"Arial\">Rx(theta_3)</text></svg>",
      "text/plain": [
       "<cirq.contrib.svg.svg.SVGCircuit at 0x7f88c889a970>"
      ]
     },
     "execution_count": 17,
     "metadata": {},
     "output_type": "execute_result"
    }
   ],
   "source": [
    "# Parameters that the classical NN will feed values into.\n",
    "control_params = sympy.symbols('theta_1 theta_2 theta_3')\n",
    "\n",
    "# Create the parameterized circuit.\n",
    "qubit = cirq.GridQubit(0, 0)\n",
    "model_circuit = cirq.Circuit(\n",
    "    cirq.rz(control_params[0])(qubit),\n",
    "    cirq.ry(control_params[1])(qubit),\n",
    "    cirq.rx(control_params[2])(qubit))\n",
    "\n",
    "SVGCircuit(model_circuit)"
   ]
  },
  {
   "cell_type": "markdown",
   "metadata": {
    "colab_type": "text",
    "id": "wfjSbsvb7g9f"
   },
   "source": [
    "### 2.2 The controller\n",
    "\n",
    "Now define controller network: "
   ]
  },
  {
   "cell_type": "code",
   "execution_count": 18,
   "metadata": {
    "colab": {},
    "colab_type": "code",
    "execution": {
     "iopub.execute_input": "2022-07-29T11:52:32.680752Z",
     "iopub.status.busy": "2022-07-29T11:52:32.680234Z",
     "iopub.status.idle": "2022-07-29T11:52:32.690831Z",
     "shell.execute_reply": "2022-07-29T11:52:32.690188Z"
    },
    "id": "1v4CK2jD6pIj"
   },
   "outputs": [],
   "source": [
    "# The classical neural network layers.\n",
    "controller = tf.keras.Sequential([\n",
    "    tf.keras.layers.Dense(10, activation='elu'),\n",
    "    tf.keras.layers.Dense(3)\n",
    "])"
   ]
  },
  {
   "cell_type": "markdown",
   "metadata": {
    "colab_type": "text",
    "id": "QNimbsAt6pIm"
   },
   "source": [
    "Given a batch of commands, the controller outputs a batch of control signals for the controlled circuit. \n",
    "\n",
    "The controller is randomly initialized so these outputs are not useful, yet."
   ]
  },
  {
   "cell_type": "code",
   "execution_count": 19,
   "metadata": {
    "colab": {},
    "colab_type": "code",
    "execution": {
     "iopub.execute_input": "2022-07-29T11:52:32.694123Z",
     "iopub.status.busy": "2022-07-29T11:52:32.693532Z",
     "iopub.status.idle": "2022-07-29T11:52:32.740892Z",
     "shell.execute_reply": "2022-07-29T11:52:32.740252Z"
    },
    "id": "kZbYRTe16pIm"
   },
   "outputs": [
    {
     "data": {
      "text/plain": [
       "array([[ 0.        ,  0.        ,  0.        ],\n",
       "       [ 0.66292787,  0.8601359 , -0.4959787 ]], dtype=float32)"
      ]
     },
     "execution_count": 19,
     "metadata": {},
     "output_type": "execute_result"
    }
   ],
   "source": [
    "controller(tf.constant([[0.0],[1.0]])).numpy()"
   ]
  },
  {
   "cell_type": "markdown",
   "metadata": {
    "colab_type": "text",
    "id": "XizLExg56pIp"
   },
   "source": [
    "### 2.3 Connect the controller to the circuit"
   ]
  },
  {
   "cell_type": "markdown",
   "metadata": {
    "colab_type": "text",
    "id": "I5Pmy5-V6pIq"
   },
   "source": [
    "Use `tfq` to connect the controller to the controlled circuit, as a single `keras.Model`. \n",
    "\n",
    "See the [Keras Functional API guide](https://www.tensorflow.org/guide/keras/functional) for more about this style of model definition.\n",
    "\n",
    "First define the inputs to the model:  "
   ]
  },
  {
   "cell_type": "code",
   "execution_count": 20,
   "metadata": {
    "colab": {},
    "colab_type": "code",
    "execution": {
     "iopub.execute_input": "2022-07-29T11:52:32.744485Z",
     "iopub.status.busy": "2022-07-29T11:52:32.743853Z",
     "iopub.status.idle": "2022-07-29T11:52:32.749641Z",
     "shell.execute_reply": "2022-07-29T11:52:32.748995Z"
    },
    "id": "UfHF8NNE6pIr"
   },
   "outputs": [],
   "source": [
    "# This input is the simulated miscalibration that the model will learn to correct.\n",
    "circuits_input = tf.keras.Input(shape=(),\n",
    "                                # The circuit-tensor has dtype `tf.string` \n",
    "                                dtype=tf.string,\n",
    "                                name='circuits_input')\n",
    "\n",
    "# Commands will be either `0` or `1`, specifying the state to set the qubit to.\n",
    "commands_input = tf.keras.Input(shape=(1,),\n",
    "                                dtype=tf.dtypes.float32,\n",
    "                                name='commands_input')\n"
   ]
  },
  {
   "cell_type": "markdown",
   "metadata": {
    "colab_type": "text",
    "id": "y9xN2mNl6pIu"
   },
   "source": [
    "Next apply operations to those inputs, to define the computation."
   ]
  },
  {
   "cell_type": "code",
   "execution_count": 21,
   "metadata": {
    "colab": {},
    "colab_type": "code",
    "execution": {
     "iopub.execute_input": "2022-07-29T11:52:32.752926Z",
     "iopub.status.busy": "2022-07-29T11:52:32.752359Z",
     "iopub.status.idle": "2022-07-29T11:52:33.954859Z",
     "shell.execute_reply": "2022-07-29T11:52:33.954100Z"
    },
    "id": "Zvt2YGmZ6pIu"
   },
   "outputs": [],
   "source": [
    "dense_2 = controller(commands_input)\n",
    "\n",
    "# TFQ layer for classically controlled circuits.\n",
    "expectation_layer = tfq.layers.ControlledPQC(model_circuit,\n",
    "                                             # Observe Z\n",
    "                                             operators = cirq.Z(qubit))\n",
    "expectation = expectation_layer([circuits_input, dense_2])"
   ]
  },
  {
   "cell_type": "markdown",
   "metadata": {
    "colab_type": "text",
    "id": "Ip2jNA9h6pIy"
   },
   "source": [
    "Now package this computation as a `tf.keras.Model`:"
   ]
  },
  {
   "cell_type": "code",
   "execution_count": 22,
   "metadata": {
    "colab": {},
    "colab_type": "code",
    "execution": {
     "iopub.execute_input": "2022-07-29T11:52:33.959419Z",
     "iopub.status.busy": "2022-07-29T11:52:33.958782Z",
     "iopub.status.idle": "2022-07-29T11:52:33.965488Z",
     "shell.execute_reply": "2022-07-29T11:52:33.964774Z"
    },
    "id": "Xs6EMhah6pIz"
   },
   "outputs": [],
   "source": [
    "# The full Keras model is built from our layers.\n",
    "model = tf.keras.Model(inputs=[circuits_input, commands_input],\n",
    "                       outputs=expectation)"
   ]
  },
  {
   "cell_type": "markdown",
   "metadata": {
    "colab_type": "text",
    "id": "w7kgqm3t6pI3"
   },
   "source": [
    "The network architecture is indicated by the plot of the model below.\n",
    "Compare this model plot to the architecture diagram to verify correctness.\n",
    "\n",
    "Note: May require a system install of the `graphviz` package."
   ]
  },
  {
   "cell_type": "code",
   "execution_count": 23,
   "metadata": {
    "colab": {},
    "colab_type": "code",
    "execution": {
     "iopub.execute_input": "2022-07-29T11:52:33.968895Z",
     "iopub.status.busy": "2022-07-29T11:52:33.968386Z",
     "iopub.status.idle": "2022-07-29T11:52:33.991475Z",
     "shell.execute_reply": "2022-07-29T11:52:33.990313Z"
    },
    "id": "ERXNPe4F6pI4"
   },
   "outputs": [
    {
     "data": {
      "image/png": "[encoded data removed]",
      "text/plain": [
       "<IPython.core.display.Image object>"
      ]
     },
     "execution_count": 23,
     "metadata": {},
     "output_type": "execute_result"
    }
   ],
   "source": [
    "tf.keras.utils.plot_model(model, show_shapes=True, dpi=70)"
   ]
  },
  {
   "cell_type": "markdown",
   "metadata": {
    "colab_type": "text",
    "id": "-Pbemgww6pI7"
   },
   "source": [
    "This model takes two inputs: The commands for the controller, and the input-circuit whose output the controller is attempting to correct. "
   ]
  },
  {
   "cell_type": "markdown",
   "metadata": {
    "colab_type": "text",
    "id": "hpnIBK916pI8"
   },
   "source": [
    "### 2.4 The dataset"
   ]
  },
  {
   "cell_type": "markdown",
   "metadata": {
    "colab_type": "text",
    "id": "yJSC9qH76pJA"
   },
   "source": [
    "The model attempts to output the correct correct measurement value of $\\hat{Z}$ for each command. The commands and correct values are defined below."
   ]
  },
  {
   "cell_type": "code",
   "execution_count": 24,
   "metadata": {
    "colab": {},
    "colab_type": "code",
    "execution": {
     "iopub.execute_input": "2022-07-29T11:52:33.995925Z",
     "iopub.status.busy": "2022-07-29T11:52:33.995194Z",
     "iopub.status.idle": "2022-07-29T11:52:33.999801Z",
     "shell.execute_reply": "2022-07-29T11:52:33.999136Z"
    },
    "id": "ciMIJAuH6pJA"
   },
   "outputs": [],
   "source": [
    "# The command input values to the classical NN.\n",
    "commands = np.array([[0], [1]], dtype=np.float32)\n",
    "\n",
    "# The desired Z expectation value at output of quantum circuit.\n",
    "expected_outputs = np.array([[1], [-1]], dtype=np.float32)"
   ]
  },
  {
   "cell_type": "markdown",
   "metadata": {
    "colab_type": "text",
    "id": "kV1LM_hZ6pJD"
   },
   "source": [
    "This is not the entire training dataset for this task. \n",
    "Each datapoint in the dataset also needs an input circuit."
   ]
  },
  {
   "cell_type": "markdown",
   "metadata": {
    "colab_type": "text",
    "id": "bbiVHvSYVW4H"
   },
   "source": [
    "### 2.4 Input circuit definition\n",
    "\n",
    "The input-circuit below defines the random miscalibration the model will learn to correct."
   ]
  },
  {
   "cell_type": "code",
   "execution_count": 39,
   "metadata": {
    "colab": {},
    "colab_type": "code",
    "execution": {
     "iopub.execute_input": "2022-07-29T11:52:34.003211Z",
     "iopub.status.busy": "2022-07-29T11:52:34.002678Z",
     "iopub.status.idle": "2022-07-29T11:52:34.010933Z",
     "shell.execute_reply": "2022-07-29T11:52:34.010266Z"
    },
    "id": "_VYfzHffWo7n"
   },
   "outputs": [
    {
     "data": {
      "text/plain": [
       "<tf.Tensor: shape=(2,), dtype=string, numpy=\n",
       "array([b'\\n\\x0e\\n\\x0ctfq_gate_set\\x12\\xa9\\x03\\x08\\x01\\x12\\x8a\\x01\\n\\x87\\x01\\n\\x04\\n\\x02XP\\x12\\x16\\n\\x0econtrol_values\\x12\\x04\\n\\x02\\x1a\\x00\\x12\\x17\\n\\x0cglobal_shift\\x12\\x07\\n\\x05\\r\\x00\\x00\\x00\\xbf\\x12\\x13\\n\\x08exponent\\x12\\x07\\n\\x05\\r\\xea\\xb0\\xbe?\\x12\\x1a\\n\\x0fexponent_scalar\\x12\\x07\\n\\x05\\r\\x00\\x00\\x80?\\x12\\x16\\n\\x0econtrol_qubits\\x12\\x04\\n\\x02\\x1a\\x00\\x1a\\x05\\x12\\x030_0\\x12\\x8a\\x01\\n\\x87\\x01\\n\\x04\\n\\x02YP\\x12\\x1a\\n\\x0fexponent_scalar\\x12\\x07\\n\\x05\\r\\x00\\x00\\x80?\\x12\\x16\\n\\x0econtrol_values\\x12\\x04\\n\\x02\\x1a\\x00\\x12\\x16\\n\\x0econtrol_qubits\\x12\\x04\\n\\x02\\x1a\\x00\\x12\\x17\\n\\x0cglobal_shift\\x12\\x07\\n\\x05\\r\\x00\\x00\\x00\\xbf\\x12\\x13\\n\\x08exponent\\x12\\x07\\n\\x05\\r\\xf1\\x9e\\x1f?\\x1a\\x05\\x12\\x030_0\\x12\\x8a\\x01\\n\\x87\\x01\\n\\x04\\n\\x02ZP\\x12\\x16\\n\\x0econtrol_qubits\\x12\\x04\\n\\x02\\x1a\\x00\\x12\\x16\\n\\x0econtrol_values\\x12\\x04\\n\\x02\\x1a\\x00\\x12\\x13\\n\\x08exponent\\x12\\x07\\n\\x05\\r\\x95D\\xd8?\\x12\\x1a\\n\\x0fexponent_scalar\\x12\\x07\\n\\x05\\r\\x00\\x00\\x80?\\x12\\x17\\n\\x0cglobal_shift\\x12\\x07\\n\\x05\\r\\x00\\x00\\x00\\xbf\\x1a\\x05\\x12\\x030_0',\n",
       "       b'\\n\\x0e\\n\\x0ctfq_gate_set\\x12\\xa9\\x03\\x08\\x01\\x12\\x8a\\x01\\n\\x87\\x01\\n\\x04\\n\\x02XP\\x12\\x1a\\n\\x0fexponent_scalar\\x12\\x07\\n\\x05\\r\\x00\\x00\\x80?\\x12\\x17\\n\\x0cglobal_shift\\x12\\x07\\n\\x05\\r\\x00\\x00\\x00\\xbf\\x12\\x16\\n\\x0econtrol_values\\x12\\x04\\n\\x02\\x1a\\x00\\x12\\x16\\n\\x0econtrol_qubits\\x12\\x04\\n\\x02\\x1a\\x00\\x12\\x13\\n\\x08exponent\\x12\\x07\\n\\x05\\r\\xea\\xb0\\xbe?\\x1a\\x05\\x12\\x030_0\\x12\\x8a\\x01\\n\\x87\\x01\\n\\x04\\n\\x02YP\\x12\\x13\\n\\x08exponent\\x12\\x07\\n\\x05\\r\\xf1\\x9e\\x1f?\\x12\\x16\\n\\x0econtrol_qubits\\x12\\x04\\n\\x02\\x1a\\x00\\x12\\x16\\n\\x0econtrol_values\\x12\\x04\\n\\x02\\x1a\\x00\\x12\\x17\\n\\x0cglobal_shift\\x12\\x07\\n\\x05\\r\\x00\\x00\\x00\\xbf\\x12\\x1a\\n\\x0fexponent_scalar\\x12\\x07\\n\\x05\\r\\x00\\x00\\x80?\\x1a\\x05\\x12\\x030_0\\x12\\x8a\\x01\\n\\x87\\x01\\n\\x04\\n\\x02ZP\\x12\\x16\\n\\x0econtrol_qubits\\x12\\x04\\n\\x02\\x1a\\x00\\x12\\x1a\\n\\x0fexponent_scalar\\x12\\x07\\n\\x05\\r\\x00\\x00\\x80?\\x12\\x17\\n\\x0cglobal_shift\\x12\\x07\\n\\x05\\r\\x00\\x00\\x00\\xbf\\x12\\x13\\n\\x08exponent\\x12\\x07\\n\\x05\\r\\x95D\\xd8?\\x12\\x16\\n\\x0econtrol_values\\x12\\x04\\n\\x02\\x1a\\x00\\x1a\\x05\\x12\\x030_0'],\n",
       "      dtype=object)>"
      ]
     },
     "execution_count": 39,
     "metadata": {},
     "output_type": "execute_result"
    }
   ],
   "source": [
    "random_rotations = np.random.uniform(0, 2 * np.pi, 3)\n",
    "noisy_preparation = cirq.Circuit(\n",
    "  cirq.rx(random_rotations[0])(qubit),\n",
    "  cirq.ry(random_rotations[1])(qubit),\n",
    "  cirq.rz(random_rotations[2])(qubit)\n",
    ")\n",
    "datapoint_circuits = tfq.convert_to_tensor([\n",
    "  noisy_preparation\n",
    "] * 2)  # Make two copied of this circuit\n",
    "datapoint_circuits"
   ]
  },
  {
   "cell_type": "markdown",
   "metadata": {
    "colab_type": "text",
    "id": "FvOkMyKI6pJI"
   },
   "source": [
    "There are two copies of the circuit, one for each datapoint."
   ]
  },
  {
   "cell_type": "code",
   "execution_count": 26,
   "metadata": {
    "colab": {},
    "colab_type": "code",
    "execution": {
     "iopub.execute_input": "2022-07-29T11:52:34.014265Z",
     "iopub.status.busy": "2022-07-29T11:52:34.013658Z",
     "iopub.status.idle": "2022-07-29T11:52:34.018603Z",
     "shell.execute_reply": "2022-07-29T11:52:34.017928Z"
    },
    "id": "6nk2Yr3e6pJJ"
   },
   "outputs": [
    {
     "data": {
      "text/plain": [
       "TensorShape([2])"
      ]
     },
     "execution_count": 26,
     "metadata": {},
     "output_type": "execute_result"
    }
   ],
   "source": [
    "datapoint_circuits.shape"
   ]
  },
  {
   "cell_type": "markdown",
   "metadata": {
    "colab_type": "text",
    "id": "gB--UhZZYgVY"
   },
   "source": [
    "### 2.5 Training"
   ]
  },
  {
   "cell_type": "markdown",
   "metadata": {
    "colab_type": "text",
    "id": "jATjqUIv6pJM"
   },
   "source": [
    "With the inputs defined you can test-run the `tfq` model."
   ]
  },
  {
   "cell_type": "code",
   "execution_count": 27,
   "metadata": {
    "colab": {},
    "colab_type": "code",
    "execution": {
     "iopub.execute_input": "2022-07-29T11:52:34.021693Z",
     "iopub.status.busy": "2022-07-29T11:52:34.021437Z",
     "iopub.status.idle": "2022-07-29T11:52:34.031479Z",
     "shell.execute_reply": "2022-07-29T11:52:34.030782Z"
    },
    "id": "Lwphqvs96pJO"
   },
   "outputs": [
    {
     "data": {
      "text/plain": [
       "array([[-0.01299015],\n",
       "       [ 0.7779432 ]], dtype=float32)"
      ]
     },
     "execution_count": 27,
     "metadata": {},
     "output_type": "execute_result"
    }
   ],
   "source": [
    "model([datapoint_circuits, commands]).numpy()"
   ]
  },
  {
   "cell_type": "markdown",
   "metadata": {
    "colab_type": "text",
    "id": "9gyg5qSL6pJR"
   },
   "source": [
    "Now run a standard training process to adjust these values towards the `expected_outputs`."
   ]
  },
  {
   "cell_type": "code",
   "execution_count": 28,
   "metadata": {
    "colab": {},
    "colab_type": "code",
    "execution": {
     "iopub.execute_input": "2022-07-29T11:52:34.034851Z",
     "iopub.status.busy": "2022-07-29T11:52:34.034229Z",
     "iopub.status.idle": "2022-07-29T11:52:34.631263Z",
     "shell.execute_reply": "2022-07-29T11:52:34.630463Z"
    },
    "id": "dtPYqbNi8zeZ"
   },
   "outputs": [],
   "source": [
    "optimizer = tf.keras.optimizers.Adam(learning_rate=0.05)\n",
    "loss = tf.keras.losses.MeanSquaredError()\n",
    "model.compile(optimizer=optimizer, loss=loss)\n",
    "history = model.fit(x=[datapoint_circuits, commands],\n",
    "                    y=expected_outputs,\n",
    "                    epochs=30,\n",
    "                    verbose=0)"
   ]
  },
  {
   "cell_type": "code",
   "execution_count": 29,
   "metadata": {
    "colab": {},
    "colab_type": "code",
    "execution": {
     "iopub.execute_input": "2022-07-29T11:52:34.635392Z",
     "iopub.status.busy": "2022-07-29T11:52:34.634769Z",
     "iopub.status.idle": "2022-07-29T11:52:34.809203Z",
     "shell.execute_reply": "2022-07-29T11:52:34.808504Z"
    },
    "id": "azE-qV0OaC1o"
   },
   "outputs": [
    {
     "data": {
      "image/png": "[encoded data removed]",
      "text/plain": [
       "<Figure size 432x288 with 1 Axes>"
      ]
     },
     "metadata": {
      "needs_background": "light"
     },
     "output_type": "display_data"
    }
   ],
   "source": [
    "plt.plot(history.history['loss'])\n",
    "plt.title(\"Learning to Control a Qubit\")\n",
    "plt.xlabel(\"Iterations\")\n",
    "plt.ylabel(\"Error in Control\")\n",
    "plt.show()"
   ]
  },
  {
   "cell_type": "markdown",
   "metadata": {
    "colab_type": "text",
    "id": "GTd5DGcRmmOK"
   },
   "source": [
    "From this plot you can see that the neural network has learned to overcome the systematic miscalibration."
   ]
  },
  {
   "cell_type": "markdown",
   "metadata": {
    "colab_type": "text",
    "id": "C2RfWismj66S"
   },
   "source": [
    "### 2.6 Verify outputs\n",
    "Now use the trained model, to correct the qubit calibration errors. With Cirq:"
   ]
  },
  {
   "cell_type": "code",
   "execution_count": 30,
   "metadata": {
    "colab": {},
    "colab_type": "code",
    "execution": {
     "iopub.execute_input": "2022-07-29T11:52:34.813092Z",
     "iopub.status.busy": "2022-07-29T11:52:34.812454Z",
     "iopub.status.idle": "2022-07-29T11:52:34.825895Z",
     "shell.execute_reply": "2022-07-29T11:52:34.825203Z"
    },
    "id": "RoIlb7r7j5SY"
   },
   "outputs": [
    {
     "name": "stdout",
     "output_type": "stream",
     "text": [
      "For a desired output (expectation) of [1.] with noisy preparation, the controller\n",
      "network found the following values for theta: [-0.8739897  1.9569274  0.7185637]\n",
      "Which gives an actual expectation of: 0.9548478722572327\n",
      "\n",
      "For a desired output (expectation) of [-1.] with noisy preparation, the controller\n",
      "network found the following values for theta: [0.19228686 1.4233887  2.5361152 ]\n",
      "Which gives an actual expectation of: -0.9760605096817017\n",
      "\n"
     ]
    }
   ],
   "source": [
    "def check_error(command_values, desired_values):\n",
    "  \"\"\"Based on the value in `command_value` see how well you could prepare\n",
    "  the full circuit to have `desired_value` when taking expectation w.r.t. Z.\"\"\"\n",
    "  params_to_prepare_output = controller(command_values).numpy()\n",
    "  full_circuit = noisy_preparation + model_circuit\n",
    "\n",
    "  # Test how well you can prepare a state to get expectation the expectation\n",
    "  # value in `desired_values`\n",
    "  for index in [0, 1]:\n",
    "    state = cirq_simulator.simulate(\n",
    "        full_circuit,\n",
    "        {s:v for (s,v) in zip(control_params, params_to_prepare_output[index])}\n",
    "    ).final_state_vector\n",
    "    expt = cirq.Z(qubit).expectation_from_state_vector(state, {qubit: 0}).real\n",
    "    print(f'For a desired output (expectation) of {desired_values[index]} with'\n",
    "          f' noisy preparation, the controller\\nnetwork found the following '\n",
    "          f'values for theta: {params_to_prepare_output[index]}\\nWhich gives an'\n",
    "          f' actual expectation of: {expt}\\n')\n",
    "\n",
    "\n",
    "check_error(commands, expected_outputs)"
   ]
  },
  {
   "cell_type": "markdown",
   "metadata": {
    "colab_type": "text",
    "id": "wvW_ZDwmsws6"
   },
   "source": [
    "The value of the loss function during training provides a rough idea of how well the model is learning. The lower the loss, the closer the expectation values in the above cell is to `desired_values`. If you aren't as concerned with the parameter values, you can always check the outputs from above using `tfq`:"
   ]
  },
  {
   "cell_type": "code",
   "execution_count": 31,
   "metadata": {
    "colab": {},
    "colab_type": "code",
    "execution": {
     "iopub.execute_input": "2022-07-29T11:52:34.829247Z",
     "iopub.status.busy": "2022-07-29T11:52:34.828693Z",
     "iopub.status.idle": "2022-07-29T11:52:34.837077Z",
     "shell.execute_reply": "2022-07-29T11:52:34.836433Z"
    },
    "id": "aYskLTacs8Ku"
   },
   "outputs": [
    {
     "data": {
      "text/plain": [
       "<tf.Tensor: shape=(2, 1), dtype=float32, numpy=\n",
       "array([[ 0.9548476 ],\n",
       "       [-0.97606075]], dtype=float32)>"
      ]
     },
     "execution_count": 31,
     "metadata": {},
     "output_type": "execute_result"
    }
   ],
   "source": [
    "model([datapoint_circuits, commands])"
   ]
  },
  {
   "cell_type": "markdown",
   "metadata": {
    "colab_type": "text",
    "id": "jNrW0NXR-lDC"
   },
   "source": [
    "## 3 Learning to prepare eigenstates of different operators\n",
    "\n",
    "The choice of the $\\pm \\hat{Z}$ eigenstates corresponding to 1 and 0 was arbitrary. You could have just as easily wanted 1 to correspond to the $+ \\hat{Z}$ eigenstate and 0 to correspond to the $-\\hat{X}$ eigenstate. One way to accomplish this is by specifying a different measurement operator for each command, as indicated in the figure below:\n",
    "\n",
    "<img src=\"./images/nn_control2.png\" width=\"1000\">\n",
    "\n",
    "This requires use of <code>tfq.layers.Expectation</code>. Now your input has grown to include three objects: circuit, command, and operator. The output is still the expectation value."
   ]
  },
  {
   "cell_type": "markdown",
   "metadata": {
    "colab_type": "text",
    "id": "Ci3WMZ9CjEM1"
   },
   "source": [
    "### 3.1 New model definition\n",
    "\n",
    "Lets take a look at the model to accomplish this task:"
   ]
  },
  {
   "cell_type": "code",
   "execution_count": 32,
   "metadata": {
    "colab": {},
    "colab_type": "code",
    "execution": {
     "iopub.execute_input": "2022-07-29T11:52:34.840463Z",
     "iopub.status.busy": "2022-07-29T11:52:34.839987Z",
     "iopub.status.idle": "2022-07-29T11:52:34.847175Z",
     "shell.execute_reply": "2022-07-29T11:52:34.846509Z"
    },
    "id": "hta0G3Nc6pJY"
   },
   "outputs": [],
   "source": [
    "# Define inputs.\n",
    "commands_input = tf.keras.layers.Input(shape=(1),\n",
    "                                       dtype=tf.dtypes.float32,\n",
    "                                       name='commands_input')\n",
    "circuits_input = tf.keras.Input(shape=(),\n",
    "                                # The circuit-tensor has dtype `tf.string` \n",
    "                                dtype=tf.dtypes.string,\n",
    "                                name='circuits_input')\n",
    "operators_input = tf.keras.Input(shape=(1,),\n",
    "                                 dtype=tf.dtypes.string,\n",
    "                                 name='operators_input')"
   ]
  },
  {
   "cell_type": "markdown",
   "metadata": {
    "colab_type": "text",
    "id": "dtdnkrZm6pJb"
   },
   "source": [
    "Here is the controller network:"
   ]
  },
  {
   "cell_type": "code",
   "execution_count": 33,
   "metadata": {
    "colab": {},
    "colab_type": "code",
    "execution": {
     "iopub.execute_input": "2022-07-29T11:52:34.850379Z",
     "iopub.status.busy": "2022-07-29T11:52:34.849923Z",
     "iopub.status.idle": "2022-07-29T11:52:34.856924Z",
     "shell.execute_reply": "2022-07-29T11:52:34.856280Z"
    },
    "id": "n_aTG4g3-y0F"
   },
   "outputs": [],
   "source": [
    "# Define classical NN.\n",
    "controller = tf.keras.Sequential([\n",
    "    tf.keras.layers.Dense(10, activation='elu'),\n",
    "    tf.keras.layers.Dense(3)\n",
    "])"
   ]
  },
  {
   "cell_type": "markdown",
   "metadata": {
    "colab_type": "text",
    "id": "q9aN2ciy6pJf"
   },
   "source": [
    "Combine the circuit and the controller into a single `keras.Model` using `tfq`:"
   ]
  },
  {
   "cell_type": "code",
   "execution_count": 34,
   "metadata": {
    "colab": {},
    "colab_type": "code",
    "execution": {
     "iopub.execute_input": "2022-07-29T11:52:34.860056Z",
     "iopub.status.busy": "2022-07-29T11:52:34.859647Z",
     "iopub.status.idle": "2022-07-29T11:52:34.907929Z",
     "shell.execute_reply": "2022-07-29T11:52:34.907231Z"
    },
    "id": "IMHjiKit6pJg"
   },
   "outputs": [],
   "source": [
    "dense_2 = controller(commands_input)\n",
    "\n",
    "# Since you aren't using a PQC or ControlledPQC you must append\n",
    "# your model circuit onto the datapoint circuit tensor manually.\n",
    "full_circuit = tfq.layers.AddCircuit()(circuits_input, append=model_circuit)\n",
    "expectation_output = tfq.layers.Expectation()(full_circuit,\n",
    "                                              symbol_names=control_params,\n",
    "                                              symbol_values=dense_2,\n",
    "                                              operators=operators_input)\n",
    "\n",
    "# Contruct your Keras model.\n",
    "two_axis_control_model = tf.keras.Model(\n",
    "    inputs=[circuits_input, commands_input, operators_input],\n",
    "    outputs=[expectation_output])"
   ]
  },
  {
   "cell_type": "markdown",
   "metadata": {
    "colab_type": "text",
    "id": "VQTM6CCiD4gU"
   },
   "source": [
    "### 3.2 The dataset\n",
    "\n",
    "Now you will also include the operators you wish to measure for each datapoint you supply for `model_circuit`:"
   ]
  },
  {
   "cell_type": "code",
   "execution_count": 35,
   "metadata": {
    "colab": {},
    "colab_type": "code",
    "execution": {
     "iopub.execute_input": "2022-07-29T11:52:34.911430Z",
     "iopub.status.busy": "2022-07-29T11:52:34.910841Z",
     "iopub.status.idle": "2022-07-29T11:52:34.915674Z",
     "shell.execute_reply": "2022-07-29T11:52:34.915023Z"
    },
    "id": "4gw_L3JG0_G0"
   },
   "outputs": [],
   "source": [
    "# The operators to measure, for each command.\n",
    "operator_data = tfq.convert_to_tensor([[cirq.X(qubit)], [cirq.Z(qubit)]])\n",
    "\n",
    "# The command input values to the classical NN.\n",
    "commands = np.array([[0], [1]], dtype=np.float32)\n",
    "\n",
    "# The desired expectation value at output of quantum circuit.\n",
    "expected_outputs = np.array([[1], [-1]], dtype=np.float32)"
   ]
  },
  {
   "cell_type": "markdown",
   "metadata": {
    "colab_type": "text",
    "id": "ALCKSvwh0_G2"
   },
   "source": [
    "### 3.3 Training\n",
    "\n",
    "Now that you have your new inputs and outputs you can train once again using keras."
   ]
  },
  {
   "cell_type": "code",
   "execution_count": 36,
   "metadata": {
    "colab": {},
    "colab_type": "code",
    "execution": {
     "iopub.execute_input": "2022-07-29T11:52:34.918847Z",
     "iopub.status.busy": "2022-07-29T11:52:34.918332Z",
     "iopub.status.idle": "2022-07-29T11:52:35.434144Z",
     "shell.execute_reply": "2022-07-29T11:52:35.433295Z"
    },
    "id": "nFuGA73MAA4p"
   },
   "outputs": [
    {
     "name": "stdout",
     "output_type": "stream",
     "text": [
      "Epoch 1/30\n",
      "1/1 [==============================] - 0s 322ms/step - loss: 2.1108\n",
      "Epoch 2/30\n",
      "1/1 [==============================] - 0s 2ms/step - loss: 1.8019\n",
      "Epoch 3/30\n",
      "1/1 [==============================] - 0s 2ms/step - loss: 1.4520\n",
      "Epoch 4/30\n",
      "1/1 [==============================] - 0s 4ms/step - loss: 1.0485\n",
      "Epoch 5/30\n",
      "1/1 [==============================] - 0s 3ms/step - loss: 0.7000\n",
      "Epoch 6/30\n",
      "1/1 [==============================] - 0s 3ms/step - loss: 0.5213\n",
      "Epoch 7/30\n",
      "1/1 [==============================] - 0s 3ms/step - loss: 0.5565\n",
      "Epoch 8/30\n",
      "1/1 [==============================] - 0s 3ms/step - loss: 0.6791\n",
      "Epoch 9/30\n",
      "1/1 [==============================] - 0s 3ms/step - loss: 0.7041\n",
      "Epoch 10/30\n",
      "1/1 [==============================] - 0s 3ms/step - loss: 0.6329\n",
      "Epoch 11/30\n",
      "1/1 [==============================] - 0s 3ms/step - loss: 0.5512\n",
      "Epoch 12/30\n",
      "1/1 [==============================] - 0s 3ms/step - loss: 0.5071\n",
      "Epoch 13/30\n",
      "1/1 [==============================] - 0s 3ms/step - loss: 0.4859\n",
      "Epoch 14/30\n",
      "1/1 [==============================] - 0s 2ms/step - loss: 0.4477\n",
      "Epoch 15/30\n",
      "1/1 [==============================] - 0s 4ms/step - loss: 0.3878\n",
      "Epoch 16/30\n",
      "1/1 [==============================] - 0s 3ms/step - loss: 0.3213\n",
      "Epoch 17/30\n",
      "1/1 [==============================] - 0s 3ms/step - loss: 0.2572\n",
      "Epoch 18/30\n",
      "1/1 [==============================] - 0s 3ms/step - loss: 0.2031\n",
      "Epoch 19/30\n",
      "1/1 [==============================] - 0s 3ms/step - loss: 0.1727\n",
      "Epoch 20/30\n",
      "1/1 [==============================] - 0s 2ms/step - loss: 0.1721\n",
      "Epoch 21/30\n",
      "1/1 [==============================] - 0s 2ms/step - loss: 0.1796\n",
      "Epoch 22/30\n",
      "1/1 [==============================] - 0s 3ms/step - loss: 0.1634\n",
      "Epoch 23/30\n",
      "1/1 [==============================] - 0s 4ms/step - loss: 0.1207\n",
      "Epoch 24/30\n",
      "1/1 [==============================] - 0s 3ms/step - loss: 0.0736\n",
      "Epoch 25/30\n",
      "1/1 [==============================] - 0s 3ms/step - loss: 0.0407\n",
      "Epoch 26/30\n",
      "1/1 [==============================] - 0s 3ms/step - loss: 0.0241\n",
      "Epoch 27/30\n",
      "1/1 [==============================] - 0s 2ms/step - loss: 0.0173\n",
      "Epoch 28/30\n",
      "1/1 [==============================] - 0s 3ms/step - loss: 0.0143\n",
      "Epoch 29/30\n",
      "1/1 [==============================] - 0s 4ms/step - loss: 0.0123\n",
      "Epoch 30/30\n",
      "1/1 [==============================] - 0s 3ms/step - loss: 0.0102\n"
     ]
    }
   ],
   "source": [
    "optimizer = tf.keras.optimizers.Adam(learning_rate=0.05)\n",
    "loss = tf.keras.losses.MeanSquaredError()\n",
    "\n",
    "two_axis_control_model.compile(optimizer=optimizer, loss=loss)\n",
    "\n",
    "history = two_axis_control_model.fit(\n",
    "    x=[datapoint_circuits, commands, operator_data],\n",
    "    y=expected_outputs,\n",
    "    epochs=30,\n",
    "    verbose=1)"
   ]
  },
  {
   "cell_type": "code",
   "execution_count": 37,
   "metadata": {
    "colab": {},
    "colab_type": "code",
    "execution": {
     "iopub.execute_input": "2022-07-29T11:52:35.437786Z",
     "iopub.status.busy": "2022-07-29T11:52:35.437101Z",
     "iopub.status.idle": "2022-07-29T11:52:35.586133Z",
     "shell.execute_reply": "2022-07-29T11:52:35.585339Z"
    },
    "id": "Cf_G-GdturLL"
   },
   "outputs": [
    {
     "data": {
      "image/png": "[encoded data removed]",
      "text/plain": [
       "<Figure size 432x288 with 1 Axes>"
      ]
     },
     "metadata": {
      "needs_background": "light"
     },
     "output_type": "display_data"
    }
   ],
   "source": [
    "plt.plot(history.history['loss'])\n",
    "plt.title(\"Learning to Control a Qubit\")\n",
    "plt.xlabel(\"Iterations\")\n",
    "plt.ylabel(\"Error in Control\")\n",
    "plt.show()"
   ]
  },
  {
   "cell_type": "markdown",
   "metadata": {
    "colab_type": "text",
    "id": "sdCPDH9NlJBl"
   },
   "source": [
    "The loss function has dropped to zero."
   ]
  },
  {
   "cell_type": "markdown",
   "metadata": {
    "colab_type": "text",
    "id": "NzY8eSVm6pJs"
   },
   "source": [
    "The `controller` is available as a stand-alone model. Call the controller, and check its response to each command signal. It would take some work to correctly compare these outputs to the contents of `random_rotations`."
   ]
  },
  {
   "cell_type": "code",
   "execution_count": 38,
   "metadata": {
    "colab": {},
    "colab_type": "code",
    "execution": {
     "iopub.execute_input": "2022-07-29T11:52:35.589844Z",
     "iopub.status.busy": "2022-07-29T11:52:35.589296Z",
     "iopub.status.idle": "2022-07-29T11:52:35.685559Z",
     "shell.execute_reply": "2022-07-29T11:52:35.684825Z"
    },
    "id": "uXmH0TQ76pJt"
   },
   "outputs": [
    {
     "data": {
      "text/plain": [
       "array([[ 0.11006044, -2.7562292 ,  0.52895653],\n",
       "       [ 0.594198  , -1.4229524 ,  0.92927134]], dtype=float32)"
      ]
     },
     "execution_count": 38,
     "metadata": {},
     "output_type": "execute_result"
    }
   ],
   "source": [
    "controller.predict(np.array([0,1]))"
   ]
  },
  {
   "cell_type": "markdown",
   "metadata": {
    "colab_type": "text",
    "id": "n2WtXnsxubD2"
   },
   "source": [
    "Success: See if you can adapt the `check_error` function from your first model to work with this new model architecture."
   ]
  }
 ],
 "metadata": {
  "colab": {
   "collapsed_sections": [],
   "name": "hello_many_worlds.ipynb",
   "private_outputs": true,
   "provenance": [],
   "toc_visible": true
  },
  "kernelspec": {
   "display_name": "Python 3.9.12 64-bit ('tf27')",
   "language": "python",
   "name": "python3"
  },
  "language_info": {
   "codemirror_mode": {
    "name": "ipython",
    "version": 3
   },
   "file_extension": ".py",
   "mimetype": "text/x-python",
   "name": "python",
   "nbconvert_exporter": "python",
   "pygments_lexer": "ipython3",
   "version": "3.9.12"
  },
  "vscode": {
   "interpreter": {
    "hash": "9ecf280a3e2da1620d8f6fe73c4ec54d375669d066258c247c72ca225076a021"
   }
  }
 },
 "nbformat": 4,
 "nbformat_minor": 0
}
