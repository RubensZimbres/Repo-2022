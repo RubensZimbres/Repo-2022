{
 "cells": [
  {
   "attachments": {},
   "cell_type": "markdown",
   "metadata": {
    "colab_type": "text",
    "id": "sPZoNKvpUaqa"
   },
   "source": [
    "## CORRECT Setup"
   ]
  },
  {
   "cell_type": "code",
   "execution_count": 11,
   "metadata": {
    "colab": {},
    "colab_type": "code",
    "execution": {
     "iopub.execute_input": "2022-07-29T11:51:51.242640Z",
     "iopub.status.busy": "2022-07-29T11:51:51.242174Z",
     "iopub.status.idle": "2022-07-29T11:52:14.106672Z",
     "shell.execute_reply": "2022-07-29T11:52:14.105612Z"
    },
    "id": "TorxE5tnkvb2"
   },
   "outputs": [
    {
     "data": {
      "text/plain": [
       "'\\npy 3.9\\npip3 install --upgrade pip\\npip3 install tensorflow==2.11.0\\npip3 install -U tensorflow-quantum\\npip3 install -U tfq-nightly\\nipykernel\\n'"
      ]
     },
     "execution_count": 11,
     "metadata": {},
     "output_type": "execute_result"
    }
   ],
   "source": [
    "## SOURCE https://colab.research.google.com/github/tensorflow/quantum/blob/master/docs/tutorials/hello_many_worlds.ipynb\n",
    "'''\n",
    "py 3.9\n",
    "pip3 install --upgrade pip\n",
    "pip3 install tensorflow==2.11.0\n",
    "pip3 install -U tensorflow-quantum\n",
    "pip3 install -U tfq-nightly\n",
    "ipykernel\n",
    "'''"
   ]
  },
  {
   "cell_type": "code",
   "execution_count": 12,
   "metadata": {
    "colab": {},
    "colab_type": "code",
    "execution": {
     "iopub.execute_input": "2022-07-29T11:52:28.432874Z",
     "iopub.status.busy": "2022-07-29T11:52:28.432274Z",
     "iopub.status.idle": "2022-07-29T11:52:28.488563Z",
     "shell.execute_reply": "2022-07-29T11:52:28.487931Z"
    },
    "id": "4Ql5PW-ACO0J"
   },
   "outputs": [],
   "source": [
    "# Update package resources to account for version changes.\n",
    "import importlib, pkg_resources\n",
    "importlib.reload(pkg_resources)\n",
    "import cirq"
   ]
  },
  {
   "attachments": {},
   "cell_type": "markdown",
   "metadata": {
    "colab_type": "text",
    "id": "F1L8h1YKUvIO"
   },
   "source": [
    "Now import TensorFlow and the module dependencies:"
   ]
  },
  {
   "cell_type": "code",
   "execution_count": 13,
   "metadata": {
    "colab": {},
    "colab_type": "code",
    "execution": {
     "iopub.execute_input": "2022-07-29T11:52:28.492028Z",
     "iopub.status.busy": "2022-07-29T11:52:28.491394Z",
     "iopub.status.idle": "2022-07-29T11:52:32.331934Z",
     "shell.execute_reply": "2022-07-29T11:52:32.331052Z"
    },
    "id": "enZ300Bflq80"
   },
   "outputs": [],
   "source": [
    "import tensorflow as tf\n",
    "\n",
    "import sympy\n",
    "import cirq\n",
    "import matplotlib.image as mpimg\n",
    "import matplotlib.pyplot as plt\n",
    "\n",
    "\n",
    "import numpy as np\n",
    "\n",
    "# visualization tools\n",
    "%matplotlib inline\n",
    "import matplotlib.pyplot as plt\n",
    "from cirq.contrib.svg import SVGCircuit"
   ]
  },
  {
   "cell_type": "code",
   "execution_count": 14,
   "metadata": {},
   "outputs": [],
   "source": [
    "import tensorflow_quantum as tfq\n"
   ]
  },
  {
   "attachments": {},
   "cell_type": "markdown",
   "metadata": {
    "colab_type": "text",
    "id": "b08Mmbs8lr81"
   },
   "source": [
    "## 1. The Basics"
   ]
  },
  {
   "attachments": {},
   "cell_type": "markdown",
   "metadata": {
    "colab_type": "text",
    "id": "y31qSRCczI-L"
   },
   "source": [
    "### 1.1 Cirq and parameterized quantum circuits\n",
    "\n",
    "Before exploring TensorFlow Quantum (TFQ), let's look at some <a target=\"_blank\" href=\"https://github.com/quantumlib/Cirq\" class=\"external\">Cirq</a> basics. Cirq is a Python library for quantum computing from Google. You use it to define circuits, including static and parameterized gates.\n",
    "\n",
    "Cirq uses <a target=\"_blank\" href=\"https://www.sympy.org\" class=\"external\">SymPy</a> symbols to represent free parameters."
   ]
  },
  {
   "cell_type": "code",
   "execution_count": 15,
   "metadata": {
    "colab": {},
    "colab_type": "code",
    "execution": {
     "iopub.execute_input": "2022-07-29T11:52:32.336551Z",
     "iopub.status.busy": "2022-07-29T11:52:32.335317Z",
     "iopub.status.idle": "2022-07-29T11:52:32.339906Z",
     "shell.execute_reply": "2022-07-29T11:52:32.339259Z"
    },
    "id": "2yQdmhQLCrzQ"
   },
   "outputs": [],
   "source": [
    "a, b = sympy.symbols('a b')"
   ]
  },
  {
   "attachments": {},
   "cell_type": "markdown",
   "metadata": {
    "colab_type": "text",
    "id": "itUlpbKmDYNW"
   },
   "source": [
    "The following code creates a two-qubit circuit using your parameters:"
   ]
  },
  {
   "attachments": {},
   "cell_type": "markdown",
   "metadata": {},
   "source": [
    "# TRY CIRCUIT"
   ]
  },
  {
   "cell_type": "code",
   "execution_count": 16,
   "metadata": {},
   "outputs": [
    {
     "name": "stdout",
     "output_type": "stream",
     "text": [
      "(0, 0): ───Rx(a)───X───\n",
      "                   │\n",
      "(0, 1): ───Ry(b)───@───\n",
      "\n",
      "(0, 2): ───Ry(a)───@───\n",
      "                   │\n",
      "(0, 3): ───────────X───\n",
      "Results:\n"
     ]
    }
   ],
   "source": [
    "import cirq\n",
    "\n",
    "q0, q1, q2 , q3= cirq.GridQubit.rect(1, 4)\n",
    "qubit = cirq.GridQubit(0, 0)\n",
    "\n",
    "# Create a circuit on these qubits using the parameters you created above.\n",
    "circuit = cirq.Circuit(\n",
    "    cirq.rx(a).on(q0),\n",
    "    cirq.ry(b).on(q1),cirq.ry(a).on(q2), cirq.CNOT(control=q2, target=q3), cirq.CNOT(control=q1, target=q0))\n",
    "\n",
    "print(circuit)\n",
    "print(\"Results:\")"
   ]
  },
  {
   "cell_type": "code",
   "execution_count": 17,
   "metadata": {},
   "outputs": [
    {
     "data": {
      "image/svg+xml": [
       "<svg xmlns=\"http://www.w3.org/2000/svg\" width=\"227.108125\" height=\"200.0\"><line x1=\"32.246796875\" x2=\"197.108125\" y1=\"25.0\" y2=\"25.0\" stroke=\"#1967d2\" stroke-width=\"1\" /><line x1=\"32.246796875\" x2=\"197.108125\" y1=\"75.0\" y2=\"75.0\" stroke=\"#1967d2\" stroke-width=\"1\" /><line x1=\"32.246796875\" x2=\"197.108125\" y1=\"125.0\" y2=\"125.0\" stroke=\"#1967d2\" stroke-width=\"1\" /><line x1=\"32.246796875\" x2=\"197.108125\" y1=\"175.0\" y2=\"175.0\" stroke=\"#1967d2\" stroke-width=\"1\" /><line x1=\"157.108125\" x2=\"157.108125\" y1=\"125.0\" y2=\"175.0\" stroke=\"black\" stroke-width=\"3\" /><line x1=\"157.108125\" x2=\"157.108125\" y1=\"25.0\" y2=\"75.0\" stroke=\"black\" stroke-width=\"3\" /><rect x=\"10.0\" y=\"5.0\" width=\"44.49359375\" height=\"40\" stroke=\"black\" fill=\"white\" stroke-width=\"0\" /><text x=\"32.246796875\" y=\"25.0\" dominant-baseline=\"middle\" text-anchor=\"middle\" font-size=\"14px\" font-family=\"Arial\">(0, 0): </text><rect x=\"10.0\" y=\"55.0\" width=\"44.49359375\" height=\"40\" stroke=\"black\" fill=\"white\" stroke-width=\"0\" /><text x=\"32.246796875\" y=\"75.0\" dominant-baseline=\"middle\" text-anchor=\"middle\" font-size=\"14px\" font-family=\"Arial\">(0, 1): </text><rect x=\"10.0\" y=\"105.0\" width=\"44.49359375\" height=\"40\" stroke=\"black\" fill=\"white\" stroke-width=\"0\" /><text x=\"32.246796875\" y=\"125.0\" dominant-baseline=\"middle\" text-anchor=\"middle\" font-size=\"14px\" font-family=\"Arial\">(0, 2): </text><rect x=\"10.0\" y=\"155.0\" width=\"44.49359375\" height=\"40\" stroke=\"black\" fill=\"white\" stroke-width=\"0\" /><text x=\"32.246796875\" y=\"175.0\" dominant-baseline=\"middle\" text-anchor=\"middle\" font-size=\"14px\" font-family=\"Arial\">(0, 3): </text><rect x=\"74.49359375\" y=\"5.0\" width=\"42.61453125\" height=\"40\" stroke=\"black\" fill=\"white\" stroke-width=\"1\" /><text x=\"95.800859375\" y=\"25.0\" dominant-baseline=\"middle\" text-anchor=\"middle\" font-size=\"14px\" font-family=\"Arial\">Rx(a)</text><rect x=\"74.49359375\" y=\"55.0\" width=\"42.61453125\" height=\"40\" stroke=\"black\" fill=\"white\" stroke-width=\"1\" /><text x=\"95.800859375\" y=\"75.0\" dominant-baseline=\"middle\" text-anchor=\"middle\" font-size=\"14px\" font-family=\"Arial\">Ry(b)</text><rect x=\"74.49359375\" y=\"105.0\" width=\"42.61453125\" height=\"40\" stroke=\"black\" fill=\"white\" stroke-width=\"1\" /><text x=\"95.800859375\" y=\"125.0\" dominant-baseline=\"middle\" text-anchor=\"middle\" font-size=\"14px\" font-family=\"Arial\">Ry(a)</text><circle cx=\"157.108125\" cy=\"125.0\" r=\"10.0\" /><rect x=\"137.108125\" y=\"155.0\" width=\"40\" height=\"40\" stroke=\"black\" fill=\"white\" stroke-width=\"1\" /><text x=\"157.108125\" y=\"175.0\" dominant-baseline=\"middle\" text-anchor=\"middle\" font-size=\"18px\" font-family=\"Arial\">X</text><circle cx=\"157.108125\" cy=\"75.0\" r=\"10.0\" /><rect x=\"137.108125\" y=\"5.0\" width=\"40\" height=\"40\" stroke=\"black\" fill=\"white\" stroke-width=\"1\" /><text x=\"157.108125\" y=\"25.0\" dominant-baseline=\"middle\" text-anchor=\"middle\" font-size=\"18px\" font-family=\"Arial\">X</text></svg>"
      ],
      "text/plain": [
       "<cirq.contrib.svg.svg.SVGCircuit at 0x7f7ded2b3fa0>"
      ]
     },
     "execution_count": 17,
     "metadata": {},
     "output_type": "execute_result"
    }
   ],
   "source": [
    "SVGCircuit(circuit)"
   ]
  },
  {
   "attachments": {},
   "cell_type": "markdown",
   "metadata": {
    "colab_type": "text",
    "id": "bkC-yjIolDNr"
   },
   "source": [
    "### 1.2 Quantum circuits as tensors\n",
    "\n",
    "TensorFlow Quantum (TFQ) provides `tfq.convert_to_tensor`, a function that converts Cirq objects into tensors. This allows you to send Cirq objects to our <a target=\"_blank\" href=\"https://www.tensorflow.org/quantum/api_docs/python/tfq/layers\">quantum layers</a> and <a target=\"_blank\" href=\"https://www.tensorflow.org/quantum/api_docs/python/tfq/get_expectation_op\">quantum ops</a>. The function can be called on lists or arrays of Cirq Circuits and Cirq Paulis:"
   ]
  },
  {
   "cell_type": "code",
   "execution_count": 18,
   "metadata": {
    "colab": {},
    "colab_type": "code",
    "execution": {
     "iopub.execute_input": "2022-07-29T11:52:32.495501Z",
     "iopub.status.busy": "2022-07-29T11:52:32.494922Z",
     "iopub.status.idle": "2022-07-29T11:52:32.506627Z",
     "shell.execute_reply": "2022-07-29T11:52:32.505962Z"
    },
    "id": "1gLQjA02mIyy",
    "scrolled": true
   },
   "outputs": [
    {
     "name": "stdout",
     "output_type": "stream",
     "text": [
      "(1,)\n",
      "<dtype: 'string'>\n"
     ]
    }
   ],
   "source": [
    "# Rank 1 tensor containing 1 circuit.\n",
    "circuit_tensor = tfq.convert_to_tensor([circuit])\n",
    "print(circuit_tensor.shape)\n",
    "print(circuit_tensor.dtype)\n"
   ]
  },
  {
   "attachments": {},
   "cell_type": "markdown",
   "metadata": {
    "colab_type": "text",
    "id": "SJy6AkbU6pIP"
   },
   "source": [
    "This encodes the Cirq objects as `tf.string` tensors that `tfq` operations decode as needed."
   ]
  },
  {
   "attachments": {},
   "cell_type": "markdown",
   "metadata": {
    "colab_type": "text",
    "id": "wppQ3TJ23mWC"
   },
   "source": [
    "## 2. Hybrid quantum-classical optimization\n",
    "\n",
    "Now that you've seen the basics, let's use TensorFlow Quantum to construct a *hybrid quantum-classical neural net*. You will train a classical neural net to control a single qubit. The control will be optimized to correctly prepare the qubit in the `0` or `1` state, overcoming a simulated systematic calibration error. This figure shows the architecture:\n",
    "\n",
    "Even without a neural network this is a straightforward problem to solve, but the theme is similar to the real quantum control problems you might solve using TFQ. It demonstrates an end-to-end example of a quantum-classical computation using the `tfq.layers.ControlledPQC` (Parametrized Quantum Circuit) layer inside of a `tf.keras.Model`."
   ]
  },
  {
   "attachments": {},
   "cell_type": "markdown",
   "metadata": {
    "colab_type": "text",
    "id": "NlyxF3Q-6pIe"
   },
   "source": [
    "For the implementation of this tutorial, this architecture is split into 3 parts:\n",
    "\n",
    "- The *input circuit* or *datapoint circuit*: The first three $R$ gates.\n",
    "- The *controlled circuit*: The other three $R$ gates.\n",
    "- The *controller*: The classical neural-network setting the parameters of the controlled circuit."
   ]
  },
  {
   "attachments": {},
   "cell_type": "markdown",
   "metadata": {
    "colab_type": "text",
    "id": "VjDf-nTM6ZSs"
   },
   "source": [
    "### 2.1 The controlled circuit definition\n",
    "\n",
    "Define a learnable single bit rotation, as indicated in the figure above. This will correspond to our controlled circuit."
   ]
  },
  {
   "cell_type": "code",
   "execution_count": 19,
   "metadata": {},
   "outputs": [
    {
     "data": {
      "image/svg+xml": [
       "<svg xmlns=\"http://www.w3.org/2000/svg\" width=\"4356.731171874999\" height=\"500.0\"><line x1=\"30.0\" x2=\"4326.731171874999\" y1=\"25.0\" y2=\"25.0\" stroke=\"#1967d2\" stroke-width=\"1\" /><line x1=\"30.0\" x2=\"4326.731171874999\" y1=\"75.0\" y2=\"75.0\" stroke=\"#1967d2\" stroke-width=\"1\" /><line x1=\"30.0\" x2=\"4326.731171874999\" y1=\"125.0\" y2=\"125.0\" stroke=\"#1967d2\" stroke-width=\"1\" /><line x1=\"30.0\" x2=\"4326.731171874999\" y1=\"175.0\" y2=\"175.0\" stroke=\"#1967d2\" stroke-width=\"1\" /><line x1=\"30.0\" x2=\"4326.731171874999\" y1=\"225.0\" y2=\"225.0\" stroke=\"#1967d2\" stroke-width=\"1\" /><line x1=\"30.0\" x2=\"4326.731171874999\" y1=\"275.0\" y2=\"275.0\" stroke=\"#1967d2\" stroke-width=\"1\" /><line x1=\"30.0\" x2=\"4326.731171874999\" y1=\"325.0\" y2=\"325.0\" stroke=\"#1967d2\" stroke-width=\"1\" /><line x1=\"30.0\" x2=\"4326.731171874999\" y1=\"375.0\" y2=\"375.0\" stroke=\"#1967d2\" stroke-width=\"1\" /><line x1=\"30.0\" x2=\"4326.731171874999\" y1=\"425.0\" y2=\"425.0\" stroke=\"#1967d2\" stroke-width=\"1\" /><line x1=\"30.0\" x2=\"4326.731171874999\" y1=\"475.0\" y2=\"475.0\" stroke=\"#1967d2\" stroke-width=\"1\" /><line x1=\"90.0\" x2=\"90.0\" y1=\"25.0\" y2=\"75.0\" stroke=\"black\" stroke-width=\"3\" /><line x1=\"285.143984375\" x2=\"285.143984375\" y1=\"75.0\" y2=\"125.0\" stroke=\"black\" stroke-width=\"3\" /><line x1=\"480.28796875\" x2=\"480.28796875\" y1=\"125.0\" y2=\"175.0\" stroke=\"black\" stroke-width=\"3\" /><line x1=\"675.4319531250001\" x2=\"675.4319531250001\" y1=\"175.0\" y2=\"225.0\" stroke=\"black\" stroke-width=\"3\" /><line x1=\"870.5759375\" x2=\"870.5759375\" y1=\"225.0\" y2=\"275.0\" stroke=\"black\" stroke-width=\"3\" /><line x1=\"938.1479296875\" x2=\"938.1479296875\" y1=\"25.0\" y2=\"225.0\" stroke=\"black\" stroke-width=\"3\" /><line x1=\"1005.719921875\" x2=\"1005.719921875\" y1=\"25.0\" y2=\"75.0\" stroke=\"black\" stroke-width=\"3\" /><line x1=\"1073.2919140625\" x2=\"1073.2919140625\" y1=\"275.0\" y2=\"325.0\" stroke=\"black\" stroke-width=\"3\" /><line x1=\"1216.0078906249998\" x2=\"1216.0078906249998\" y1=\"75.0\" y2=\"125.0\" stroke=\"black\" stroke-width=\"3\" /><line x1=\"1283.5798828124998\" x2=\"1283.5798828124998\" y1=\"325.0\" y2=\"375.0\" stroke=\"black\" stroke-width=\"3\" /><line x1=\"1426.2958593749997\" x2=\"1426.2958593749997\" y1=\"125.0\" y2=\"175.0\" stroke=\"black\" stroke-width=\"3\" /><line x1=\"1493.8678515624997\" x2=\"1493.8678515624997\" y1=\"375.0\" y2=\"425.0\" stroke=\"black\" stroke-width=\"3\" /><line x1=\"1636.5838281249996\" x2=\"1636.5838281249996\" y1=\"175.0\" y2=\"225.0\" stroke=\"black\" stroke-width=\"3\" /><line x1=\"1704.1558203124996\" x2=\"1704.1558203124996\" y1=\"425.0\" y2=\"475.0\" stroke=\"black\" stroke-width=\"3\" /><line x1=\"1969.4863281249995\" x2=\"1969.4863281249995\" y1=\"275.0\" y2=\"475.0\" stroke=\"black\" stroke-width=\"3\" /><line x1=\"2029.4863281249995\" x2=\"2029.4863281249995\" y1=\"225.0\" y2=\"275.0\" stroke=\"black\" stroke-width=\"3\" /><line x1=\"2097.0583203124997\" x2=\"2097.0583203124997\" y1=\"25.0\" y2=\"225.0\" stroke=\"black\" stroke-width=\"3\" /><line x1=\"2164.6303124999995\" x2=\"2164.6303124999995\" y1=\"25.0\" y2=\"75.0\" stroke=\"black\" stroke-width=\"3\" /><line x1=\"2232.2023046874997\" x2=\"2232.2023046874997\" y1=\"275.0\" y2=\"325.0\" stroke=\"black\" stroke-width=\"3\" /><line x1=\"2374.9182812499994\" x2=\"2374.9182812499994\" y1=\"75.0\" y2=\"125.0\" stroke=\"black\" stroke-width=\"3\" /><line x1=\"2442.4902734374996\" x2=\"2442.4902734374996\" y1=\"325.0\" y2=\"375.0\" stroke=\"black\" stroke-width=\"3\" /><line x1=\"2585.2062499999993\" x2=\"2585.2062499999993\" y1=\"125.0\" y2=\"175.0\" stroke=\"black\" stroke-width=\"3\" /><line x1=\"2652.7782421874995\" x2=\"2652.7782421874995\" y1=\"375.0\" y2=\"425.0\" stroke=\"black\" stroke-width=\"3\" /><line x1=\"2795.494218749999\" x2=\"2795.494218749999\" y1=\"175.0\" y2=\"225.0\" stroke=\"black\" stroke-width=\"3\" /><line x1=\"2863.0662109374994\" x2=\"2863.0662109374994\" y1=\"425.0\" y2=\"475.0\" stroke=\"black\" stroke-width=\"3\" /><line x1=\"3128.396718749999\" x2=\"3128.396718749999\" y1=\"275.0\" y2=\"475.0\" stroke=\"black\" stroke-width=\"3\" /><line x1=\"3188.396718749999\" x2=\"3188.396718749999\" y1=\"225.0\" y2=\"275.0\" stroke=\"black\" stroke-width=\"3\" /><line x1=\"3255.968710937499\" x2=\"3255.968710937499\" y1=\"25.0\" y2=\"225.0\" stroke=\"black\" stroke-width=\"3\" /><line x1=\"3383.540703124999\" x2=\"3383.540703124999\" y1=\"275.0\" y2=\"325.0\" stroke=\"black\" stroke-width=\"3\" /><line x1=\"3578.6846874999987\" x2=\"3578.6846874999987\" y1=\"325.0\" y2=\"375.0\" stroke=\"black\" stroke-width=\"3\" /><line x1=\"3773.8286718749987\" x2=\"3773.8286718749987\" y1=\"375.0\" y2=\"425.0\" stroke=\"black\" stroke-width=\"3\" /><line x1=\"3968.9726562499986\" x2=\"3968.9726562499986\" y1=\"425.0\" y2=\"475.0\" stroke=\"black\" stroke-width=\"3\" /><line x1=\"4226.731171874999\" x2=\"4226.731171874999\" y1=\"275.0\" y2=\"475.0\" stroke=\"black\" stroke-width=\"3\" /><rect x=\"10.0\" y=\"5.0\" width=\"40\" height=\"40\" stroke=\"black\" fill=\"white\" stroke-width=\"0\" /><text x=\"30.0\" y=\"25.0\" dominant-baseline=\"middle\" text-anchor=\"middle\" font-size=\"14px\" font-family=\"Arial\">0: </text><rect x=\"10.0\" y=\"55.0\" width=\"40\" height=\"40\" stroke=\"black\" fill=\"white\" stroke-width=\"0\" /><text x=\"30.0\" y=\"75.0\" dominant-baseline=\"middle\" text-anchor=\"middle\" font-size=\"14px\" font-family=\"Arial\">1: </text><rect x=\"10.0\" y=\"105.0\" width=\"40\" height=\"40\" stroke=\"black\" fill=\"white\" stroke-width=\"0\" /><text x=\"30.0\" y=\"125.0\" dominant-baseline=\"middle\" text-anchor=\"middle\" font-size=\"14px\" font-family=\"Arial\">2: </text><rect x=\"10.0\" y=\"155.0\" width=\"40\" height=\"40\" stroke=\"black\" fill=\"white\" stroke-width=\"0\" /><text x=\"30.0\" y=\"175.0\" dominant-baseline=\"middle\" text-anchor=\"middle\" font-size=\"14px\" font-family=\"Arial\">3: </text><rect x=\"10.0\" y=\"205.0\" width=\"40\" height=\"40\" stroke=\"black\" fill=\"white\" stroke-width=\"0\" /><text x=\"30.0\" y=\"225.0\" dominant-baseline=\"middle\" text-anchor=\"middle\" font-size=\"14px\" font-family=\"Arial\">4: </text><rect x=\"10.0\" y=\"255.0\" width=\"40\" height=\"40\" stroke=\"black\" fill=\"white\" stroke-width=\"0\" /><text x=\"30.0\" y=\"275.0\" dominant-baseline=\"middle\" text-anchor=\"middle\" font-size=\"14px\" font-family=\"Arial\">5: </text><rect x=\"10.0\" y=\"305.0\" width=\"40\" height=\"40\" stroke=\"black\" fill=\"white\" stroke-width=\"0\" /><text x=\"30.0\" y=\"325.0\" dominant-baseline=\"middle\" text-anchor=\"middle\" font-size=\"14px\" font-family=\"Arial\">6: </text><rect x=\"10.0\" y=\"355.0\" width=\"40\" height=\"40\" stroke=\"black\" fill=\"white\" stroke-width=\"0\" /><text x=\"30.0\" y=\"375.0\" dominant-baseline=\"middle\" text-anchor=\"middle\" font-size=\"14px\" font-family=\"Arial\">7: </text><rect x=\"10.0\" y=\"405.0\" width=\"40\" height=\"40\" stroke=\"black\" fill=\"white\" stroke-width=\"0\" /><text x=\"30.0\" y=\"425.0\" dominant-baseline=\"middle\" text-anchor=\"middle\" font-size=\"14px\" font-family=\"Arial\">8: </text><rect x=\"10.0\" y=\"455.0\" width=\"40\" height=\"40\" stroke=\"black\" fill=\"white\" stroke-width=\"0\" /><text x=\"30.0\" y=\"475.0\" dominant-baseline=\"middle\" text-anchor=\"middle\" font-size=\"14px\" font-family=\"Arial\">9: </text><circle cx=\"90.0\" cy=\"25.0\" r=\"10.0\" /><rect x=\"70.0\" y=\"55.0\" width=\"40\" height=\"40\" stroke=\"black\" fill=\"white\" stroke-width=\"1\" /><text x=\"90.0\" y=\"75.0\" dominant-baseline=\"middle\" text-anchor=\"middle\" font-size=\"18px\" font-family=\"Arial\">X</text><rect x=\"130.0\" y=\"55.0\" width=\"55.143984375\" height=\"40\" stroke=\"black\" fill=\"white\" stroke-width=\"1\" /><text x=\"157.5719921875\" y=\"75.0\" dominant-baseline=\"middle\" text-anchor=\"middle\" font-size=\"14px\" font-family=\"Arial\">BF(0.1)</text><rect x=\"130.0\" y=\"5.0\" width=\"55.143984375\" height=\"40\" stroke=\"black\" fill=\"white\" stroke-width=\"1\" /><text x=\"157.5719921875\" y=\"25.0\" dominant-baseline=\"middle\" text-anchor=\"middle\" font-size=\"14px\" font-family=\"Arial\">Rx(a)</text><rect x=\"205.143984375\" y=\"55.0\" width=\"40\" height=\"40\" stroke=\"black\" fill=\"white\" stroke-width=\"1\" /><text x=\"225.143984375\" y=\"75.0\" dominant-baseline=\"middle\" text-anchor=\"middle\" font-size=\"18px\" font-family=\"Arial\">H</text><circle cx=\"285.143984375\" cy=\"75.0\" r=\"10.0\" /><rect x=\"265.143984375\" y=\"105.0\" width=\"40\" height=\"40\" stroke=\"black\" fill=\"white\" stroke-width=\"1\" /><text x=\"285.143984375\" y=\"125.0\" dominant-baseline=\"middle\" text-anchor=\"middle\" font-size=\"18px\" font-family=\"Arial\">X</text><rect x=\"325.14398437500006\" y=\"105.0\" width=\"55.143984375\" height=\"40\" stroke=\"black\" fill=\"white\" stroke-width=\"1\" /><text x=\"352.71597656250003\" y=\"125.0\" dominant-baseline=\"middle\" text-anchor=\"middle\" font-size=\"14px\" font-family=\"Arial\">BF(0.1)</text><rect x=\"400.28796875\" y=\"105.0\" width=\"40\" height=\"40\" stroke=\"black\" fill=\"white\" stroke-width=\"1\" /><text x=\"420.28796875\" y=\"125.0\" dominant-baseline=\"middle\" text-anchor=\"middle\" font-size=\"18px\" font-family=\"Arial\">H</text><circle cx=\"480.28796875\" cy=\"125.0\" r=\"10.0\" /><rect x=\"460.28796875\" y=\"155.0\" width=\"40\" height=\"40\" stroke=\"black\" fill=\"white\" stroke-width=\"1\" /><text x=\"480.28796875\" y=\"175.0\" dominant-baseline=\"middle\" text-anchor=\"middle\" font-size=\"18px\" font-family=\"Arial\">X</text><rect x=\"520.28796875\" y=\"155.0\" width=\"55.143984375\" height=\"40\" stroke=\"black\" fill=\"white\" stroke-width=\"1\" /><text x=\"547.8599609375\" y=\"175.0\" dominant-baseline=\"middle\" text-anchor=\"middle\" font-size=\"14px\" font-family=\"Arial\">BF(0.1)</text><rect x=\"595.4319531250001\" y=\"155.0\" width=\"40\" height=\"40\" stroke=\"black\" fill=\"white\" stroke-width=\"1\" /><text x=\"615.4319531250001\" y=\"175.0\" dominant-baseline=\"middle\" text-anchor=\"middle\" font-size=\"18px\" font-family=\"Arial\">H</text><circle cx=\"675.4319531250001\" cy=\"175.0\" r=\"10.0\" /><rect x=\"655.4319531250001\" y=\"205.0\" width=\"40\" height=\"40\" stroke=\"black\" fill=\"white\" stroke-width=\"1\" /><text x=\"675.4319531250001\" y=\"225.0\" dominant-baseline=\"middle\" text-anchor=\"middle\" font-size=\"18px\" font-family=\"Arial\">X</text><rect x=\"715.4319531250001\" y=\"205.0\" width=\"55.143984375\" height=\"40\" stroke=\"black\" fill=\"white\" stroke-width=\"1\" /><text x=\"743.0039453125\" y=\"225.0\" dominant-baseline=\"middle\" text-anchor=\"middle\" font-size=\"14px\" font-family=\"Arial\">BF(0.1)</text><rect x=\"790.5759375\" y=\"205.0\" width=\"40\" height=\"40\" stroke=\"black\" fill=\"white\" stroke-width=\"1\" /><text x=\"810.5759375\" y=\"225.0\" dominant-baseline=\"middle\" text-anchor=\"middle\" font-size=\"18px\" font-family=\"Arial\">H</text><circle cx=\"870.5759375\" cy=\"225.0\" r=\"10.0\" /><rect x=\"850.5759375\" y=\"255.0\" width=\"40\" height=\"40\" stroke=\"black\" fill=\"white\" stroke-width=\"1\" /><text x=\"870.5759375\" y=\"275.0\" dominant-baseline=\"middle\" text-anchor=\"middle\" font-size=\"18px\" font-family=\"Arial\">X</text><rect x=\"910.5759375\" y=\"255.0\" width=\"55.143984375\" height=\"40\" stroke=\"black\" fill=\"white\" stroke-width=\"1\" /><text x=\"938.1479296875\" y=\"275.0\" dominant-baseline=\"middle\" text-anchor=\"middle\" font-size=\"14px\" font-family=\"Arial\">BF(0.1)</text><circle cx=\"938.1479296875\" cy=\"25.0\" r=\"10.0\" /><rect x=\"910.5759375\" y=\"205.0\" width=\"55.143984375\" height=\"40\" stroke=\"black\" fill=\"white\" stroke-width=\"1\" /><text x=\"938.1479296875\" y=\"225.0\" dominant-baseline=\"middle\" text-anchor=\"middle\" font-size=\"18px\" font-family=\"Arial\">X</text><rect x=\"985.719921875\" y=\"255.0\" width=\"40\" height=\"40\" stroke=\"black\" fill=\"white\" stroke-width=\"1\" /><text x=\"1005.719921875\" y=\"275.0\" dominant-baseline=\"middle\" text-anchor=\"middle\" font-size=\"18px\" font-family=\"Arial\">H</text><circle cx=\"1005.719921875\" cy=\"25.0\" r=\"10.0\" /><rect x=\"985.719921875\" y=\"55.0\" width=\"40\" height=\"40\" stroke=\"black\" fill=\"white\" stroke-width=\"1\" /><text x=\"1005.719921875\" y=\"75.0\" dominant-baseline=\"middle\" text-anchor=\"middle\" font-size=\"18px\" font-family=\"Arial\">X</text><circle cx=\"1073.2919140625\" cy=\"275.0\" r=\"10.0\" /><rect x=\"1045.719921875\" y=\"305.0\" width=\"55.143984375\" height=\"40\" stroke=\"black\" fill=\"white\" stroke-width=\"1\" /><text x=\"1073.2919140625\" y=\"325.0\" dominant-baseline=\"middle\" text-anchor=\"middle\" font-size=\"18px\" font-family=\"Arial\">X</text><rect x=\"1045.719921875\" y=\"55.0\" width=\"55.143984375\" height=\"40\" stroke=\"black\" fill=\"white\" stroke-width=\"1\" /><text x=\"1073.2919140625\" y=\"75.0\" dominant-baseline=\"middle\" text-anchor=\"middle\" font-size=\"14px\" font-family=\"Arial\">BF(0.1)</text><rect x=\"1045.719921875\" y=\"5.0\" width=\"55.143984375\" height=\"40\" stroke=\"black\" fill=\"white\" stroke-width=\"1\" /><text x=\"1073.2919140625\" y=\"25.0\" dominant-baseline=\"middle\" text-anchor=\"middle\" font-size=\"14px\" font-family=\"Arial\">Rx(a)</text><rect x=\"1120.86390625\" y=\"305.0\" width=\"55.143984375\" height=\"40\" stroke=\"black\" fill=\"white\" stroke-width=\"1\" /><text x=\"1148.4358984374999\" y=\"325.0\" dominant-baseline=\"middle\" text-anchor=\"middle\" font-size=\"14px\" font-family=\"Arial\">BF(0.1)</text><rect x=\"1120.86390625\" y=\"55.0\" width=\"55.143984375\" height=\"40\" stroke=\"black\" fill=\"white\" stroke-width=\"1\" /><text x=\"1148.4358984374999\" y=\"75.0\" dominant-baseline=\"middle\" text-anchor=\"middle\" font-size=\"18px\" font-family=\"Arial\">H</text><rect x=\"1196.0078906249998\" y=\"305.0\" width=\"40\" height=\"40\" stroke=\"black\" fill=\"white\" stroke-width=\"1\" /><text x=\"1216.0078906249998\" y=\"325.0\" dominant-baseline=\"middle\" text-anchor=\"middle\" font-size=\"18px\" font-family=\"Arial\">H</text><circle cx=\"1216.0078906249998\" cy=\"75.0\" r=\"10.0\" /><rect x=\"1196.0078906249998\" y=\"105.0\" width=\"40\" height=\"40\" stroke=\"black\" fill=\"white\" stroke-width=\"1\" /><text x=\"1216.0078906249998\" y=\"125.0\" dominant-baseline=\"middle\" text-anchor=\"middle\" font-size=\"18px\" font-family=\"Arial\">X</text><circle cx=\"1283.5798828124998\" cy=\"325.0\" r=\"10.0\" /><rect x=\"1256.0078906249998\" y=\"355.0\" width=\"55.143984375\" height=\"40\" stroke=\"black\" fill=\"white\" stroke-width=\"1\" /><text x=\"1283.5798828124998\" y=\"375.0\" dominant-baseline=\"middle\" text-anchor=\"middle\" font-size=\"18px\" font-family=\"Arial\">X</text><rect x=\"1256.0078906249998\" y=\"105.0\" width=\"55.143984375\" height=\"40\" stroke=\"black\" fill=\"white\" stroke-width=\"1\" /><text x=\"1283.5798828124998\" y=\"125.0\" dominant-baseline=\"middle\" text-anchor=\"middle\" font-size=\"14px\" font-family=\"Arial\">BF(0.1)</text><rect x=\"1331.1518749999998\" y=\"355.0\" width=\"55.143984375\" height=\"40\" stroke=\"black\" fill=\"white\" stroke-width=\"1\" /><text x=\"1358.7238671874998\" y=\"375.0\" dominant-baseline=\"middle\" text-anchor=\"middle\" font-size=\"14px\" font-family=\"Arial\">BF(0.1)</text><rect x=\"1331.1518749999998\" y=\"105.0\" width=\"55.143984375\" height=\"40\" stroke=\"black\" fill=\"white\" stroke-width=\"1\" /><text x=\"1358.7238671874998\" y=\"125.0\" dominant-baseline=\"middle\" text-anchor=\"middle\" font-size=\"18px\" font-family=\"Arial\">H</text><rect x=\"1406.2958593749997\" y=\"355.0\" width=\"40\" height=\"40\" stroke=\"black\" fill=\"white\" stroke-width=\"1\" /><text x=\"1426.2958593749997\" y=\"375.0\" dominant-baseline=\"middle\" text-anchor=\"middle\" font-size=\"18px\" font-family=\"Arial\">H</text><circle cx=\"1426.2958593749997\" cy=\"125.0\" r=\"10.0\" /><rect x=\"1406.2958593749997\" y=\"155.0\" width=\"40\" height=\"40\" stroke=\"black\" fill=\"white\" stroke-width=\"1\" /><text x=\"1426.2958593749997\" y=\"175.0\" dominant-baseline=\"middle\" text-anchor=\"middle\" font-size=\"18px\" font-family=\"Arial\">X</text><circle cx=\"1493.8678515624997\" cy=\"375.0\" r=\"10.0\" /><rect x=\"1466.2958593749997\" y=\"405.0\" width=\"55.143984375\" height=\"40\" stroke=\"black\" fill=\"white\" stroke-width=\"1\" /><text x=\"1493.8678515624997\" y=\"425.0\" dominant-baseline=\"middle\" text-anchor=\"middle\" font-size=\"18px\" font-family=\"Arial\">X</text><rect x=\"1466.2958593749997\" y=\"155.0\" width=\"55.143984375\" height=\"40\" stroke=\"black\" fill=\"white\" stroke-width=\"1\" /><text x=\"1493.8678515624997\" y=\"175.0\" dominant-baseline=\"middle\" text-anchor=\"middle\" font-size=\"14px\" font-family=\"Arial\">BF(0.1)</text><rect x=\"1541.4398437499997\" y=\"405.0\" width=\"55.143984375\" height=\"40\" stroke=\"black\" fill=\"white\" stroke-width=\"1\" /><text x=\"1569.0118359374997\" y=\"425.0\" dominant-baseline=\"middle\" text-anchor=\"middle\" font-size=\"14px\" font-family=\"Arial\">BF(0.1)</text><rect x=\"1541.4398437499997\" y=\"155.0\" width=\"55.143984375\" height=\"40\" stroke=\"black\" fill=\"white\" stroke-width=\"1\" /><text x=\"1569.0118359374997\" y=\"175.0\" dominant-baseline=\"middle\" text-anchor=\"middle\" font-size=\"18px\" font-family=\"Arial\">H</text><rect x=\"1616.5838281249996\" y=\"405.0\" width=\"40\" height=\"40\" stroke=\"black\" fill=\"white\" stroke-width=\"1\" /><text x=\"1636.5838281249996\" y=\"425.0\" dominant-baseline=\"middle\" text-anchor=\"middle\" font-size=\"18px\" font-family=\"Arial\">H</text><circle cx=\"1636.5838281249996\" cy=\"175.0\" r=\"10.0\" /><rect x=\"1616.5838281249996\" y=\"205.0\" width=\"40\" height=\"40\" stroke=\"black\" fill=\"white\" stroke-width=\"1\" /><text x=\"1636.5838281249996\" y=\"225.0\" dominant-baseline=\"middle\" text-anchor=\"middle\" font-size=\"18px\" font-family=\"Arial\">X</text><circle cx=\"1704.1558203124996\" cy=\"425.0\" r=\"10.0\" /><rect x=\"1676.5838281249996\" y=\"455.0\" width=\"55.143984375\" height=\"40\" stroke=\"black\" fill=\"white\" stroke-width=\"1\" /><text x=\"1704.1558203124996\" y=\"475.0\" dominant-baseline=\"middle\" text-anchor=\"middle\" font-size=\"18px\" font-family=\"Arial\">X</text><rect x=\"1676.5838281249996\" y=\"205.0\" width=\"55.143984375\" height=\"40\" stroke=\"black\" fill=\"white\" stroke-width=\"1\" /><text x=\"1704.1558203124996\" y=\"225.0\" dominant-baseline=\"middle\" text-anchor=\"middle\" font-size=\"14px\" font-family=\"Arial\">BF(0.1)</text><rect x=\"1751.7278124999996\" y=\"455.0\" width=\"55.143984375\" height=\"40\" stroke=\"black\" fill=\"white\" stroke-width=\"1\" /><text x=\"1779.2998046874995\" y=\"475.0\" dominant-baseline=\"middle\" text-anchor=\"middle\" font-size=\"14px\" font-family=\"Arial\">BF(0.1)</text><rect x=\"1751.7278124999996\" y=\"205.0\" width=\"55.143984375\" height=\"40\" stroke=\"black\" fill=\"white\" stroke-width=\"1\" /><text x=\"1779.2998046874995\" y=\"225.0\" dominant-baseline=\"middle\" text-anchor=\"middle\" font-size=\"18px\" font-family=\"Arial\">H</text><rect x=\"1826.8717968749995\" y=\"455.0\" width=\"40\" height=\"40\" stroke=\"black\" fill=\"white\" stroke-width=\"1\" /><text x=\"1846.8717968749995\" y=\"475.0\" dominant-baseline=\"middle\" text-anchor=\"middle\" font-size=\"18px\" font-family=\"Arial\">H</text><rect x=\"1886.8717968749995\" y=\"455.0\" width=\"42.61453125\" height=\"40\" stroke=\"black\" fill=\"white\" stroke-width=\"1\" /><text x=\"1908.1790624999994\" y=\"475.0\" dominant-baseline=\"middle\" text-anchor=\"middle\" font-size=\"14px\" font-family=\"Arial\">Rx(b)</text><circle cx=\"1969.4863281249995\" cy=\"475.0\" r=\"10.0\" /><rect x=\"1949.4863281249995\" y=\"255.0\" width=\"40\" height=\"40\" stroke=\"black\" fill=\"white\" stroke-width=\"1\" /><text x=\"1969.4863281249995\" y=\"275.0\" dominant-baseline=\"middle\" text-anchor=\"middle\" font-size=\"18px\" font-family=\"Arial\">X</text><circle cx=\"2029.4863281249995\" cy=\"225.0\" r=\"10.0\" /><rect x=\"2009.4863281249995\" y=\"255.0\" width=\"40\" height=\"40\" stroke=\"black\" fill=\"white\" stroke-width=\"1\" /><text x=\"2029.4863281249995\" y=\"275.0\" dominant-baseline=\"middle\" text-anchor=\"middle\" font-size=\"18px\" font-family=\"Arial\">X</text><rect x=\"2069.4863281249995\" y=\"255.0\" width=\"55.143984375\" height=\"40\" stroke=\"black\" fill=\"white\" stroke-width=\"1\" /><text x=\"2097.0583203124997\" y=\"275.0\" dominant-baseline=\"middle\" text-anchor=\"middle\" font-size=\"14px\" font-family=\"Arial\">BF(0.1)</text><circle cx=\"2097.0583203124997\" cy=\"25.0\" r=\"10.0\" /><rect x=\"2069.4863281249995\" y=\"205.0\" width=\"55.143984375\" height=\"40\" stroke=\"black\" fill=\"white\" stroke-width=\"1\" /><text x=\"2097.0583203124997\" y=\"225.0\" dominant-baseline=\"middle\" text-anchor=\"middle\" font-size=\"18px\" font-family=\"Arial\">X</text><rect x=\"2144.6303124999995\" y=\"255.0\" width=\"40\" height=\"40\" stroke=\"black\" fill=\"white\" stroke-width=\"1\" /><text x=\"2164.6303124999995\" y=\"275.0\" dominant-baseline=\"middle\" text-anchor=\"middle\" font-size=\"18px\" font-family=\"Arial\">H</text><circle cx=\"2164.6303124999995\" cy=\"25.0\" r=\"10.0\" /><rect x=\"2144.6303124999995\" y=\"55.0\" width=\"40\" height=\"40\" stroke=\"black\" fill=\"white\" stroke-width=\"1\" /><text x=\"2164.6303124999995\" y=\"75.0\" dominant-baseline=\"middle\" text-anchor=\"middle\" font-size=\"18px\" font-family=\"Arial\">X</text><circle cx=\"2232.2023046874997\" cy=\"275.0\" r=\"10.0\" /><rect x=\"2204.6303124999995\" y=\"305.0\" width=\"55.143984375\" height=\"40\" stroke=\"black\" fill=\"white\" stroke-width=\"1\" /><text x=\"2232.2023046874997\" y=\"325.0\" dominant-baseline=\"middle\" text-anchor=\"middle\" font-size=\"18px\" font-family=\"Arial\">X</text><rect x=\"2204.6303124999995\" y=\"55.0\" width=\"55.143984375\" height=\"40\" stroke=\"black\" fill=\"white\" stroke-width=\"1\" /><text x=\"2232.2023046874997\" y=\"75.0\" dominant-baseline=\"middle\" text-anchor=\"middle\" font-size=\"14px\" font-family=\"Arial\">BF(0.1)</text><rect x=\"2204.6303124999995\" y=\"5.0\" width=\"55.143984375\" height=\"40\" stroke=\"black\" fill=\"white\" stroke-width=\"1\" /><text x=\"2232.2023046874997\" y=\"25.0\" dominant-baseline=\"middle\" text-anchor=\"middle\" font-size=\"14px\" font-family=\"Arial\">Rx(a)</text><rect x=\"2279.7742968749994\" y=\"305.0\" width=\"55.143984375\" height=\"40\" stroke=\"black\" fill=\"white\" stroke-width=\"1\" /><text x=\"2307.3462890624996\" y=\"325.0\" dominant-baseline=\"middle\" text-anchor=\"middle\" font-size=\"14px\" font-family=\"Arial\">BF(0.1)</text><rect x=\"2279.7742968749994\" y=\"55.0\" width=\"55.143984375\" height=\"40\" stroke=\"black\" fill=\"white\" stroke-width=\"1\" /><text x=\"2307.3462890624996\" y=\"75.0\" dominant-baseline=\"middle\" text-anchor=\"middle\" font-size=\"18px\" font-family=\"Arial\">H</text><rect x=\"2354.9182812499994\" y=\"305.0\" width=\"40\" height=\"40\" stroke=\"black\" fill=\"white\" stroke-width=\"1\" /><text x=\"2374.9182812499994\" y=\"325.0\" dominant-baseline=\"middle\" text-anchor=\"middle\" font-size=\"18px\" font-family=\"Arial\">H</text><circle cx=\"2374.9182812499994\" cy=\"75.0\" r=\"10.0\" /><rect x=\"2354.9182812499994\" y=\"105.0\" width=\"40\" height=\"40\" stroke=\"black\" fill=\"white\" stroke-width=\"1\" /><text x=\"2374.9182812499994\" y=\"125.0\" dominant-baseline=\"middle\" text-anchor=\"middle\" font-size=\"18px\" font-family=\"Arial\">X</text><circle cx=\"2442.4902734374996\" cy=\"325.0\" r=\"10.0\" /><rect x=\"2414.9182812499994\" y=\"355.0\" width=\"55.143984375\" height=\"40\" stroke=\"black\" fill=\"white\" stroke-width=\"1\" /><text x=\"2442.4902734374996\" y=\"375.0\" dominant-baseline=\"middle\" text-anchor=\"middle\" font-size=\"18px\" font-family=\"Arial\">X</text><rect x=\"2414.9182812499994\" y=\"105.0\" width=\"55.143984375\" height=\"40\" stroke=\"black\" fill=\"white\" stroke-width=\"1\" /><text x=\"2442.4902734374996\" y=\"125.0\" dominant-baseline=\"middle\" text-anchor=\"middle\" font-size=\"14px\" font-family=\"Arial\">BF(0.1)</text><rect x=\"2490.0622656249993\" y=\"355.0\" width=\"55.143984375\" height=\"40\" stroke=\"black\" fill=\"white\" stroke-width=\"1\" /><text x=\"2517.6342578124995\" y=\"375.0\" dominant-baseline=\"middle\" text-anchor=\"middle\" font-size=\"14px\" font-family=\"Arial\">BF(0.1)</text><rect x=\"2490.0622656249993\" y=\"105.0\" width=\"55.143984375\" height=\"40\" stroke=\"black\" fill=\"white\" stroke-width=\"1\" /><text x=\"2517.6342578124995\" y=\"125.0\" dominant-baseline=\"middle\" text-anchor=\"middle\" font-size=\"18px\" font-family=\"Arial\">H</text><rect x=\"2565.2062499999993\" y=\"355.0\" width=\"40\" height=\"40\" stroke=\"black\" fill=\"white\" stroke-width=\"1\" /><text x=\"2585.2062499999993\" y=\"375.0\" dominant-baseline=\"middle\" text-anchor=\"middle\" font-size=\"18px\" font-family=\"Arial\">H</text><circle cx=\"2585.2062499999993\" cy=\"125.0\" r=\"10.0\" /><rect x=\"2565.2062499999993\" y=\"155.0\" width=\"40\" height=\"40\" stroke=\"black\" fill=\"white\" stroke-width=\"1\" /><text x=\"2585.2062499999993\" y=\"175.0\" dominant-baseline=\"middle\" text-anchor=\"middle\" font-size=\"18px\" font-family=\"Arial\">X</text><circle cx=\"2652.7782421874995\" cy=\"375.0\" r=\"10.0\" /><rect x=\"2625.2062499999993\" y=\"405.0\" width=\"55.143984375\" height=\"40\" stroke=\"black\" fill=\"white\" stroke-width=\"1\" /><text x=\"2652.7782421874995\" y=\"425.0\" dominant-baseline=\"middle\" text-anchor=\"middle\" font-size=\"18px\" font-family=\"Arial\">X</text><rect x=\"2625.2062499999993\" y=\"155.0\" width=\"55.143984375\" height=\"40\" stroke=\"black\" fill=\"white\" stroke-width=\"1\" /><text x=\"2652.7782421874995\" y=\"175.0\" dominant-baseline=\"middle\" text-anchor=\"middle\" font-size=\"14px\" font-family=\"Arial\">BF(0.1)</text><rect x=\"2700.350234374999\" y=\"405.0\" width=\"55.143984375\" height=\"40\" stroke=\"black\" fill=\"white\" stroke-width=\"1\" /><text x=\"2727.9222265624994\" y=\"425.0\" dominant-baseline=\"middle\" text-anchor=\"middle\" font-size=\"14px\" font-family=\"Arial\">BF(0.1)</text><rect x=\"2700.350234374999\" y=\"155.0\" width=\"55.143984375\" height=\"40\" stroke=\"black\" fill=\"white\" stroke-width=\"1\" /><text x=\"2727.9222265624994\" y=\"175.0\" dominant-baseline=\"middle\" text-anchor=\"middle\" font-size=\"18px\" font-family=\"Arial\">H</text><rect x=\"2775.494218749999\" y=\"405.0\" width=\"40\" height=\"40\" stroke=\"black\" fill=\"white\" stroke-width=\"1\" /><text x=\"2795.494218749999\" y=\"425.0\" dominant-baseline=\"middle\" text-anchor=\"middle\" font-size=\"18px\" font-family=\"Arial\">H</text><circle cx=\"2795.494218749999\" cy=\"175.0\" r=\"10.0\" /><rect x=\"2775.494218749999\" y=\"205.0\" width=\"40\" height=\"40\" stroke=\"black\" fill=\"white\" stroke-width=\"1\" /><text x=\"2795.494218749999\" y=\"225.0\" dominant-baseline=\"middle\" text-anchor=\"middle\" font-size=\"18px\" font-family=\"Arial\">X</text><circle cx=\"2863.0662109374994\" cy=\"425.0\" r=\"10.0\" /><rect x=\"2835.494218749999\" y=\"455.0\" width=\"55.143984375\" height=\"40\" stroke=\"black\" fill=\"white\" stroke-width=\"1\" /><text x=\"2863.0662109374994\" y=\"475.0\" dominant-baseline=\"middle\" text-anchor=\"middle\" font-size=\"18px\" font-family=\"Arial\">X</text><rect x=\"2835.494218749999\" y=\"205.0\" width=\"55.143984375\" height=\"40\" stroke=\"black\" fill=\"white\" stroke-width=\"1\" /><text x=\"2863.0662109374994\" y=\"225.0\" dominant-baseline=\"middle\" text-anchor=\"middle\" font-size=\"14px\" font-family=\"Arial\">BF(0.1)</text><rect x=\"2910.638203124999\" y=\"455.0\" width=\"55.143984375\" height=\"40\" stroke=\"black\" fill=\"white\" stroke-width=\"1\" /><text x=\"2938.2101953124993\" y=\"475.0\" dominant-baseline=\"middle\" text-anchor=\"middle\" font-size=\"14px\" font-family=\"Arial\">BF(0.1)</text><rect x=\"2910.638203124999\" y=\"205.0\" width=\"55.143984375\" height=\"40\" stroke=\"black\" fill=\"white\" stroke-width=\"1\" /><text x=\"2938.2101953124993\" y=\"225.0\" dominant-baseline=\"middle\" text-anchor=\"middle\" font-size=\"18px\" font-family=\"Arial\">H</text><rect x=\"2985.782187499999\" y=\"455.0\" width=\"40\" height=\"40\" stroke=\"black\" fill=\"white\" stroke-width=\"1\" /><text x=\"3005.782187499999\" y=\"475.0\" dominant-baseline=\"middle\" text-anchor=\"middle\" font-size=\"18px\" font-family=\"Arial\">H</text><rect x=\"3045.782187499999\" y=\"455.0\" width=\"42.61453125\" height=\"40\" stroke=\"black\" fill=\"white\" stroke-width=\"1\" /><text x=\"3067.089453124999\" y=\"475.0\" dominant-baseline=\"middle\" text-anchor=\"middle\" font-size=\"14px\" font-family=\"Arial\">Rx(b)</text><circle cx=\"3128.396718749999\" cy=\"475.0\" r=\"10.0\" /><rect x=\"3108.396718749999\" y=\"255.0\" width=\"40\" height=\"40\" stroke=\"black\" fill=\"white\" stroke-width=\"1\" /><text x=\"3128.396718749999\" y=\"275.0\" dominant-baseline=\"middle\" text-anchor=\"middle\" font-size=\"18px\" font-family=\"Arial\">X</text><circle cx=\"3188.396718749999\" cy=\"225.0\" r=\"10.0\" /><rect x=\"3168.396718749999\" y=\"255.0\" width=\"40\" height=\"40\" stroke=\"black\" fill=\"white\" stroke-width=\"1\" /><text x=\"3188.396718749999\" y=\"275.0\" dominant-baseline=\"middle\" text-anchor=\"middle\" font-size=\"18px\" font-family=\"Arial\">X</text><rect x=\"3228.396718749999\" y=\"255.0\" width=\"55.143984375\" height=\"40\" stroke=\"black\" fill=\"white\" stroke-width=\"1\" /><text x=\"3255.968710937499\" y=\"275.0\" dominant-baseline=\"middle\" text-anchor=\"middle\" font-size=\"14px\" font-family=\"Arial\">BF(0.1)</text><circle cx=\"3255.968710937499\" cy=\"25.0\" r=\"10.0\" /><rect x=\"3228.396718749999\" y=\"205.0\" width=\"55.143984375\" height=\"40\" stroke=\"black\" fill=\"white\" stroke-width=\"1\" /><text x=\"3255.968710937499\" y=\"225.0\" dominant-baseline=\"middle\" text-anchor=\"middle\" font-size=\"18px\" font-family=\"Arial\">X</text><rect x=\"3303.540703124999\" y=\"255.0\" width=\"40\" height=\"40\" stroke=\"black\" fill=\"white\" stroke-width=\"1\" /><text x=\"3323.540703124999\" y=\"275.0\" dominant-baseline=\"middle\" text-anchor=\"middle\" font-size=\"18px\" font-family=\"Arial\">H</text><rect x=\"3303.540703124999\" y=\"5.0\" width=\"40\" height=\"40\" stroke=\"black\" fill=\"white\" stroke-width=\"1\" /><text x=\"3323.540703124999\" y=\"25.0\" dominant-baseline=\"middle\" text-anchor=\"middle\" font-size=\"18px\" font-family=\"Arial\">X</text><circle cx=\"3383.540703124999\" cy=\"275.0\" r=\"10.0\" /><rect x=\"3363.540703124999\" y=\"305.0\" width=\"40\" height=\"40\" stroke=\"black\" fill=\"white\" stroke-width=\"1\" /><text x=\"3383.540703124999\" y=\"325.0\" dominant-baseline=\"middle\" text-anchor=\"middle\" font-size=\"18px\" font-family=\"Arial\">X</text><rect x=\"3423.540703124999\" y=\"305.0\" width=\"55.143984375\" height=\"40\" stroke=\"black\" fill=\"white\" stroke-width=\"1\" /><text x=\"3451.112695312499\" y=\"325.0\" dominant-baseline=\"middle\" text-anchor=\"middle\" font-size=\"14px\" font-family=\"Arial\">BF(0.1)</text><rect x=\"3498.6846874999987\" y=\"305.0\" width=\"40\" height=\"40\" stroke=\"black\" fill=\"white\" stroke-width=\"1\" /><text x=\"3518.6846874999987\" y=\"325.0\" dominant-baseline=\"middle\" text-anchor=\"middle\" font-size=\"18px\" font-family=\"Arial\">H</text><circle cx=\"3578.6846874999987\" cy=\"325.0\" r=\"10.0\" /><rect x=\"3558.6846874999987\" y=\"355.0\" width=\"40\" height=\"40\" stroke=\"black\" fill=\"white\" stroke-width=\"1\" /><text x=\"3578.6846874999987\" y=\"375.0\" dominant-baseline=\"middle\" text-anchor=\"middle\" font-size=\"18px\" font-family=\"Arial\">X</text><rect x=\"3618.6846874999987\" y=\"355.0\" width=\"55.143984375\" height=\"40\" stroke=\"black\" fill=\"white\" stroke-width=\"1\" /><text x=\"3646.256679687499\" y=\"375.0\" dominant-baseline=\"middle\" text-anchor=\"middle\" font-size=\"14px\" font-family=\"Arial\">BF(0.1)</text><rect x=\"3693.8286718749987\" y=\"355.0\" width=\"40\" height=\"40\" stroke=\"black\" fill=\"white\" stroke-width=\"1\" /><text x=\"3713.8286718749987\" y=\"375.0\" dominant-baseline=\"middle\" text-anchor=\"middle\" font-size=\"18px\" font-family=\"Arial\">H</text><circle cx=\"3773.8286718749987\" cy=\"375.0\" r=\"10.0\" /><rect x=\"3753.8286718749987\" y=\"405.0\" width=\"40\" height=\"40\" stroke=\"black\" fill=\"white\" stroke-width=\"1\" /><text x=\"3773.8286718749987\" y=\"425.0\" dominant-baseline=\"middle\" text-anchor=\"middle\" font-size=\"18px\" font-family=\"Arial\">X</text><rect x=\"3813.8286718749987\" y=\"405.0\" width=\"55.143984375\" height=\"40\" stroke=\"black\" fill=\"white\" stroke-width=\"1\" /><text x=\"3841.400664062499\" y=\"425.0\" dominant-baseline=\"middle\" text-anchor=\"middle\" font-size=\"14px\" font-family=\"Arial\">BF(0.1)</text><rect x=\"3888.9726562499986\" y=\"405.0\" width=\"40\" height=\"40\" stroke=\"black\" fill=\"white\" stroke-width=\"1\" /><text x=\"3908.9726562499986\" y=\"425.0\" dominant-baseline=\"middle\" text-anchor=\"middle\" font-size=\"18px\" font-family=\"Arial\">H</text><circle cx=\"3968.9726562499986\" cy=\"425.0\" r=\"10.0\" /><rect x=\"3948.9726562499986\" y=\"455.0\" width=\"40\" height=\"40\" stroke=\"black\" fill=\"white\" stroke-width=\"1\" /><text x=\"3968.9726562499986\" y=\"475.0\" dominant-baseline=\"middle\" text-anchor=\"middle\" font-size=\"18px\" font-family=\"Arial\">X</text><rect x=\"4008.9726562499986\" y=\"455.0\" width=\"55.143984375\" height=\"40\" stroke=\"black\" fill=\"white\" stroke-width=\"1\" /><text x=\"4036.544648437499\" y=\"475.0\" dominant-baseline=\"middle\" text-anchor=\"middle\" font-size=\"14px\" font-family=\"Arial\">BF(0.1)</text><rect x=\"4084.1166406249986\" y=\"455.0\" width=\"40\" height=\"40\" stroke=\"black\" fill=\"white\" stroke-width=\"1\" /><text x=\"4104.116640624999\" y=\"475.0\" dominant-baseline=\"middle\" text-anchor=\"middle\" font-size=\"18px\" font-family=\"Arial\">H</text><rect x=\"4144.116640624999\" y=\"455.0\" width=\"42.61453125\" height=\"40\" stroke=\"black\" fill=\"white\" stroke-width=\"1\" /><text x=\"4165.423906249998\" y=\"475.0\" dominant-baseline=\"middle\" text-anchor=\"middle\" font-size=\"14px\" font-family=\"Arial\">Rx(b)</text><circle cx=\"4226.731171874999\" cy=\"475.0\" r=\"10.0\" /><rect x=\"4206.731171874999\" y=\"255.0\" width=\"40\" height=\"40\" stroke=\"black\" fill=\"white\" stroke-width=\"1\" /><text x=\"4226.731171874999\" y=\"275.0\" dominant-baseline=\"middle\" text-anchor=\"middle\" font-size=\"18px\" font-family=\"Arial\">X</text><rect x=\"4266.731171874999\" y=\"5.0\" width=\"40\" height=\"40\" stroke=\"black\" fill=\"white\" stroke-width=\"1\" /><text x=\"4286.731171874999\" y=\"25.0\" dominant-baseline=\"middle\" text-anchor=\"middle\" font-size=\"18px\" font-family=\"Arial\">M</text><rect x=\"4266.731171874999\" y=\"55.0\" width=\"40\" height=\"40\" stroke=\"black\" fill=\"white\" stroke-width=\"1\" /><text x=\"4286.731171874999\" y=\"75.0\" dominant-baseline=\"middle\" text-anchor=\"middle\" font-size=\"18px\" font-family=\"Arial\">M</text><rect x=\"4266.731171874999\" y=\"105.0\" width=\"40\" height=\"40\" stroke=\"black\" fill=\"white\" stroke-width=\"1\" /><text x=\"4286.731171874999\" y=\"125.0\" dominant-baseline=\"middle\" text-anchor=\"middle\" font-size=\"18px\" font-family=\"Arial\">M</text><rect x=\"4266.731171874999\" y=\"155.0\" width=\"40\" height=\"40\" stroke=\"black\" fill=\"white\" stroke-width=\"1\" /><text x=\"4286.731171874999\" y=\"175.0\" dominant-baseline=\"middle\" text-anchor=\"middle\" font-size=\"18px\" font-family=\"Arial\">M</text><rect x=\"4266.731171874999\" y=\"205.0\" width=\"40\" height=\"40\" stroke=\"black\" fill=\"white\" stroke-width=\"1\" /><text x=\"4286.731171874999\" y=\"225.0\" dominant-baseline=\"middle\" text-anchor=\"middle\" font-size=\"18px\" font-family=\"Arial\">M</text><rect x=\"4266.731171874999\" y=\"255.0\" width=\"40\" height=\"40\" stroke=\"black\" fill=\"white\" stroke-width=\"1\" /><text x=\"4286.731171874999\" y=\"275.0\" dominant-baseline=\"middle\" text-anchor=\"middle\" font-size=\"18px\" font-family=\"Arial\">M</text><rect x=\"4266.731171874999\" y=\"305.0\" width=\"40\" height=\"40\" stroke=\"black\" fill=\"white\" stroke-width=\"1\" /><text x=\"4286.731171874999\" y=\"325.0\" dominant-baseline=\"middle\" text-anchor=\"middle\" font-size=\"18px\" font-family=\"Arial\">M</text><rect x=\"4266.731171874999\" y=\"355.0\" width=\"40\" height=\"40\" stroke=\"black\" fill=\"white\" stroke-width=\"1\" /><text x=\"4286.731171874999\" y=\"375.0\" dominant-baseline=\"middle\" text-anchor=\"middle\" font-size=\"18px\" font-family=\"Arial\">M</text><rect x=\"4266.731171874999\" y=\"405.0\" width=\"40\" height=\"40\" stroke=\"black\" fill=\"white\" stroke-width=\"1\" /><text x=\"4286.731171874999\" y=\"425.0\" dominant-baseline=\"middle\" text-anchor=\"middle\" font-size=\"18px\" font-family=\"Arial\">M</text><rect x=\"4266.731171874999\" y=\"455.0\" width=\"40\" height=\"40\" stroke=\"black\" fill=\"white\" stroke-width=\"1\" /><text x=\"4286.731171874999\" y=\"475.0\" dominant-baseline=\"middle\" text-anchor=\"middle\" font-size=\"18px\" font-family=\"Arial\">M</text></svg>"
      ],
      "text/plain": [
       "<cirq.contrib.svg.svg.SVGCircuit at 0x7f7da01fad30>"
      ]
     },
     "execution_count": 19,
     "metadata": {},
     "output_type": "execute_result"
    }
   ],
   "source": [
    "# Parameters that the classical NN will feed values into.\n",
    "control_params = sympy.symbols('a b')\n",
    "\n",
    "# Create the parameterized circuit.\n",
    "def make_GHZ_withbitflips(num_qubits,measurements=True):\n",
    "    myqubits = cirq.LineQubit.range(num_qubits)\n",
    "    GHZ_circuit = cirq.Circuit()\n",
    "        \n",
    "    \n",
    "    for u in range(0,3):\n",
    "        for x in range(num_qubits-1):\n",
    "            GHZ_circuit.append([cirq.CNOT(myqubits[x],myqubits[x+1]),cirq.bit_flip(p=0.1)(myqubits[x+1])])\n",
    "            GHZ_circuit.append([cirq.H(myqubits[x+1])])\n",
    "\n",
    "        GHZ_circuit.append([cirq.rx(a).on(myqubits[0]),cirq.CNOT(myqubits[0],myqubits[4])])\n",
    "        GHZ_circuit.append([cirq.rx(b).on(myqubits[9]),cirq.CNOT(myqubits[9],myqubits[5])])\n",
    "        \n",
    "\n",
    "        x_gate = cirq.X\n",
    "\n",
    "    if measurements:\n",
    "        GHZ_circuit.append([x_gate(myqubits[0]),cirq.Moment(cirq.measure_each(*myqubits))])\n",
    "    return GHZ_circuit\n",
    "\n",
    "model_circuit=make_GHZ_withbitflips(10)\n",
    "\n",
    "SVGCircuit(model_circuit)"
   ]
  },
  {
   "attachments": {},
   "cell_type": "markdown",
   "metadata": {
    "colab_type": "text",
    "id": "wfjSbsvb7g9f"
   },
   "source": [
    "### 2.2 The controller\n",
    "\n",
    "Now define controller network: "
   ]
  },
  {
   "cell_type": "code",
   "execution_count": 20,
   "metadata": {
    "colab": {},
    "colab_type": "code",
    "execution": {
     "iopub.execute_input": "2022-07-29T11:52:32.680752Z",
     "iopub.status.busy": "2022-07-29T11:52:32.680234Z",
     "iopub.status.idle": "2022-07-29T11:52:32.690831Z",
     "shell.execute_reply": "2022-07-29T11:52:32.690188Z"
    },
    "id": "1v4CK2jD6pIj"
   },
   "outputs": [],
   "source": [
    "# The classical neural network layers.\n",
    "controller = tf.keras.Sequential([\n",
    "    tf.keras.layers.Dense(10, activation='elu'),\n",
    "    tf.keras.layers.Dense(2)\n",
    "])"
   ]
  },
  {
   "attachments": {},
   "cell_type": "markdown",
   "metadata": {
    "colab_type": "text",
    "id": "QNimbsAt6pIm"
   },
   "source": [
    "Given a batch of commands, the controller outputs a batch of control signals for the controlled circuit. \n",
    "\n",
    "The controller is randomly initialized so these outputs are not useful, yet."
   ]
  },
  {
   "cell_type": "code",
   "execution_count": 21,
   "metadata": {
    "colab": {},
    "colab_type": "code",
    "execution": {
     "iopub.execute_input": "2022-07-29T11:52:32.694123Z",
     "iopub.status.busy": "2022-07-29T11:52:32.693532Z",
     "iopub.status.idle": "2022-07-29T11:52:32.740892Z",
     "shell.execute_reply": "2022-07-29T11:52:32.740252Z"
    },
    "id": "kZbYRTe16pIm"
   },
   "outputs": [
    {
     "data": {
      "text/plain": [
       "array([[ 0.        ,  0.        ],\n",
       "       [-0.33321032,  0.40724027],\n",
       "       [ 0.        ,  0.        ],\n",
       "       [-0.33321032,  0.40724027]], dtype=float32)"
      ]
     },
     "execution_count": 21,
     "metadata": {},
     "output_type": "execute_result"
    }
   ],
   "source": [
    "controller(tf.constant([[0.0],[1.0],[0.0],[1.0]])).numpy()"
   ]
  },
  {
   "attachments": {},
   "cell_type": "markdown",
   "metadata": {
    "colab_type": "text",
    "id": "XizLExg56pIp"
   },
   "source": [
    "### 2.3 Connect the controller to the circuit"
   ]
  },
  {
   "attachments": {},
   "cell_type": "markdown",
   "metadata": {
    "colab_type": "text",
    "id": "I5Pmy5-V6pIq"
   },
   "source": [
    "Use `tfq` to connect the controller to the controlled circuit, as a single `keras.Model`. \n",
    "\n",
    "See the [Keras Functional API guide](https://www.tensorflow.org/guide/keras/functional) for more about this style of model definition.\n",
    "\n",
    "First define the inputs to the model:  "
   ]
  },
  {
   "cell_type": "code",
   "execution_count": 22,
   "metadata": {},
   "outputs": [
    {
     "data": {
      "text/html": [
       "<pre style=\"overflow: auto; white-space: pre;\">0: ───@───BF(0.05)[cirq.VirtualTag()]───Rx(a)─────BF(0.05)[cirq.VirtualTag()]───────BF(0.05)[cirq.VirtualTag()]───────BF(0.05)[cirq.VirtualTag()]─────────────BF(0.05)[cirq.VirtualTag()]───────BF(0.05)[cirq.VirtualTag()]───────BF(0.05)[cirq.VirtualTag()]─────────────BF(0.05)[cirq.VirtualTag()]───────BF(0.05)[cirq.VirtualTag()]───────BF(0.05)[cirq.VirtualTag()]─────────────BF(0.05)[cirq.VirtualTag()]───────BF(0.05)[cirq.VirtualTag()]───────BF(0.05)[cirq.VirtualTag()]───@─────────BF(0.05)[cirq.VirtualTag()]───@───BF(0.05)[cirq.VirtualTag()]───Rx(a)─────BF(0.05)[cirq.VirtualTag()]─────────────BF(0.05)[cirq.VirtualTag()]───────BF(0.05)[cirq.VirtualTag()]─────────────BF(0.05)[cirq.VirtualTag()]─────────────BF(0.05)[cirq.VirtualTag()]───────BF(0.05)[cirq.VirtualTag()]─────────────BF(0.05)[cirq.VirtualTag()]─────────────BF(0.05)[cirq.VirtualTag()]───────BF(0.05)[cirq.VirtualTag()]─────────────BF(0.05)[cirq.VirtualTag()]─────────────BF(0.05)[cirq.VirtualTag()]───────BF(0.05)[cirq.VirtualTag()]───────────BF(0.05)[cirq.VirtualTag()]───────BF(0.05)[cirq.VirtualTag()]───────BF(0.05)[cirq.VirtualTag()]───@─────────BF(0.05)[cirq.VirtualTag()]───@───BF(0.05)[cirq.VirtualTag()]───Rx(a)─────BF(0.05)[cirq.VirtualTag()]─────────────BF(0.05)[cirq.VirtualTag()]───────BF(0.05)[cirq.VirtualTag()]─────────────BF(0.05)[cirq.VirtualTag()]─────────────BF(0.05)[cirq.VirtualTag()]───────BF(0.05)[cirq.VirtualTag()]─────────────BF(0.05)[cirq.VirtualTag()]─────────────BF(0.05)[cirq.VirtualTag()]───────BF(0.05)[cirq.VirtualTag()]─────────────BF(0.05)[cirq.VirtualTag()]─────────────BF(0.05)[cirq.VirtualTag()]───────BF(0.05)[cirq.VirtualTag()]───────────BF(0.05)[cirq.VirtualTag()]───────BF(0.05)[cirq.VirtualTag()]───────BF(0.05)[cirq.VirtualTag()]───@─────────BF(0.05)[cirq.VirtualTag()]───X───BF(0.05)[cirq.VirtualTag()]───────BF(0.05)[cirq.VirtualTag()]─────────────BF(0.05)[cirq.VirtualTag()]───────BF(0.05)[cirq.VirtualTag()]───────BF(0.05)[cirq.VirtualTag()]─────────────BF(0.05)[cirq.VirtualTag()]───────BF(0.05)[cirq.VirtualTag()]───────BF(0.05)[cirq.VirtualTag()]─────────────BF(0.05)[cirq.VirtualTag()]───────BF(0.05)[cirq.VirtualTag()]───────BF(0.05)[cirq.VirtualTag()]─────────────BF(0.05)[cirq.VirtualTag()]───────BF(0.05)[cirq.VirtualTag()]───────────BF(0.05)[cirq.VirtualTag()]───────BF(0.05)[cirq.VirtualTag()]───M───BF(0.05)[cirq.VirtualTag()]───\n",
       "      │                                                                                                                                                                                                                                                                                                                                                                                                                                                                                 │                                       │                                                                                                                                                                                                                                                                                                                                                                                                                                                                                                                                                                                                                   │                                       │                                                                                                                                                                                                                                                                                                                                                                                                                                                                                                                                                                                                                   │\n",
       "1: ───X───BF(0.05)[cirq.VirtualTag()]───BF(0.1)───BF(0.05)[cirq.VirtualTag()]───H───BF(0.05)[cirq.VirtualTag()]───@───BF(0.05)[cirq.VirtualTag()]─────────────BF(0.05)[cirq.VirtualTag()]───────BF(0.05)[cirq.VirtualTag()]───────BF(0.05)[cirq.VirtualTag()]─────────────BF(0.05)[cirq.VirtualTag()]───────BF(0.05)[cirq.VirtualTag()]───────BF(0.05)[cirq.VirtualTag()]─────────────BF(0.05)[cirq.VirtualTag()]───────BF(0.05)[cirq.VirtualTag()]───────BF(0.05)[cirq.VirtualTag()]───┼─────────BF(0.05)[cirq.VirtualTag()]───X───BF(0.05)[cirq.VirtualTag()]───BF(0.1)───BF(0.05)[cirq.VirtualTag()]───H─────────BF(0.05)[cirq.VirtualTag()]───@───BF(0.05)[cirq.VirtualTag()]─────────────BF(0.05)[cirq.VirtualTag()]─────────────BF(0.05)[cirq.VirtualTag()]───────BF(0.05)[cirq.VirtualTag()]─────────────BF(0.05)[cirq.VirtualTag()]─────────────BF(0.05)[cirq.VirtualTag()]───────BF(0.05)[cirq.VirtualTag()]─────────────BF(0.05)[cirq.VirtualTag()]─────────────BF(0.05)[cirq.VirtualTag()]───────BF(0.05)[cirq.VirtualTag()]───────────BF(0.05)[cirq.VirtualTag()]───────BF(0.05)[cirq.VirtualTag()]───────BF(0.05)[cirq.VirtualTag()]───┼─────────BF(0.05)[cirq.VirtualTag()]───X───BF(0.05)[cirq.VirtualTag()]───BF(0.1)───BF(0.05)[cirq.VirtualTag()]───H─────────BF(0.05)[cirq.VirtualTag()]───@───BF(0.05)[cirq.VirtualTag()]─────────────BF(0.05)[cirq.VirtualTag()]─────────────BF(0.05)[cirq.VirtualTag()]───────BF(0.05)[cirq.VirtualTag()]─────────────BF(0.05)[cirq.VirtualTag()]─────────────BF(0.05)[cirq.VirtualTag()]───────BF(0.05)[cirq.VirtualTag()]─────────────BF(0.05)[cirq.VirtualTag()]─────────────BF(0.05)[cirq.VirtualTag()]───────BF(0.05)[cirq.VirtualTag()]───────────BF(0.05)[cirq.VirtualTag()]───────BF(0.05)[cirq.VirtualTag()]───────BF(0.05)[cirq.VirtualTag()]───┼─────────BF(0.05)[cirq.VirtualTag()]───────BF(0.05)[cirq.VirtualTag()]───────BF(0.05)[cirq.VirtualTag()]─────────────BF(0.05)[cirq.VirtualTag()]───────BF(0.05)[cirq.VirtualTag()]───────BF(0.05)[cirq.VirtualTag()]─────────────BF(0.05)[cirq.VirtualTag()]───────BF(0.05)[cirq.VirtualTag()]───────BF(0.05)[cirq.VirtualTag()]─────────────BF(0.05)[cirq.VirtualTag()]───────BF(0.05)[cirq.VirtualTag()]───────BF(0.05)[cirq.VirtualTag()]─────────────BF(0.05)[cirq.VirtualTag()]───────BF(0.05)[cirq.VirtualTag()]───────────BF(0.05)[cirq.VirtualTag()]───────BF(0.05)[cirq.VirtualTag()]───M───BF(0.05)[cirq.VirtualTag()]───\n",
       "                                                                                                                  │                                                                                                                                                                                                                                                                                                                                                                     │                                                                                                                                                         │                                                                                                                                                                                                                                                                                                                                                                                                                                                                                                 │                                                                                                                                                         │                                                                                                                                                                                                                                                                                                                                                                                                                                                                                                 │\n",
       "2: ───────BF(0.05)[cirq.VirtualTag()]─────────────BF(0.05)[cirq.VirtualTag()]───────BF(0.05)[cirq.VirtualTag()]───X───BF(0.05)[cirq.VirtualTag()]───BF(0.1)───BF(0.05)[cirq.VirtualTag()]───H───BF(0.05)[cirq.VirtualTag()]───@───BF(0.05)[cirq.VirtualTag()]─────────────BF(0.05)[cirq.VirtualTag()]───────BF(0.05)[cirq.VirtualTag()]───────BF(0.05)[cirq.VirtualTag()]─────────────BF(0.05)[cirq.VirtualTag()]───────BF(0.05)[cirq.VirtualTag()]───────BF(0.05)[cirq.VirtualTag()]───┼─────────BF(0.05)[cirq.VirtualTag()]───────BF(0.05)[cirq.VirtualTag()]─────────────BF(0.05)[cirq.VirtualTag()]─────────────BF(0.05)[cirq.VirtualTag()]───X───BF(0.05)[cirq.VirtualTag()]───BF(0.1)───BF(0.05)[cirq.VirtualTag()]───H─────────BF(0.05)[cirq.VirtualTag()]───@───BF(0.05)[cirq.VirtualTag()]─────────────BF(0.05)[cirq.VirtualTag()]─────────────BF(0.05)[cirq.VirtualTag()]───────BF(0.05)[cirq.VirtualTag()]─────────────BF(0.05)[cirq.VirtualTag()]─────────────BF(0.05)[cirq.VirtualTag()]───────BF(0.05)[cirq.VirtualTag()]───────────BF(0.05)[cirq.VirtualTag()]───────BF(0.05)[cirq.VirtualTag()]───────BF(0.05)[cirq.VirtualTag()]───┼─────────BF(0.05)[cirq.VirtualTag()]───────BF(0.05)[cirq.VirtualTag()]─────────────BF(0.05)[cirq.VirtualTag()]─────────────BF(0.05)[cirq.VirtualTag()]───X───BF(0.05)[cirq.VirtualTag()]───BF(0.1)───BF(0.05)[cirq.VirtualTag()]───H─────────BF(0.05)[cirq.VirtualTag()]───@───BF(0.05)[cirq.VirtualTag()]─────────────BF(0.05)[cirq.VirtualTag()]─────────────BF(0.05)[cirq.VirtualTag()]───────BF(0.05)[cirq.VirtualTag()]─────────────BF(0.05)[cirq.VirtualTag()]─────────────BF(0.05)[cirq.VirtualTag()]───────BF(0.05)[cirq.VirtualTag()]───────────BF(0.05)[cirq.VirtualTag()]───────BF(0.05)[cirq.VirtualTag()]───────BF(0.05)[cirq.VirtualTag()]───┼─────────BF(0.05)[cirq.VirtualTag()]───────BF(0.05)[cirq.VirtualTag()]───────BF(0.05)[cirq.VirtualTag()]─────────────BF(0.05)[cirq.VirtualTag()]───────BF(0.05)[cirq.VirtualTag()]───────BF(0.05)[cirq.VirtualTag()]─────────────BF(0.05)[cirq.VirtualTag()]───────BF(0.05)[cirq.VirtualTag()]───────BF(0.05)[cirq.VirtualTag()]─────────────BF(0.05)[cirq.VirtualTag()]───────BF(0.05)[cirq.VirtualTag()]───────BF(0.05)[cirq.VirtualTag()]─────────────BF(0.05)[cirq.VirtualTag()]───────BF(0.05)[cirq.VirtualTag()]───────────BF(0.05)[cirq.VirtualTag()]───────BF(0.05)[cirq.VirtualTag()]───M───BF(0.05)[cirq.VirtualTag()]───\n",
       "                                                                                                                                                                                                                              │                                                                                                                                                                                                                                                         │                                                                                                                                                                                                                                                                           │                                                                                                                                                                                                                                                                                                                                                                               │                                                                                                                                                                                                                                                                           │                                                                                                                                                                                                                                                                                                                                                                               │\n",
       "3: ───────BF(0.05)[cirq.VirtualTag()]─────────────BF(0.05)[cirq.VirtualTag()]───────BF(0.05)[cirq.VirtualTag()]───────BF(0.05)[cirq.VirtualTag()]─────────────BF(0.05)[cirq.VirtualTag()]───────BF(0.05)[cirq.VirtualTag()]───X───BF(0.05)[cirq.VirtualTag()]───BF(0.1)───BF(0.05)[cirq.VirtualTag()]───H───BF(0.05)[cirq.VirtualTag()]───@───BF(0.05)[cirq.VirtualTag()]─────────────BF(0.05)[cirq.VirtualTag()]───────BF(0.05)[cirq.VirtualTag()]───────BF(0.05)[cirq.VirtualTag()]───┼─────────BF(0.05)[cirq.VirtualTag()]───────BF(0.05)[cirq.VirtualTag()]─────────────BF(0.05)[cirq.VirtualTag()]─────────────BF(0.05)[cirq.VirtualTag()]───────BF(0.05)[cirq.VirtualTag()]─────────────BF(0.05)[cirq.VirtualTag()]─────────────BF(0.05)[cirq.VirtualTag()]───X───BF(0.05)[cirq.VirtualTag()]───BF(0.1)───BF(0.05)[cirq.VirtualTag()]───H─────────BF(0.05)[cirq.VirtualTag()]───@───BF(0.05)[cirq.VirtualTag()]─────────────BF(0.05)[cirq.VirtualTag()]─────────────BF(0.05)[cirq.VirtualTag()]───────BF(0.05)[cirq.VirtualTag()]───────────BF(0.05)[cirq.VirtualTag()]───────BF(0.05)[cirq.VirtualTag()]───────BF(0.05)[cirq.VirtualTag()]───┼─────────BF(0.05)[cirq.VirtualTag()]───────BF(0.05)[cirq.VirtualTag()]─────────────BF(0.05)[cirq.VirtualTag()]─────────────BF(0.05)[cirq.VirtualTag()]───────BF(0.05)[cirq.VirtualTag()]─────────────BF(0.05)[cirq.VirtualTag()]─────────────BF(0.05)[cirq.VirtualTag()]───X───BF(0.05)[cirq.VirtualTag()]───BF(0.1)───BF(0.05)[cirq.VirtualTag()]───H─────────BF(0.05)[cirq.VirtualTag()]───@───BF(0.05)[cirq.VirtualTag()]─────────────BF(0.05)[cirq.VirtualTag()]─────────────BF(0.05)[cirq.VirtualTag()]───────BF(0.05)[cirq.VirtualTag()]───────────BF(0.05)[cirq.VirtualTag()]───────BF(0.05)[cirq.VirtualTag()]───────BF(0.05)[cirq.VirtualTag()]───┼─────────BF(0.05)[cirq.VirtualTag()]───────BF(0.05)[cirq.VirtualTag()]───────BF(0.05)[cirq.VirtualTag()]─────────────BF(0.05)[cirq.VirtualTag()]───────BF(0.05)[cirq.VirtualTag()]───────BF(0.05)[cirq.VirtualTag()]─────────────BF(0.05)[cirq.VirtualTag()]───────BF(0.05)[cirq.VirtualTag()]───────BF(0.05)[cirq.VirtualTag()]─────────────BF(0.05)[cirq.VirtualTag()]───────BF(0.05)[cirq.VirtualTag()]───────BF(0.05)[cirq.VirtualTag()]─────────────BF(0.05)[cirq.VirtualTag()]───────BF(0.05)[cirq.VirtualTag()]───────────BF(0.05)[cirq.VirtualTag()]───────BF(0.05)[cirq.VirtualTag()]───M───BF(0.05)[cirq.VirtualTag()]───\n",
       "                                                                                                                                                                                                                                                                                                                                          │                                                                                                                                             │                                                                                                                                                                                                                                                                                                                                                                                             │                                                                                                                                                                                                                                                             │                                                                                                                                                                                                                                                                                                                                                                                             │                                                                                                                                                                                                                                                             │\n",
       "4: ───────BF(0.05)[cirq.VirtualTag()]─────────────BF(0.05)[cirq.VirtualTag()]───────BF(0.05)[cirq.VirtualTag()]───────BF(0.05)[cirq.VirtualTag()]─────────────BF(0.05)[cirq.VirtualTag()]───────BF(0.05)[cirq.VirtualTag()]───────BF(0.05)[cirq.VirtualTag()]─────────────BF(0.05)[cirq.VirtualTag()]───────BF(0.05)[cirq.VirtualTag()]───X───BF(0.05)[cirq.VirtualTag()]───BF(0.1)───BF(0.05)[cirq.VirtualTag()]───H───BF(0.05)[cirq.VirtualTag()]───@───BF(0.05)[cirq.VirtualTag()]───X─────────BF(0.05)[cirq.VirtualTag()]───────BF(0.05)[cirq.VirtualTag()]─────────────BF(0.05)[cirq.VirtualTag()]─────────────BF(0.05)[cirq.VirtualTag()]───────BF(0.05)[cirq.VirtualTag()]─────────────BF(0.05)[cirq.VirtualTag()]─────────────BF(0.05)[cirq.VirtualTag()]───────BF(0.05)[cirq.VirtualTag()]─────────────BF(0.05)[cirq.VirtualTag()]─────────────BF(0.05)[cirq.VirtualTag()]───X───BF(0.05)[cirq.VirtualTag()]───BF(0.1)───BF(0.05)[cirq.VirtualTag()]───H─────────BF(0.05)[cirq.VirtualTag()]───────BF(0.05)[cirq.VirtualTag()]───────────BF(0.05)[cirq.VirtualTag()]───────BF(0.05)[cirq.VirtualTag()]───@───BF(0.05)[cirq.VirtualTag()]───X─────────BF(0.05)[cirq.VirtualTag()]───────BF(0.05)[cirq.VirtualTag()]─────────────BF(0.05)[cirq.VirtualTag()]─────────────BF(0.05)[cirq.VirtualTag()]───────BF(0.05)[cirq.VirtualTag()]─────────────BF(0.05)[cirq.VirtualTag()]─────────────BF(0.05)[cirq.VirtualTag()]───────BF(0.05)[cirq.VirtualTag()]─────────────BF(0.05)[cirq.VirtualTag()]─────────────BF(0.05)[cirq.VirtualTag()]───X───BF(0.05)[cirq.VirtualTag()]───BF(0.1)───BF(0.05)[cirq.VirtualTag()]───H─────────BF(0.05)[cirq.VirtualTag()]───────BF(0.05)[cirq.VirtualTag()]───────────BF(0.05)[cirq.VirtualTag()]───────BF(0.05)[cirq.VirtualTag()]───@───BF(0.05)[cirq.VirtualTag()]───X─────────BF(0.05)[cirq.VirtualTag()]───────BF(0.05)[cirq.VirtualTag()]───────BF(0.05)[cirq.VirtualTag()]─────────────BF(0.05)[cirq.VirtualTag()]───────BF(0.05)[cirq.VirtualTag()]───────BF(0.05)[cirq.VirtualTag()]─────────────BF(0.05)[cirq.VirtualTag()]───────BF(0.05)[cirq.VirtualTag()]───────BF(0.05)[cirq.VirtualTag()]─────────────BF(0.05)[cirq.VirtualTag()]───────BF(0.05)[cirq.VirtualTag()]───────BF(0.05)[cirq.VirtualTag()]─────────────BF(0.05)[cirq.VirtualTag()]───────BF(0.05)[cirq.VirtualTag()]───────────BF(0.05)[cirq.VirtualTag()]───────BF(0.05)[cirq.VirtualTag()]───M───BF(0.05)[cirq.VirtualTag()]───\n",
       "                                                                                                                                                                                                                                                                                                                                                                                                                                                      │                                                                                                                                                                                                                                                                                                                                                                                                                                                                                                                                                                                                                                                           │                                                                                                                                                                                                                                                                                                                                                                                                                                                                                                                                                                                                                                                           │\n",
       "5: ───────BF(0.05)[cirq.VirtualTag()]─────────────BF(0.05)[cirq.VirtualTag()]───────BF(0.05)[cirq.VirtualTag()]───────BF(0.05)[cirq.VirtualTag()]─────────────BF(0.05)[cirq.VirtualTag()]───────BF(0.05)[cirq.VirtualTag()]───────BF(0.05)[cirq.VirtualTag()]─────────────BF(0.05)[cirq.VirtualTag()]───────BF(0.05)[cirq.VirtualTag()]───────BF(0.05)[cirq.VirtualTag()]─────────────BF(0.05)[cirq.VirtualTag()]───────BF(0.05)[cirq.VirtualTag()]───X───BF(0.05)[cirq.VirtualTag()]───BF(0.1)───BF(0.05)[cirq.VirtualTag()]───H───BF(0.05)[cirq.VirtualTag()]───@─────────BF(0.05)[cirq.VirtualTag()]─────────────BF(0.05)[cirq.VirtualTag()]───────BF(0.05)[cirq.VirtualTag()]─────────────BF(0.05)[cirq.VirtualTag()]─────────────BF(0.05)[cirq.VirtualTag()]───────BF(0.05)[cirq.VirtualTag()]─────────────BF(0.05)[cirq.VirtualTag()]─────────────BF(0.05)[cirq.VirtualTag()]───────BF(0.05)[cirq.VirtualTag()]─────────────BF(0.05)[cirq.VirtualTag()]─────────────BF(0.05)[cirq.VirtualTag()]───────BF(0.05)[cirq.VirtualTag()]───────────BF(0.05)[cirq.VirtualTag()]───X───BF(0.05)[cirq.VirtualTag()]───X───BF(0.05)[cirq.VirtualTag()]───BF(0.1)───BF(0.05)[cirq.VirtualTag()]───H───BF(0.05)[cirq.VirtualTag()]───@─────────BF(0.05)[cirq.VirtualTag()]─────────────BF(0.05)[cirq.VirtualTag()]───────BF(0.05)[cirq.VirtualTag()]─────────────BF(0.05)[cirq.VirtualTag()]─────────────BF(0.05)[cirq.VirtualTag()]───────BF(0.05)[cirq.VirtualTag()]─────────────BF(0.05)[cirq.VirtualTag()]─────────────BF(0.05)[cirq.VirtualTag()]───────BF(0.05)[cirq.VirtualTag()]─────────────BF(0.05)[cirq.VirtualTag()]─────────────BF(0.05)[cirq.VirtualTag()]───────BF(0.05)[cirq.VirtualTag()]───────────BF(0.05)[cirq.VirtualTag()]───X───BF(0.05)[cirq.VirtualTag()]───X───BF(0.05)[cirq.VirtualTag()]───BF(0.1)───BF(0.05)[cirq.VirtualTag()]───H───BF(0.05)[cirq.VirtualTag()]───@───BF(0.05)[cirq.VirtualTag()]─────────────BF(0.05)[cirq.VirtualTag()]───────BF(0.05)[cirq.VirtualTag()]───────BF(0.05)[cirq.VirtualTag()]─────────────BF(0.05)[cirq.VirtualTag()]───────BF(0.05)[cirq.VirtualTag()]───────BF(0.05)[cirq.VirtualTag()]─────────────BF(0.05)[cirq.VirtualTag()]───────BF(0.05)[cirq.VirtualTag()]───────BF(0.05)[cirq.VirtualTag()]─────────────BF(0.05)[cirq.VirtualTag()]───────BF(0.05)[cirq.VirtualTag()]───────────BF(0.05)[cirq.VirtualTag()]───X───BF(0.05)[cirq.VirtualTag()]───M───BF(0.05)[cirq.VirtualTag()]───\n",
       "                                                                                                                                                                                                                                                                                                                                                                                                                                                                                                                                                                  │                                                                                                                                                                                                                                                                                                                                                                                                                                                                                                             │                                                                                                                                             │                                                                                                                                                                                                                                                                                                                                                                                                                                                                                                             │                                                                                                                                             │                                                                                                                                                                                                                                                                                                                                                                                                                                                                                     │\n",
       "6: ───────BF(0.05)[cirq.VirtualTag()]─────────────BF(0.05)[cirq.VirtualTag()]───────BF(0.05)[cirq.VirtualTag()]───────BF(0.05)[cirq.VirtualTag()]─────────────BF(0.05)[cirq.VirtualTag()]───────BF(0.05)[cirq.VirtualTag()]───────BF(0.05)[cirq.VirtualTag()]─────────────BF(0.05)[cirq.VirtualTag()]───────BF(0.05)[cirq.VirtualTag()]───────BF(0.05)[cirq.VirtualTag()]─────────────BF(0.05)[cirq.VirtualTag()]───────BF(0.05)[cirq.VirtualTag()]───────BF(0.05)[cirq.VirtualTag()]─────────────BF(0.05)[cirq.VirtualTag()]───────BF(0.05)[cirq.VirtualTag()]───X─────────BF(0.05)[cirq.VirtualTag()]───BF(0.1)───BF(0.05)[cirq.VirtualTag()]───H───BF(0.05)[cirq.VirtualTag()]───@─────────BF(0.05)[cirq.VirtualTag()]─────────────BF(0.05)[cirq.VirtualTag()]───────BF(0.05)[cirq.VirtualTag()]─────────────BF(0.05)[cirq.VirtualTag()]─────────────BF(0.05)[cirq.VirtualTag()]───────BF(0.05)[cirq.VirtualTag()]─────────────BF(0.05)[cirq.VirtualTag()]─────────────BF(0.05)[cirq.VirtualTag()]───────BF(0.05)[cirq.VirtualTag()]───────────BF(0.05)[cirq.VirtualTag()]───┼───BF(0.05)[cirq.VirtualTag()]───────BF(0.05)[cirq.VirtualTag()]─────────────BF(0.05)[cirq.VirtualTag()]───────BF(0.05)[cirq.VirtualTag()]───X─────────BF(0.05)[cirq.VirtualTag()]───BF(0.1)───BF(0.05)[cirq.VirtualTag()]───H───BF(0.05)[cirq.VirtualTag()]───@─────────BF(0.05)[cirq.VirtualTag()]─────────────BF(0.05)[cirq.VirtualTag()]───────BF(0.05)[cirq.VirtualTag()]─────────────BF(0.05)[cirq.VirtualTag()]─────────────BF(0.05)[cirq.VirtualTag()]───────BF(0.05)[cirq.VirtualTag()]─────────────BF(0.05)[cirq.VirtualTag()]─────────────BF(0.05)[cirq.VirtualTag()]───────BF(0.05)[cirq.VirtualTag()]───────────BF(0.05)[cirq.VirtualTag()]───┼───BF(0.05)[cirq.VirtualTag()]───────BF(0.05)[cirq.VirtualTag()]─────────────BF(0.05)[cirq.VirtualTag()]───────BF(0.05)[cirq.VirtualTag()]───X───BF(0.05)[cirq.VirtualTag()]───BF(0.1)───BF(0.05)[cirq.VirtualTag()]───H───BF(0.05)[cirq.VirtualTag()]───@───BF(0.05)[cirq.VirtualTag()]─────────────BF(0.05)[cirq.VirtualTag()]───────BF(0.05)[cirq.VirtualTag()]───────BF(0.05)[cirq.VirtualTag()]─────────────BF(0.05)[cirq.VirtualTag()]───────BF(0.05)[cirq.VirtualTag()]───────BF(0.05)[cirq.VirtualTag()]─────────────BF(0.05)[cirq.VirtualTag()]───────BF(0.05)[cirq.VirtualTag()]───────────BF(0.05)[cirq.VirtualTag()]───┼───BF(0.05)[cirq.VirtualTag()]───M───BF(0.05)[cirq.VirtualTag()]───\n",
       "                                                                                                                                                                                                                                                                                                                                                                                                                                                                                                                                                                                                                                                                                    │                                                                                                                                                                                                                                                                                                                                                                                           │                                                                                                                                                                                                                                                               │                                                                                                                                                                                                                                                                                                                                                                                           │                                                                                                                                                                                                                                                         │                                                                                                                                                                                                                                                                                                                                                                         │\n",
       "7: ───────BF(0.05)[cirq.VirtualTag()]─────────────BF(0.05)[cirq.VirtualTag()]───────BF(0.05)[cirq.VirtualTag()]───────BF(0.05)[cirq.VirtualTag()]─────────────BF(0.05)[cirq.VirtualTag()]───────BF(0.05)[cirq.VirtualTag()]───────BF(0.05)[cirq.VirtualTag()]─────────────BF(0.05)[cirq.VirtualTag()]───────BF(0.05)[cirq.VirtualTag()]───────BF(0.05)[cirq.VirtualTag()]─────────────BF(0.05)[cirq.VirtualTag()]───────BF(0.05)[cirq.VirtualTag()]───────BF(0.05)[cirq.VirtualTag()]─────────────BF(0.05)[cirq.VirtualTag()]───────BF(0.05)[cirq.VirtualTag()]─────────────BF(0.05)[cirq.VirtualTag()]─────────────BF(0.05)[cirq.VirtualTag()]───────BF(0.05)[cirq.VirtualTag()]───X─────────BF(0.05)[cirq.VirtualTag()]───BF(0.1)───BF(0.05)[cirq.VirtualTag()]───H───BF(0.05)[cirq.VirtualTag()]───@─────────BF(0.05)[cirq.VirtualTag()]─────────────BF(0.05)[cirq.VirtualTag()]───────BF(0.05)[cirq.VirtualTag()]─────────────BF(0.05)[cirq.VirtualTag()]─────────────BF(0.05)[cirq.VirtualTag()]───────BF(0.05)[cirq.VirtualTag()]───────────BF(0.05)[cirq.VirtualTag()]───┼───BF(0.05)[cirq.VirtualTag()]───────BF(0.05)[cirq.VirtualTag()]─────────────BF(0.05)[cirq.VirtualTag()]───────BF(0.05)[cirq.VirtualTag()]─────────────BF(0.05)[cirq.VirtualTag()]─────────────BF(0.05)[cirq.VirtualTag()]───────BF(0.05)[cirq.VirtualTag()]───X─────────BF(0.05)[cirq.VirtualTag()]───BF(0.1)───BF(0.05)[cirq.VirtualTag()]───H───BF(0.05)[cirq.VirtualTag()]───@─────────BF(0.05)[cirq.VirtualTag()]─────────────BF(0.05)[cirq.VirtualTag()]───────BF(0.05)[cirq.VirtualTag()]─────────────BF(0.05)[cirq.VirtualTag()]─────────────BF(0.05)[cirq.VirtualTag()]───────BF(0.05)[cirq.VirtualTag()]───────────BF(0.05)[cirq.VirtualTag()]───┼───BF(0.05)[cirq.VirtualTag()]───────BF(0.05)[cirq.VirtualTag()]─────────────BF(0.05)[cirq.VirtualTag()]───────BF(0.05)[cirq.VirtualTag()]───────BF(0.05)[cirq.VirtualTag()]─────────────BF(0.05)[cirq.VirtualTag()]───────BF(0.05)[cirq.VirtualTag()]───X───BF(0.05)[cirq.VirtualTag()]───BF(0.1)───BF(0.05)[cirq.VirtualTag()]───H───BF(0.05)[cirq.VirtualTag()]───@───BF(0.05)[cirq.VirtualTag()]─────────────BF(0.05)[cirq.VirtualTag()]───────BF(0.05)[cirq.VirtualTag()]───────BF(0.05)[cirq.VirtualTag()]─────────────BF(0.05)[cirq.VirtualTag()]───────BF(0.05)[cirq.VirtualTag()]───────────BF(0.05)[cirq.VirtualTag()]───┼───BF(0.05)[cirq.VirtualTag()]───M───BF(0.05)[cirq.VirtualTag()]───\n",
       "                                                                                                                                                                                                                                                                                                                                                                                                                                                                                                                                                                                                                                                                                                                                                                                                      │                                                                                                                                                                                                                                                                         │                                                                                                                                                                                                                                                                                                                                                                                 │                                                                                                                                                                                                                                                                         │                                                                                                                                                                                                                                                                                                                                                                     │                                                                                                                                                                                                                                                             │\n",
       "8: ───────BF(0.05)[cirq.VirtualTag()]─────────────BF(0.05)[cirq.VirtualTag()]───────BF(0.05)[cirq.VirtualTag()]───────BF(0.05)[cirq.VirtualTag()]─────────────BF(0.05)[cirq.VirtualTag()]───────BF(0.05)[cirq.VirtualTag()]───────BF(0.05)[cirq.VirtualTag()]─────────────BF(0.05)[cirq.VirtualTag()]───────BF(0.05)[cirq.VirtualTag()]───────BF(0.05)[cirq.VirtualTag()]─────────────BF(0.05)[cirq.VirtualTag()]───────BF(0.05)[cirq.VirtualTag()]───────BF(0.05)[cirq.VirtualTag()]─────────────BF(0.05)[cirq.VirtualTag()]───────BF(0.05)[cirq.VirtualTag()]─────────────BF(0.05)[cirq.VirtualTag()]─────────────BF(0.05)[cirq.VirtualTag()]───────BF(0.05)[cirq.VirtualTag()]─────────────BF(0.05)[cirq.VirtualTag()]─────────────BF(0.05)[cirq.VirtualTag()]───────BF(0.05)[cirq.VirtualTag()]───X─────────BF(0.05)[cirq.VirtualTag()]───BF(0.1)───BF(0.05)[cirq.VirtualTag()]───H───BF(0.05)[cirq.VirtualTag()]───@─────────BF(0.05)[cirq.VirtualTag()]─────────────BF(0.05)[cirq.VirtualTag()]───────BF(0.05)[cirq.VirtualTag()]───────────BF(0.05)[cirq.VirtualTag()]───┼───BF(0.05)[cirq.VirtualTag()]───────BF(0.05)[cirq.VirtualTag()]─────────────BF(0.05)[cirq.VirtualTag()]───────BF(0.05)[cirq.VirtualTag()]─────────────BF(0.05)[cirq.VirtualTag()]─────────────BF(0.05)[cirq.VirtualTag()]───────BF(0.05)[cirq.VirtualTag()]─────────────BF(0.05)[cirq.VirtualTag()]─────────────BF(0.05)[cirq.VirtualTag()]───────BF(0.05)[cirq.VirtualTag()]───X─────────BF(0.05)[cirq.VirtualTag()]───BF(0.1)───BF(0.05)[cirq.VirtualTag()]───H───BF(0.05)[cirq.VirtualTag()]───@─────────BF(0.05)[cirq.VirtualTag()]─────────────BF(0.05)[cirq.VirtualTag()]───────BF(0.05)[cirq.VirtualTag()]───────────BF(0.05)[cirq.VirtualTag()]───┼───BF(0.05)[cirq.VirtualTag()]───────BF(0.05)[cirq.VirtualTag()]─────────────BF(0.05)[cirq.VirtualTag()]───────BF(0.05)[cirq.VirtualTag()]───────BF(0.05)[cirq.VirtualTag()]─────────────BF(0.05)[cirq.VirtualTag()]───────BF(0.05)[cirq.VirtualTag()]───────BF(0.05)[cirq.VirtualTag()]─────────────BF(0.05)[cirq.VirtualTag()]───────BF(0.05)[cirq.VirtualTag()]───X───BF(0.05)[cirq.VirtualTag()]───BF(0.1)───BF(0.05)[cirq.VirtualTag()]───H───BF(0.05)[cirq.VirtualTag()]───@───BF(0.05)[cirq.VirtualTag()]─────────────BF(0.05)[cirq.VirtualTag()]───────BF(0.05)[cirq.VirtualTag()]───────────BF(0.05)[cirq.VirtualTag()]───┼───BF(0.05)[cirq.VirtualTag()]───M───BF(0.05)[cirq.VirtualTag()]───\n",
       "                                                                                                                                                                                                                                                                                                                                                                                                                                                                                                                                                                                                                                                                                                                                                                                                                                                                                                                        │                                                                                                                                                       │                                                                                                                                                                                                                                                                                                                                                                                                                                                                                                   │                                                                                                                                                       │                                                                                                                                                                                                                                                                                                                                                                                                                                                                                 │                                                                                                                                                 │\n",
       "9: ───────BF(0.05)[cirq.VirtualTag()]─────────────BF(0.05)[cirq.VirtualTag()]───────BF(0.05)[cirq.VirtualTag()]───────BF(0.05)[cirq.VirtualTag()]─────────────BF(0.05)[cirq.VirtualTag()]───────BF(0.05)[cirq.VirtualTag()]───────BF(0.05)[cirq.VirtualTag()]─────────────BF(0.05)[cirq.VirtualTag()]───────BF(0.05)[cirq.VirtualTag()]───────BF(0.05)[cirq.VirtualTag()]─────────────BF(0.05)[cirq.VirtualTag()]───────BF(0.05)[cirq.VirtualTag()]───────BF(0.05)[cirq.VirtualTag()]─────────────BF(0.05)[cirq.VirtualTag()]───────BF(0.05)[cirq.VirtualTag()]─────────────BF(0.05)[cirq.VirtualTag()]─────────────BF(0.05)[cirq.VirtualTag()]───────BF(0.05)[cirq.VirtualTag()]─────────────BF(0.05)[cirq.VirtualTag()]─────────────BF(0.05)[cirq.VirtualTag()]───────BF(0.05)[cirq.VirtualTag()]─────────────BF(0.05)[cirq.VirtualTag()]─────────────BF(0.05)[cirq.VirtualTag()]───────BF(0.05)[cirq.VirtualTag()]───X─────────BF(0.05)[cirq.VirtualTag()]───BF(0.1)───BF(0.05)[cirq.VirtualTag()]───H───BF(0.05)[cirq.VirtualTag()]───Rx(b)───BF(0.05)[cirq.VirtualTag()]───@───BF(0.05)[cirq.VirtualTag()]───────BF(0.05)[cirq.VirtualTag()]─────────────BF(0.05)[cirq.VirtualTag()]───────BF(0.05)[cirq.VirtualTag()]─────────────BF(0.05)[cirq.VirtualTag()]─────────────BF(0.05)[cirq.VirtualTag()]───────BF(0.05)[cirq.VirtualTag()]─────────────BF(0.05)[cirq.VirtualTag()]─────────────BF(0.05)[cirq.VirtualTag()]───────BF(0.05)[cirq.VirtualTag()]─────────────BF(0.05)[cirq.VirtualTag()]─────────────BF(0.05)[cirq.VirtualTag()]───────BF(0.05)[cirq.VirtualTag()]───X─────────BF(0.05)[cirq.VirtualTag()]───BF(0.1)───BF(0.05)[cirq.VirtualTag()]───H───BF(0.05)[cirq.VirtualTag()]───Rx(b)───BF(0.05)[cirq.VirtualTag()]───@───BF(0.05)[cirq.VirtualTag()]───────BF(0.05)[cirq.VirtualTag()]─────────────BF(0.05)[cirq.VirtualTag()]───────BF(0.05)[cirq.VirtualTag()]───────BF(0.05)[cirq.VirtualTag()]─────────────BF(0.05)[cirq.VirtualTag()]───────BF(0.05)[cirq.VirtualTag()]───────BF(0.05)[cirq.VirtualTag()]─────────────BF(0.05)[cirq.VirtualTag()]───────BF(0.05)[cirq.VirtualTag()]───────BF(0.05)[cirq.VirtualTag()]─────────────BF(0.05)[cirq.VirtualTag()]───────BF(0.05)[cirq.VirtualTag()]───X───BF(0.05)[cirq.VirtualTag()]───BF(0.1)───BF(0.05)[cirq.VirtualTag()]───H───BF(0.05)[cirq.VirtualTag()]───Rx(b)───BF(0.05)[cirq.VirtualTag()]───@───BF(0.05)[cirq.VirtualTag()]───M───BF(0.05)[cirq.VirtualTag()]───</pre>"
      ],
      "text/plain": [
       "0: ───@───BF(0.05)[cirq.VirtualTag()]───Rx(a)─────BF(0.05)[cirq.VirtualTag()]───────BF(0.05)[cirq.VirtualTag()]───────BF(0.05)[cirq.VirtualTag()]─────────────BF(0.05)[cirq.VirtualTag()]───────BF(0.05)[cirq.VirtualTag()]───────BF(0.05)[cirq.VirtualTag()]─────────────BF(0.05)[cirq.VirtualTag()]───────BF(0.05)[cirq.VirtualTag()]───────BF(0.05)[cirq.VirtualTag()]─────────────BF(0.05)[cirq.VirtualTag()]───────BF(0.05)[cirq.VirtualTag()]───────BF(0.05)[cirq.VirtualTag()]───@─────────BF(0.05)[cirq.VirtualTag()]───@───BF(0.05)[cirq.VirtualTag()]───Rx(a)─────BF(0.05)[cirq.VirtualTag()]─────────────BF(0.05)[cirq.VirtualTag()]───────BF(0.05)[cirq.VirtualTag()]─────────────BF(0.05)[cirq.VirtualTag()]─────────────BF(0.05)[cirq.VirtualTag()]───────BF(0.05)[cirq.VirtualTag()]─────────────BF(0.05)[cirq.VirtualTag()]─────────────BF(0.05)[cirq.VirtualTag()]───────BF(0.05)[cirq.VirtualTag()]─────────────BF(0.05)[cirq.VirtualTag()]─────────────BF(0.05)[cirq.VirtualTag()]───────BF(0.05)[cirq.VirtualTag()]───────────BF(0.05)[cirq.VirtualTag()]───────BF(0.05)[cirq.VirtualTag()]───────BF(0.05)[cirq.VirtualTag()]───@─────────BF(0.05)[cirq.VirtualTag()]───@───BF(0.05)[cirq.VirtualTag()]───Rx(a)─────BF(0.05)[cirq.VirtualTag()]─────────────BF(0.05)[cirq.VirtualTag()]───────BF(0.05)[cirq.VirtualTag()]─────────────BF(0.05)[cirq.VirtualTag()]─────────────BF(0.05)[cirq.VirtualTag()]───────BF(0.05)[cirq.VirtualTag()]─────────────BF(0.05)[cirq.VirtualTag()]─────────────BF(0.05)[cirq.VirtualTag()]───────BF(0.05)[cirq.VirtualTag()]─────────────BF(0.05)[cirq.VirtualTag()]─────────────BF(0.05)[cirq.VirtualTag()]───────BF(0.05)[cirq.VirtualTag()]───────────BF(0.05)[cirq.VirtualTag()]───────BF(0.05)[cirq.VirtualTag()]───────BF(0.05)[cirq.VirtualTag()]───@─────────BF(0.05)[cirq.VirtualTag()]───X───BF(0.05)[cirq.VirtualTag()]───────BF(0.05)[cirq.VirtualTag()]─────────────BF(0.05)[cirq.VirtualTag()]───────BF(0.05)[cirq.VirtualTag()]───────BF(0.05)[cirq.VirtualTag()]─────────────BF(0.05)[cirq.VirtualTag()]───────BF(0.05)[cirq.VirtualTag()]───────BF(0.05)[cirq.VirtualTag()]─────────────BF(0.05)[cirq.VirtualTag()]───────BF(0.05)[cirq.VirtualTag()]───────BF(0.05)[cirq.VirtualTag()]─────────────BF(0.05)[cirq.VirtualTag()]───────BF(0.05)[cirq.VirtualTag()]───────────BF(0.05)[cirq.VirtualTag()]───────BF(0.05)[cirq.VirtualTag()]───M───BF(0.05)[cirq.VirtualTag()]───\n",
       "      │                                                                                                                                                                                                                                                                                                                                                                                                                                                                                 │                                       │                                                                                                                                                                                                                                                                                                                                                                                                                                                                                                                                                                                                                   │                                       │                                                                                                                                                                                                                                                                                                                                                                                                                                                                                                                                                                                                                   │\n",
       "1: ───X───BF(0.05)[cirq.VirtualTag()]───BF(0.1)───BF(0.05)[cirq.VirtualTag()]───H───BF(0.05)[cirq.VirtualTag()]───@───BF(0.05)[cirq.VirtualTag()]─────────────BF(0.05)[cirq.VirtualTag()]───────BF(0.05)[cirq.VirtualTag()]───────BF(0.05)[cirq.VirtualTag()]─────────────BF(0.05)[cirq.VirtualTag()]───────BF(0.05)[cirq.VirtualTag()]───────BF(0.05)[cirq.VirtualTag()]─────────────BF(0.05)[cirq.VirtualTag()]───────BF(0.05)[cirq.VirtualTag()]───────BF(0.05)[cirq.VirtualTag()]───┼─────────BF(0.05)[cirq.VirtualTag()]───X───BF(0.05)[cirq.VirtualTag()]───BF(0.1)───BF(0.05)[cirq.VirtualTag()]───H─────────BF(0.05)[cirq.VirtualTag()]───@───BF(0.05)[cirq.VirtualTag()]─────────────BF(0.05)[cirq.VirtualTag()]─────────────BF(0.05)[cirq.VirtualTag()]───────BF(0.05)[cirq.VirtualTag()]─────────────BF(0.05)[cirq.VirtualTag()]─────────────BF(0.05)[cirq.VirtualTag()]───────BF(0.05)[cirq.VirtualTag()]─────────────BF(0.05)[cirq.VirtualTag()]─────────────BF(0.05)[cirq.VirtualTag()]───────BF(0.05)[cirq.VirtualTag()]───────────BF(0.05)[cirq.VirtualTag()]───────BF(0.05)[cirq.VirtualTag()]───────BF(0.05)[cirq.VirtualTag()]───┼─────────BF(0.05)[cirq.VirtualTag()]───X───BF(0.05)[cirq.VirtualTag()]───BF(0.1)───BF(0.05)[cirq.VirtualTag()]───H─────────BF(0.05)[cirq.VirtualTag()]───@───BF(0.05)[cirq.VirtualTag()]─────────────BF(0.05)[cirq.VirtualTag()]─────────────BF(0.05)[cirq.VirtualTag()]───────BF(0.05)[cirq.VirtualTag()]─────────────BF(0.05)[cirq.VirtualTag()]─────────────BF(0.05)[cirq.VirtualTag()]───────BF(0.05)[cirq.VirtualTag()]─────────────BF(0.05)[cirq.VirtualTag()]─────────────BF(0.05)[cirq.VirtualTag()]───────BF(0.05)[cirq.VirtualTag()]───────────BF(0.05)[cirq.VirtualTag()]───────BF(0.05)[cirq.VirtualTag()]───────BF(0.05)[cirq.VirtualTag()]───┼─────────BF(0.05)[cirq.VirtualTag()]───────BF(0.05)[cirq.VirtualTag()]───────BF(0.05)[cirq.VirtualTag()]─────────────BF(0.05)[cirq.VirtualTag()]───────BF(0.05)[cirq.VirtualTag()]───────BF(0.05)[cirq.VirtualTag()]─────────────BF(0.05)[cirq.VirtualTag()]───────BF(0.05)[cirq.VirtualTag()]───────BF(0.05)[cirq.VirtualTag()]─────────────BF(0.05)[cirq.VirtualTag()]───────BF(0.05)[cirq.VirtualTag()]───────BF(0.05)[cirq.VirtualTag()]─────────────BF(0.05)[cirq.VirtualTag()]───────BF(0.05)[cirq.VirtualTag()]───────────BF(0.05)[cirq.VirtualTag()]───────BF(0.05)[cirq.VirtualTag()]───M───BF(0.05)[cirq.VirtualTag()]───\n",
       "                                                                                                                  │                                                                                                                                                                                                                                                                                                                                                                     │                                                                                                                                                         │                                                                                                                                                                                                                                                                                                                                                                                                                                                                                                 │                                                                                                                                                         │                                                                                                                                                                                                                                                                                                                                                                                                                                                                                                 │\n",
       "2: ───────BF(0.05)[cirq.VirtualTag()]─────────────BF(0.05)[cirq.VirtualTag()]───────BF(0.05)[cirq.VirtualTag()]───X───BF(0.05)[cirq.VirtualTag()]───BF(0.1)───BF(0.05)[cirq.VirtualTag()]───H───BF(0.05)[cirq.VirtualTag()]───@───BF(0.05)[cirq.VirtualTag()]─────────────BF(0.05)[cirq.VirtualTag()]───────BF(0.05)[cirq.VirtualTag()]───────BF(0.05)[cirq.VirtualTag()]─────────────BF(0.05)[cirq.VirtualTag()]───────BF(0.05)[cirq.VirtualTag()]───────BF(0.05)[cirq.VirtualTag()]───┼─────────BF(0.05)[cirq.VirtualTag()]───────BF(0.05)[cirq.VirtualTag()]─────────────BF(0.05)[cirq.VirtualTag()]─────────────BF(0.05)[cirq.VirtualTag()]───X───BF(0.05)[cirq.VirtualTag()]───BF(0.1)───BF(0.05)[cirq.VirtualTag()]───H─────────BF(0.05)[cirq.VirtualTag()]───@───BF(0.05)[cirq.VirtualTag()]─────────────BF(0.05)[cirq.VirtualTag()]─────────────BF(0.05)[cirq.VirtualTag()]───────BF(0.05)[cirq.VirtualTag()]─────────────BF(0.05)[cirq.VirtualTag()]─────────────BF(0.05)[cirq.VirtualTag()]───────BF(0.05)[cirq.VirtualTag()]───────────BF(0.05)[cirq.VirtualTag()]───────BF(0.05)[cirq.VirtualTag()]───────BF(0.05)[cirq.VirtualTag()]───┼─────────BF(0.05)[cirq.VirtualTag()]───────BF(0.05)[cirq.VirtualTag()]─────────────BF(0.05)[cirq.VirtualTag()]─────────────BF(0.05)[cirq.VirtualTag()]───X───BF(0.05)[cirq.VirtualTag()]───BF(0.1)───BF(0.05)[cirq.VirtualTag()]───H─────────BF(0.05)[cirq.VirtualTag()]───@───BF(0.05)[cirq.VirtualTag()]─────────────BF(0.05)[cirq.VirtualTag()]─────────────BF(0.05)[cirq.VirtualTag()]───────BF(0.05)[cirq.VirtualTag()]─────────────BF(0.05)[cirq.VirtualTag()]─────────────BF(0.05)[cirq.VirtualTag()]───────BF(0.05)[cirq.VirtualTag()]───────────BF(0.05)[cirq.VirtualTag()]───────BF(0.05)[cirq.VirtualTag()]───────BF(0.05)[cirq.VirtualTag()]───┼─────────BF(0.05)[cirq.VirtualTag()]───────BF(0.05)[cirq.VirtualTag()]───────BF(0.05)[cirq.VirtualTag()]─────────────BF(0.05)[cirq.VirtualTag()]───────BF(0.05)[cirq.VirtualTag()]───────BF(0.05)[cirq.VirtualTag()]─────────────BF(0.05)[cirq.VirtualTag()]───────BF(0.05)[cirq.VirtualTag()]───────BF(0.05)[cirq.VirtualTag()]─────────────BF(0.05)[cirq.VirtualTag()]───────BF(0.05)[cirq.VirtualTag()]───────BF(0.05)[cirq.VirtualTag()]─────────────BF(0.05)[cirq.VirtualTag()]───────BF(0.05)[cirq.VirtualTag()]───────────BF(0.05)[cirq.VirtualTag()]───────BF(0.05)[cirq.VirtualTag()]───M───BF(0.05)[cirq.VirtualTag()]───\n",
       "                                                                                                                                                                                                                              │                                                                                                                                                                                                                                                         │                                                                                                                                                                                                                                                                           │                                                                                                                                                                                                                                                                                                                                                                               │                                                                                                                                                                                                                                                                           │                                                                                                                                                                                                                                                                                                                                                                               │\n",
       "3: ───────BF(0.05)[cirq.VirtualTag()]─────────────BF(0.05)[cirq.VirtualTag()]───────BF(0.05)[cirq.VirtualTag()]───────BF(0.05)[cirq.VirtualTag()]─────────────BF(0.05)[cirq.VirtualTag()]───────BF(0.05)[cirq.VirtualTag()]───X───BF(0.05)[cirq.VirtualTag()]───BF(0.1)───BF(0.05)[cirq.VirtualTag()]───H───BF(0.05)[cirq.VirtualTag()]───@───BF(0.05)[cirq.VirtualTag()]─────────────BF(0.05)[cirq.VirtualTag()]───────BF(0.05)[cirq.VirtualTag()]───────BF(0.05)[cirq.VirtualTag()]───┼─────────BF(0.05)[cirq.VirtualTag()]───────BF(0.05)[cirq.VirtualTag()]─────────────BF(0.05)[cirq.VirtualTag()]─────────────BF(0.05)[cirq.VirtualTag()]───────BF(0.05)[cirq.VirtualTag()]─────────────BF(0.05)[cirq.VirtualTag()]─────────────BF(0.05)[cirq.VirtualTag()]───X───BF(0.05)[cirq.VirtualTag()]───BF(0.1)───BF(0.05)[cirq.VirtualTag()]───H─────────BF(0.05)[cirq.VirtualTag()]───@───BF(0.05)[cirq.VirtualTag()]─────────────BF(0.05)[cirq.VirtualTag()]─────────────BF(0.05)[cirq.VirtualTag()]───────BF(0.05)[cirq.VirtualTag()]───────────BF(0.05)[cirq.VirtualTag()]───────BF(0.05)[cirq.VirtualTag()]───────BF(0.05)[cirq.VirtualTag()]───┼─────────BF(0.05)[cirq.VirtualTag()]───────BF(0.05)[cirq.VirtualTag()]─────────────BF(0.05)[cirq.VirtualTag()]─────────────BF(0.05)[cirq.VirtualTag()]───────BF(0.05)[cirq.VirtualTag()]─────────────BF(0.05)[cirq.VirtualTag()]─────────────BF(0.05)[cirq.VirtualTag()]───X───BF(0.05)[cirq.VirtualTag()]───BF(0.1)───BF(0.05)[cirq.VirtualTag()]───H─────────BF(0.05)[cirq.VirtualTag()]───@───BF(0.05)[cirq.VirtualTag()]─────────────BF(0.05)[cirq.VirtualTag()]─────────────BF(0.05)[cirq.VirtualTag()]───────BF(0.05)[cirq.VirtualTag()]───────────BF(0.05)[cirq.VirtualTag()]───────BF(0.05)[cirq.VirtualTag()]───────BF(0.05)[cirq.VirtualTag()]───┼─────────BF(0.05)[cirq.VirtualTag()]───────BF(0.05)[cirq.VirtualTag()]───────BF(0.05)[cirq.VirtualTag()]─────────────BF(0.05)[cirq.VirtualTag()]───────BF(0.05)[cirq.VirtualTag()]───────BF(0.05)[cirq.VirtualTag()]─────────────BF(0.05)[cirq.VirtualTag()]───────BF(0.05)[cirq.VirtualTag()]───────BF(0.05)[cirq.VirtualTag()]─────────────BF(0.05)[cirq.VirtualTag()]───────BF(0.05)[cirq.VirtualTag()]───────BF(0.05)[cirq.VirtualTag()]─────────────BF(0.05)[cirq.VirtualTag()]───────BF(0.05)[cirq.VirtualTag()]───────────BF(0.05)[cirq.VirtualTag()]───────BF(0.05)[cirq.VirtualTag()]───M───BF(0.05)[cirq.VirtualTag()]───\n",
       "                                                                                                                                                                                                                                                                                                                                          │                                                                                                                                             │                                                                                                                                                                                                                                                                                                                                                                                             │                                                                                                                                                                                                                                                             │                                                                                                                                                                                                                                                                                                                                                                                             │                                                                                                                                                                                                                                                             │\n",
       "4: ───────BF(0.05)[cirq.VirtualTag()]─────────────BF(0.05)[cirq.VirtualTag()]───────BF(0.05)[cirq.VirtualTag()]───────BF(0.05)[cirq.VirtualTag()]─────────────BF(0.05)[cirq.VirtualTag()]───────BF(0.05)[cirq.VirtualTag()]───────BF(0.05)[cirq.VirtualTag()]─────────────BF(0.05)[cirq.VirtualTag()]───────BF(0.05)[cirq.VirtualTag()]───X───BF(0.05)[cirq.VirtualTag()]───BF(0.1)───BF(0.05)[cirq.VirtualTag()]───H───BF(0.05)[cirq.VirtualTag()]───@───BF(0.05)[cirq.VirtualTag()]───X─────────BF(0.05)[cirq.VirtualTag()]───────BF(0.05)[cirq.VirtualTag()]─────────────BF(0.05)[cirq.VirtualTag()]─────────────BF(0.05)[cirq.VirtualTag()]───────BF(0.05)[cirq.VirtualTag()]─────────────BF(0.05)[cirq.VirtualTag()]─────────────BF(0.05)[cirq.VirtualTag()]───────BF(0.05)[cirq.VirtualTag()]─────────────BF(0.05)[cirq.VirtualTag()]─────────────BF(0.05)[cirq.VirtualTag()]───X───BF(0.05)[cirq.VirtualTag()]───BF(0.1)───BF(0.05)[cirq.VirtualTag()]───H─────────BF(0.05)[cirq.VirtualTag()]───────BF(0.05)[cirq.VirtualTag()]───────────BF(0.05)[cirq.VirtualTag()]───────BF(0.05)[cirq.VirtualTag()]───@───BF(0.05)[cirq.VirtualTag()]───X─────────BF(0.05)[cirq.VirtualTag()]───────BF(0.05)[cirq.VirtualTag()]─────────────BF(0.05)[cirq.VirtualTag()]─────────────BF(0.05)[cirq.VirtualTag()]───────BF(0.05)[cirq.VirtualTag()]─────────────BF(0.05)[cirq.VirtualTag()]─────────────BF(0.05)[cirq.VirtualTag()]───────BF(0.05)[cirq.VirtualTag()]─────────────BF(0.05)[cirq.VirtualTag()]─────────────BF(0.05)[cirq.VirtualTag()]───X───BF(0.05)[cirq.VirtualTag()]───BF(0.1)───BF(0.05)[cirq.VirtualTag()]───H─────────BF(0.05)[cirq.VirtualTag()]───────BF(0.05)[cirq.VirtualTag()]───────────BF(0.05)[cirq.VirtualTag()]───────BF(0.05)[cirq.VirtualTag()]───@───BF(0.05)[cirq.VirtualTag()]───X─────────BF(0.05)[cirq.VirtualTag()]───────BF(0.05)[cirq.VirtualTag()]───────BF(0.05)[cirq.VirtualTag()]─────────────BF(0.05)[cirq.VirtualTag()]───────BF(0.05)[cirq.VirtualTag()]───────BF(0.05)[cirq.VirtualTag()]─────────────BF(0.05)[cirq.VirtualTag()]───────BF(0.05)[cirq.VirtualTag()]───────BF(0.05)[cirq.VirtualTag()]─────────────BF(0.05)[cirq.VirtualTag()]───────BF(0.05)[cirq.VirtualTag()]───────BF(0.05)[cirq.VirtualTag()]─────────────BF(0.05)[cirq.VirtualTag()]───────BF(0.05)[cirq.VirtualTag()]───────────BF(0.05)[cirq.VirtualTag()]───────BF(0.05)[cirq.VirtualTag()]───M───BF(0.05)[cirq.VirtualTag()]───\n",
       "                                                                                                                                                                                                                                                                                                                                                                                                                                                      │                                                                                                                                                                                                                                                                                                                                                                                                                                                                                                                                                                                                                                                           │                                                                                                                                                                                                                                                                                                                                                                                                                                                                                                                                                                                                                                                           │\n",
       "5: ───────BF(0.05)[cirq.VirtualTag()]─────────────BF(0.05)[cirq.VirtualTag()]───────BF(0.05)[cirq.VirtualTag()]───────BF(0.05)[cirq.VirtualTag()]─────────────BF(0.05)[cirq.VirtualTag()]───────BF(0.05)[cirq.VirtualTag()]───────BF(0.05)[cirq.VirtualTag()]─────────────BF(0.05)[cirq.VirtualTag()]───────BF(0.05)[cirq.VirtualTag()]───────BF(0.05)[cirq.VirtualTag()]─────────────BF(0.05)[cirq.VirtualTag()]───────BF(0.05)[cirq.VirtualTag()]───X───BF(0.05)[cirq.VirtualTag()]───BF(0.1)───BF(0.05)[cirq.VirtualTag()]───H───BF(0.05)[cirq.VirtualTag()]───@─────────BF(0.05)[cirq.VirtualTag()]─────────────BF(0.05)[cirq.VirtualTag()]───────BF(0.05)[cirq.VirtualTag()]─────────────BF(0.05)[cirq.VirtualTag()]─────────────BF(0.05)[cirq.VirtualTag()]───────BF(0.05)[cirq.VirtualTag()]─────────────BF(0.05)[cirq.VirtualTag()]─────────────BF(0.05)[cirq.VirtualTag()]───────BF(0.05)[cirq.VirtualTag()]─────────────BF(0.05)[cirq.VirtualTag()]─────────────BF(0.05)[cirq.VirtualTag()]───────BF(0.05)[cirq.VirtualTag()]───────────BF(0.05)[cirq.VirtualTag()]───X───BF(0.05)[cirq.VirtualTag()]───X───BF(0.05)[cirq.VirtualTag()]───BF(0.1)───BF(0.05)[cirq.VirtualTag()]───H───BF(0.05)[cirq.VirtualTag()]───@─────────BF(0.05)[cirq.VirtualTag()]─────────────BF(0.05)[cirq.VirtualTag()]───────BF(0.05)[cirq.VirtualTag()]─────────────BF(0.05)[cirq.VirtualTag()]─────────────BF(0.05)[cirq.VirtualTag()]───────BF(0.05)[cirq.VirtualTag()]─────────────BF(0.05)[cirq.VirtualTag()]─────────────BF(0.05)[cirq.VirtualTag()]───────BF(0.05)[cirq.VirtualTag()]─────────────BF(0.05)[cirq.VirtualTag()]─────────────BF(0.05)[cirq.VirtualTag()]───────BF(0.05)[cirq.VirtualTag()]───────────BF(0.05)[cirq.VirtualTag()]───X───BF(0.05)[cirq.VirtualTag()]───X───BF(0.05)[cirq.VirtualTag()]───BF(0.1)───BF(0.05)[cirq.VirtualTag()]───H───BF(0.05)[cirq.VirtualTag()]───@───BF(0.05)[cirq.VirtualTag()]─────────────BF(0.05)[cirq.VirtualTag()]───────BF(0.05)[cirq.VirtualTag()]───────BF(0.05)[cirq.VirtualTag()]─────────────BF(0.05)[cirq.VirtualTag()]───────BF(0.05)[cirq.VirtualTag()]───────BF(0.05)[cirq.VirtualTag()]─────────────BF(0.05)[cirq.VirtualTag()]───────BF(0.05)[cirq.VirtualTag()]───────BF(0.05)[cirq.VirtualTag()]─────────────BF(0.05)[cirq.VirtualTag()]───────BF(0.05)[cirq.VirtualTag()]───────────BF(0.05)[cirq.VirtualTag()]───X───BF(0.05)[cirq.VirtualTag()]───M───BF(0.05)[cirq.VirtualTag()]───\n",
       "                                                                                                                                                                                                                                                                                                                                                                                                                                                                                                                                                                  │                                                                                                                                                                                                                                                                                                                                                                                                                                                                                                             │                                                                                                                                             │                                                                                                                                                                                                                                                                                                                                                                                                                                                                                                             │                                                                                                                                             │                                                                                                                                                                                                                                                                                                                                                                                                                                                                                     │\n",
       "6: ───────BF(0.05)[cirq.VirtualTag()]─────────────BF(0.05)[cirq.VirtualTag()]───────BF(0.05)[cirq.VirtualTag()]───────BF(0.05)[cirq.VirtualTag()]─────────────BF(0.05)[cirq.VirtualTag()]───────BF(0.05)[cirq.VirtualTag()]───────BF(0.05)[cirq.VirtualTag()]─────────────BF(0.05)[cirq.VirtualTag()]───────BF(0.05)[cirq.VirtualTag()]───────BF(0.05)[cirq.VirtualTag()]─────────────BF(0.05)[cirq.VirtualTag()]───────BF(0.05)[cirq.VirtualTag()]───────BF(0.05)[cirq.VirtualTag()]─────────────BF(0.05)[cirq.VirtualTag()]───────BF(0.05)[cirq.VirtualTag()]───X─────────BF(0.05)[cirq.VirtualTag()]───BF(0.1)───BF(0.05)[cirq.VirtualTag()]───H───BF(0.05)[cirq.VirtualTag()]───@─────────BF(0.05)[cirq.VirtualTag()]─────────────BF(0.05)[cirq.VirtualTag()]───────BF(0.05)[cirq.VirtualTag()]─────────────BF(0.05)[cirq.VirtualTag()]─────────────BF(0.05)[cirq.VirtualTag()]───────BF(0.05)[cirq.VirtualTag()]─────────────BF(0.05)[cirq.VirtualTag()]─────────────BF(0.05)[cirq.VirtualTag()]───────BF(0.05)[cirq.VirtualTag()]───────────BF(0.05)[cirq.VirtualTag()]───┼───BF(0.05)[cirq.VirtualTag()]───────BF(0.05)[cirq.VirtualTag()]─────────────BF(0.05)[cirq.VirtualTag()]───────BF(0.05)[cirq.VirtualTag()]───X─────────BF(0.05)[cirq.VirtualTag()]───BF(0.1)───BF(0.05)[cirq.VirtualTag()]───H───BF(0.05)[cirq.VirtualTag()]───@─────────BF(0.05)[cirq.VirtualTag()]─────────────BF(0.05)[cirq.VirtualTag()]───────BF(0.05)[cirq.VirtualTag()]─────────────BF(0.05)[cirq.VirtualTag()]─────────────BF(0.05)[cirq.VirtualTag()]───────BF(0.05)[cirq.VirtualTag()]─────────────BF(0.05)[cirq.VirtualTag()]─────────────BF(0.05)[cirq.VirtualTag()]───────BF(0.05)[cirq.VirtualTag()]───────────BF(0.05)[cirq.VirtualTag()]───┼───BF(0.05)[cirq.VirtualTag()]───────BF(0.05)[cirq.VirtualTag()]─────────────BF(0.05)[cirq.VirtualTag()]───────BF(0.05)[cirq.VirtualTag()]───X───BF(0.05)[cirq.VirtualTag()]───BF(0.1)───BF(0.05)[cirq.VirtualTag()]───H───BF(0.05)[cirq.VirtualTag()]───@───BF(0.05)[cirq.VirtualTag()]─────────────BF(0.05)[cirq.VirtualTag()]───────BF(0.05)[cirq.VirtualTag()]───────BF(0.05)[cirq.VirtualTag()]─────────────BF(0.05)[cirq.VirtualTag()]───────BF(0.05)[cirq.VirtualTag()]───────BF(0.05)[cirq.VirtualTag()]─────────────BF(0.05)[cirq.VirtualTag()]───────BF(0.05)[cirq.VirtualTag()]───────────BF(0.05)[cirq.VirtualTag()]───┼───BF(0.05)[cirq.VirtualTag()]───M───BF(0.05)[cirq.VirtualTag()]───\n",
       "                                                                                                                                                                                                                                                                                                                                                                                                                                                                                                                                                                                                                                                                                    │                                                                                                                                                                                                                                                                                                                                                                                           │                                                                                                                                                                                                                                                               │                                                                                                                                                                                                                                                                                                                                                                                           │                                                                                                                                                                                                                                                         │                                                                                                                                                                                                                                                                                                                                                                         │\n",
       "7: ───────BF(0.05)[cirq.VirtualTag()]─────────────BF(0.05)[cirq.VirtualTag()]───────BF(0.05)[cirq.VirtualTag()]───────BF(0.05)[cirq.VirtualTag()]─────────────BF(0.05)[cirq.VirtualTag()]───────BF(0.05)[cirq.VirtualTag()]───────BF(0.05)[cirq.VirtualTag()]─────────────BF(0.05)[cirq.VirtualTag()]───────BF(0.05)[cirq.VirtualTag()]───────BF(0.05)[cirq.VirtualTag()]─────────────BF(0.05)[cirq.VirtualTag()]───────BF(0.05)[cirq.VirtualTag()]───────BF(0.05)[cirq.VirtualTag()]─────────────BF(0.05)[cirq.VirtualTag()]───────BF(0.05)[cirq.VirtualTag()]─────────────BF(0.05)[cirq.VirtualTag()]─────────────BF(0.05)[cirq.VirtualTag()]───────BF(0.05)[cirq.VirtualTag()]───X─────────BF(0.05)[cirq.VirtualTag()]───BF(0.1)───BF(0.05)[cirq.VirtualTag()]───H───BF(0.05)[cirq.VirtualTag()]───@─────────BF(0.05)[cirq.VirtualTag()]─────────────BF(0.05)[cirq.VirtualTag()]───────BF(0.05)[cirq.VirtualTag()]─────────────BF(0.05)[cirq.VirtualTag()]─────────────BF(0.05)[cirq.VirtualTag()]───────BF(0.05)[cirq.VirtualTag()]───────────BF(0.05)[cirq.VirtualTag()]───┼───BF(0.05)[cirq.VirtualTag()]───────BF(0.05)[cirq.VirtualTag()]─────────────BF(0.05)[cirq.VirtualTag()]───────BF(0.05)[cirq.VirtualTag()]─────────────BF(0.05)[cirq.VirtualTag()]─────────────BF(0.05)[cirq.VirtualTag()]───────BF(0.05)[cirq.VirtualTag()]───X─────────BF(0.05)[cirq.VirtualTag()]───BF(0.1)───BF(0.05)[cirq.VirtualTag()]───H───BF(0.05)[cirq.VirtualTag()]───@─────────BF(0.05)[cirq.VirtualTag()]─────────────BF(0.05)[cirq.VirtualTag()]───────BF(0.05)[cirq.VirtualTag()]─────────────BF(0.05)[cirq.VirtualTag()]─────────────BF(0.05)[cirq.VirtualTag()]───────BF(0.05)[cirq.VirtualTag()]───────────BF(0.05)[cirq.VirtualTag()]───┼───BF(0.05)[cirq.VirtualTag()]───────BF(0.05)[cirq.VirtualTag()]─────────────BF(0.05)[cirq.VirtualTag()]───────BF(0.05)[cirq.VirtualTag()]───────BF(0.05)[cirq.VirtualTag()]─────────────BF(0.05)[cirq.VirtualTag()]───────BF(0.05)[cirq.VirtualTag()]───X───BF(0.05)[cirq.VirtualTag()]───BF(0.1)───BF(0.05)[cirq.VirtualTag()]───H───BF(0.05)[cirq.VirtualTag()]───@───BF(0.05)[cirq.VirtualTag()]─────────────BF(0.05)[cirq.VirtualTag()]───────BF(0.05)[cirq.VirtualTag()]───────BF(0.05)[cirq.VirtualTag()]─────────────BF(0.05)[cirq.VirtualTag()]───────BF(0.05)[cirq.VirtualTag()]───────────BF(0.05)[cirq.VirtualTag()]───┼───BF(0.05)[cirq.VirtualTag()]───M───BF(0.05)[cirq.VirtualTag()]───\n",
       "                                                                                                                                                                                                                                                                                                                                                                                                                                                                                                                                                                                                                                                                                                                                                                                                      │                                                                                                                                                                                                                                                                         │                                                                                                                                                                                                                                                                                                                                                                                 │                                                                                                                                                                                                                                                                         │                                                                                                                                                                                                                                                                                                                                                                     │                                                                                                                                                                                                                                                             │\n",
       "8: ───────BF(0.05)[cirq.VirtualTag()]─────────────BF(0.05)[cirq.VirtualTag()]───────BF(0.05)[cirq.VirtualTag()]───────BF(0.05)[cirq.VirtualTag()]─────────────BF(0.05)[cirq.VirtualTag()]───────BF(0.05)[cirq.VirtualTag()]───────BF(0.05)[cirq.VirtualTag()]─────────────BF(0.05)[cirq.VirtualTag()]───────BF(0.05)[cirq.VirtualTag()]───────BF(0.05)[cirq.VirtualTag()]─────────────BF(0.05)[cirq.VirtualTag()]───────BF(0.05)[cirq.VirtualTag()]───────BF(0.05)[cirq.VirtualTag()]─────────────BF(0.05)[cirq.VirtualTag()]───────BF(0.05)[cirq.VirtualTag()]─────────────BF(0.05)[cirq.VirtualTag()]─────────────BF(0.05)[cirq.VirtualTag()]───────BF(0.05)[cirq.VirtualTag()]─────────────BF(0.05)[cirq.VirtualTag()]─────────────BF(0.05)[cirq.VirtualTag()]───────BF(0.05)[cirq.VirtualTag()]───X─────────BF(0.05)[cirq.VirtualTag()]───BF(0.1)───BF(0.05)[cirq.VirtualTag()]───H───BF(0.05)[cirq.VirtualTag()]───@─────────BF(0.05)[cirq.VirtualTag()]─────────────BF(0.05)[cirq.VirtualTag()]───────BF(0.05)[cirq.VirtualTag()]───────────BF(0.05)[cirq.VirtualTag()]───┼───BF(0.05)[cirq.VirtualTag()]───────BF(0.05)[cirq.VirtualTag()]─────────────BF(0.05)[cirq.VirtualTag()]───────BF(0.05)[cirq.VirtualTag()]─────────────BF(0.05)[cirq.VirtualTag()]─────────────BF(0.05)[cirq.VirtualTag()]───────BF(0.05)[cirq.VirtualTag()]─────────────BF(0.05)[cirq.VirtualTag()]─────────────BF(0.05)[cirq.VirtualTag()]───────BF(0.05)[cirq.VirtualTag()]───X─────────BF(0.05)[cirq.VirtualTag()]───BF(0.1)───BF(0.05)[cirq.VirtualTag()]───H───BF(0.05)[cirq.VirtualTag()]───@─────────BF(0.05)[cirq.VirtualTag()]─────────────BF(0.05)[cirq.VirtualTag()]───────BF(0.05)[cirq.VirtualTag()]───────────BF(0.05)[cirq.VirtualTag()]───┼───BF(0.05)[cirq.VirtualTag()]───────BF(0.05)[cirq.VirtualTag()]─────────────BF(0.05)[cirq.VirtualTag()]───────BF(0.05)[cirq.VirtualTag()]───────BF(0.05)[cirq.VirtualTag()]─────────────BF(0.05)[cirq.VirtualTag()]───────BF(0.05)[cirq.VirtualTag()]───────BF(0.05)[cirq.VirtualTag()]─────────────BF(0.05)[cirq.VirtualTag()]───────BF(0.05)[cirq.VirtualTag()]───X───BF(0.05)[cirq.VirtualTag()]───BF(0.1)───BF(0.05)[cirq.VirtualTag()]───H───BF(0.05)[cirq.VirtualTag()]───@───BF(0.05)[cirq.VirtualTag()]─────────────BF(0.05)[cirq.VirtualTag()]───────BF(0.05)[cirq.VirtualTag()]───────────BF(0.05)[cirq.VirtualTag()]───┼───BF(0.05)[cirq.VirtualTag()]───M───BF(0.05)[cirq.VirtualTag()]───\n",
       "                                                                                                                                                                                                                                                                                                                                                                                                                                                                                                                                                                                                                                                                                                                                                                                                                                                                                                                        │                                                                                                                                                       │                                                                                                                                                                                                                                                                                                                                                                                                                                                                                                   │                                                                                                                                                       │                                                                                                                                                                                                                                                                                                                                                                                                                                                                                 │                                                                                                                                                 │\n",
       "9: ───────BF(0.05)[cirq.VirtualTag()]─────────────BF(0.05)[cirq.VirtualTag()]───────BF(0.05)[cirq.VirtualTag()]───────BF(0.05)[cirq.VirtualTag()]─────────────BF(0.05)[cirq.VirtualTag()]───────BF(0.05)[cirq.VirtualTag()]───────BF(0.05)[cirq.VirtualTag()]─────────────BF(0.05)[cirq.VirtualTag()]───────BF(0.05)[cirq.VirtualTag()]───────BF(0.05)[cirq.VirtualTag()]─────────────BF(0.05)[cirq.VirtualTag()]───────BF(0.05)[cirq.VirtualTag()]───────BF(0.05)[cirq.VirtualTag()]─────────────BF(0.05)[cirq.VirtualTag()]───────BF(0.05)[cirq.VirtualTag()]─────────────BF(0.05)[cirq.VirtualTag()]─────────────BF(0.05)[cirq.VirtualTag()]───────BF(0.05)[cirq.VirtualTag()]─────────────BF(0.05)[cirq.VirtualTag()]─────────────BF(0.05)[cirq.VirtualTag()]───────BF(0.05)[cirq.VirtualTag()]─────────────BF(0.05)[cirq.VirtualTag()]─────────────BF(0.05)[cirq.VirtualTag()]───────BF(0.05)[cirq.VirtualTag()]───X─────────BF(0.05)[cirq.VirtualTag()]───BF(0.1)───BF(0.05)[cirq.VirtualTag()]───H───BF(0.05)[cirq.VirtualTag()]───Rx(b)───BF(0.05)[cirq.VirtualTag()]───@───BF(0.05)[cirq.VirtualTag()]───────BF(0.05)[cirq.VirtualTag()]─────────────BF(0.05)[cirq.VirtualTag()]───────BF(0.05)[cirq.VirtualTag()]─────────────BF(0.05)[cirq.VirtualTag()]─────────────BF(0.05)[cirq.VirtualTag()]───────BF(0.05)[cirq.VirtualTag()]─────────────BF(0.05)[cirq.VirtualTag()]─────────────BF(0.05)[cirq.VirtualTag()]───────BF(0.05)[cirq.VirtualTag()]─────────────BF(0.05)[cirq.VirtualTag()]─────────────BF(0.05)[cirq.VirtualTag()]───────BF(0.05)[cirq.VirtualTag()]───X─────────BF(0.05)[cirq.VirtualTag()]───BF(0.1)───BF(0.05)[cirq.VirtualTag()]───H───BF(0.05)[cirq.VirtualTag()]───Rx(b)───BF(0.05)[cirq.VirtualTag()]───@───BF(0.05)[cirq.VirtualTag()]───────BF(0.05)[cirq.VirtualTag()]─────────────BF(0.05)[cirq.VirtualTag()]───────BF(0.05)[cirq.VirtualTag()]───────BF(0.05)[cirq.VirtualTag()]─────────────BF(0.05)[cirq.VirtualTag()]───────BF(0.05)[cirq.VirtualTag()]───────BF(0.05)[cirq.VirtualTag()]─────────────BF(0.05)[cirq.VirtualTag()]───────BF(0.05)[cirq.VirtualTag()]───────BF(0.05)[cirq.VirtualTag()]─────────────BF(0.05)[cirq.VirtualTag()]───────BF(0.05)[cirq.VirtualTag()]───X───BF(0.05)[cirq.VirtualTag()]───BF(0.1)───BF(0.05)[cirq.VirtualTag()]───H───BF(0.05)[cirq.VirtualTag()]───Rx(b)───BF(0.05)[cirq.VirtualTag()]───@───BF(0.05)[cirq.VirtualTag()]───M───BF(0.05)[cirq.VirtualTag()]───"
      ]
     },
     "execution_count": 22,
     "metadata": {},
     "output_type": "execute_result"
    }
   ],
   "source": [
    "model_circuit.with_noise(cirq.bit_flip(p=0.05))"
   ]
  },
  {
   "cell_type": "code",
   "execution_count": 23,
   "metadata": {
    "colab": {},
    "colab_type": "code",
    "execution": {
     "iopub.execute_input": "2022-07-29T11:52:32.744485Z",
     "iopub.status.busy": "2022-07-29T11:52:32.743853Z",
     "iopub.status.idle": "2022-07-29T11:52:32.749641Z",
     "shell.execute_reply": "2022-07-29T11:52:32.748995Z"
    },
    "id": "UfHF8NNE6pIr"
   },
   "outputs": [],
   "source": [
    "# This input is the simulated miscalibration that the model will learn to correct.\n",
    "circuits_input = tf.keras.Input(shape=(),\n",
    "                                # The circuit-tensor has dtype `tf.string` \n",
    "                                dtype=tf.string,\n",
    "                                name='circuits_input')\n",
    "\n",
    "# Commands will be either `0` or `1`, specifying the state to set the qubit to.\n",
    "commands_input = tf.keras.Input(shape=(1,),\n",
    "                                dtype=tf.dtypes.float32,\n",
    "                                name='commands_input')\n",
    "\n"
   ]
  },
  {
   "attachments": {},
   "cell_type": "markdown",
   "metadata": {
    "colab_type": "text",
    "id": "y9xN2mNl6pIu"
   },
   "source": [
    "Next apply operations to those inputs, to define the computation."
   ]
  },
  {
   "cell_type": "code",
   "execution_count": 24,
   "metadata": {},
   "outputs": [
    {
     "data": {
      "text/plain": [
       "{cirq.depolarize(p=0.01): 1,\n",
       " cirq.asymmetric_depolarize(error_probabilities={'I': 0.94, 'X': 0.01, 'Y': 0.02, 'Z': 0.03}): 1,\n",
       " cirq.generalized_amplitude_damp(p=0.01,gamma=0.02): 1,\n",
       " cirq.amplitude_damp(gamma=0.01): 1,\n",
       " cirq.ResetChannel(): 1,\n",
       " cirq.phase_damp(gamma=0.01): 1,\n",
       " cirq.phase_flip(p=0.01): 1,\n",
       " cirq.bit_flip(p=0.01): 1}"
      ]
     },
     "execution_count": 24,
     "metadata": {},
     "output_type": "execute_result"
    }
   ],
   "source": [
    "tfq.util.get_supported_channels() "
   ]
  },
  {
   "cell_type": "code",
   "execution_count": 25,
   "metadata": {},
   "outputs": [],
   "source": [
    "dense_2 = controller(commands_input)\n"
   ]
  },
  {
   "cell_type": "code",
   "execution_count": 26,
   "metadata": {
    "colab": {},
    "colab_type": "code",
    "execution": {
     "iopub.execute_input": "2022-07-29T11:52:32.752926Z",
     "iopub.status.busy": "2022-07-29T11:52:32.752359Z",
     "iopub.status.idle": "2022-07-29T11:52:33.954859Z",
     "shell.execute_reply": "2022-07-29T11:52:33.954100Z"
    },
    "id": "Zvt2YGmZ6pIu"
   },
   "outputs": [],
   "source": [
    "\n",
    "expectation_layer = tfq.layers.NoisyControlledPQC(model_circuit.with_noise(cirq.bit_flip(p=0.05)),\n",
    "                                             # Observe Z\n",
    "                                             operators = [cirq.Z(qubit),cirq.Z(qubit)],repetitions=10000,sample_based=True)\n",
    "expectation = expectation_layer([circuits_input, dense_2])"
   ]
  },
  {
   "attachments": {},
   "cell_type": "markdown",
   "metadata": {
    "colab_type": "text",
    "id": "Ip2jNA9h6pIy"
   },
   "source": [
    "Now package this computation as a `tf.keras.Model`:"
   ]
  },
  {
   "cell_type": "code",
   "execution_count": 27,
   "metadata": {
    "colab": {},
    "colab_type": "code",
    "execution": {
     "iopub.execute_input": "2022-07-29T11:52:33.959419Z",
     "iopub.status.busy": "2022-07-29T11:52:33.958782Z",
     "iopub.status.idle": "2022-07-29T11:52:33.965488Z",
     "shell.execute_reply": "2022-07-29T11:52:33.964774Z"
    },
    "id": "Xs6EMhah6pIz"
   },
   "outputs": [],
   "source": [
    "# The full Keras model is built from our layers.\n",
    "model = tf.keras.Model(inputs=[circuits_input, commands_input],\n",
    "                       outputs=expectation)\n",
    "\n"
   ]
  },
  {
   "attachments": {},
   "cell_type": "markdown",
   "metadata": {
    "colab_type": "text",
    "id": "w7kgqm3t6pI3"
   },
   "source": [
    "The network architecture is indicated by the plot of the model below.\n",
    "Compare this model plot to the architecture diagram to verify correctness.\n",
    "\n",
    "Note: May require a system install of the `graphviz` package."
   ]
  },
  {
   "cell_type": "code",
   "execution_count": 28,
   "metadata": {
    "colab": {},
    "colab_type": "code",
    "execution": {
     "iopub.execute_input": "2022-07-29T11:52:33.968895Z",
     "iopub.status.busy": "2022-07-29T11:52:33.968386Z",
     "iopub.status.idle": "2022-07-29T11:52:33.991475Z",
     "shell.execute_reply": "2022-07-29T11:52:33.990313Z"
    },
    "id": "ERXNPe4F6pI4"
   },
   "outputs": [
    {
     "data": {
      "image/png": "[encoded data removed]",
      "text/plain": [
       "<IPython.core.display.Image object>"
      ]
     },
     "execution_count": 28,
     "metadata": {},
     "output_type": "execute_result"
    }
   ],
   "source": [
    "tf.keras.utils.plot_model(model, show_shapes=True, dpi=70)"
   ]
  },
  {
   "attachments": {},
   "cell_type": "markdown",
   "metadata": {
    "colab_type": "text",
    "id": "-Pbemgww6pI7"
   },
   "source": [
    "This model takes two inputs: The commands for the controller, and the input-circuit whose output the controller is attempting to correct. "
   ]
  },
  {
   "attachments": {},
   "cell_type": "markdown",
   "metadata": {
    "colab_type": "text",
    "id": "hpnIBK916pI8"
   },
   "source": [
    "### 2.4 The dataset"
   ]
  },
  {
   "attachments": {},
   "cell_type": "markdown",
   "metadata": {
    "colab_type": "text",
    "id": "yJSC9qH76pJA"
   },
   "source": [
    "The model attempts to output the correct correct measurement value of $\\hat{Z}$ for each command. The commands and correct values are defined below."
   ]
  },
  {
   "cell_type": "code",
   "execution_count": 29,
   "metadata": {
    "colab": {},
    "colab_type": "code",
    "execution": {
     "iopub.execute_input": "2022-07-29T11:52:33.995925Z",
     "iopub.status.busy": "2022-07-29T11:52:33.995194Z",
     "iopub.status.idle": "2022-07-29T11:52:33.999801Z",
     "shell.execute_reply": "2022-07-29T11:52:33.999136Z"
    },
    "id": "ciMIJAuH6pJA"
   },
   "outputs": [],
   "source": [
    "# The command input values to the classical NN.\n",
    "commands = np.array([[0], [1]], dtype=np.float32)\n",
    "\n",
    "# The desired Z expectation value at output of quantum circuit.\n",
    "expected_outputs = np.array([[1], [-1]], dtype=np.float32)"
   ]
  },
  {
   "attachments": {},
   "cell_type": "markdown",
   "metadata": {
    "colab_type": "text",
    "id": "kV1LM_hZ6pJD"
   },
   "source": [
    "This is not the entire training dataset for this task. \n",
    "Each datapoint in the dataset also needs an input circuit."
   ]
  },
  {
   "attachments": {},
   "cell_type": "markdown",
   "metadata": {
    "colab_type": "text",
    "id": "bbiVHvSYVW4H"
   },
   "source": [
    "### 2.4 Input circuit definition\n",
    "\n",
    "The input-circuit below defines the random miscalibration the model will learn to correct."
   ]
  },
  {
   "cell_type": "code",
   "execution_count": 30,
   "metadata": {
    "colab": {},
    "colab_type": "code",
    "execution": {
     "iopub.execute_input": "2022-07-29T11:52:34.003211Z",
     "iopub.status.busy": "2022-07-29T11:52:34.002678Z",
     "iopub.status.idle": "2022-07-29T11:52:34.010933Z",
     "shell.execute_reply": "2022-07-29T11:52:34.010266Z"
    },
    "id": "_VYfzHffWo7n"
   },
   "outputs": [
    {
     "data": {
      "text/plain": [
       "TensorShape([2])"
      ]
     },
     "execution_count": 30,
     "metadata": {},
     "output_type": "execute_result"
    }
   ],
   "source": [
    "random_rotations = np.random.uniform(0, 2 * np.pi, 100)\n",
    "noisy_preparation = cirq.Circuit(\n",
    "  cirq.rx(random_rotations[0])(qubit),\n",
    "  cirq.ry(random_rotations[1])(qubit),\n",
    "  cirq.rz(random_rotations[2])(qubit)\n",
    ")\n",
    "datapoint_circuits = tfq.convert_to_tensor([\n",
    "  noisy_preparation\n",
    "] * 2)  # Make two copied of this circuit\n",
    "\n",
    "datapoint_circuits.shape\n"
   ]
  },
  {
   "attachments": {},
   "cell_type": "markdown",
   "metadata": {
    "colab_type": "text",
    "id": "FvOkMyKI6pJI"
   },
   "source": [
    "There are two copies of the circuit, one for each datapoint."
   ]
  },
  {
   "attachments": {},
   "cell_type": "markdown",
   "metadata": {
    "colab_type": "text",
    "id": "gB--UhZZYgVY"
   },
   "source": [
    "### 2.5 Training"
   ]
  },
  {
   "attachments": {},
   "cell_type": "markdown",
   "metadata": {
    "colab_type": "text",
    "id": "jATjqUIv6pJM"
   },
   "source": [
    "With the inputs defined you can test-run the `tfq` model."
   ]
  },
  {
   "attachments": {},
   "cell_type": "markdown",
   "metadata": {},
   "source": [
    "ValueError: Data cardinality is ambiguous:\n",
    "  x sizes: 2, 3\n",
    "  y sizes: 2\n",
    "Make sure all arrays contain the same number of samples."
   ]
  },
  {
   "cell_type": "code",
   "execution_count": 31,
   "metadata": {
    "colab": {},
    "colab_type": "code",
    "execution": {
     "iopub.execute_input": "2022-07-29T11:52:34.021693Z",
     "iopub.status.busy": "2022-07-29T11:52:34.021437Z",
     "iopub.status.idle": "2022-07-29T11:52:34.031479Z",
     "shell.execute_reply": "2022-07-29T11:52:34.030782Z"
    },
    "id": "Lwphqvs96pJO"
   },
   "outputs": [
    {
     "data": {
      "text/plain": [
       "array([[0.5134    , 0.51640004],\n",
       "       [0.5138    , 0.51979995]], dtype=float32)"
      ]
     },
     "execution_count": 31,
     "metadata": {},
     "output_type": "execute_result"
    }
   ],
   "source": [
    "model([datapoint_circuits, commands]).numpy()"
   ]
  },
  {
   "attachments": {},
   "cell_type": "markdown",
   "metadata": {
    "colab_type": "text",
    "id": "9gyg5qSL6pJR"
   },
   "source": [
    "Now run a standard training process to adjust these values towards the `expected_outputs`."
   ]
  },
  {
   "cell_type": "code",
   "execution_count": 32,
   "metadata": {
    "colab": {},
    "colab_type": "code",
    "execution": {
     "iopub.execute_input": "2022-07-29T11:52:34.034851Z",
     "iopub.status.busy": "2022-07-29T11:52:34.034229Z",
     "iopub.status.idle": "2022-07-29T11:52:34.631263Z",
     "shell.execute_reply": "2022-07-29T11:52:34.630463Z"
    },
    "id": "dtPYqbNi8zeZ"
   },
   "outputs": [
    {
     "name": "stdout",
     "output_type": "stream",
     "text": [
      "Epoch 1/30\n",
      "WARNING:tensorflow:From /home/anaconda3/envs/myenvqq/lib/python3.8/site-packages/tensorflow/python/autograph/pyct/static_analysis/liveness.py:83: Analyzer.lamba_check (from tensorflow.python.autograph.pyct.static_analysis.liveness) is deprecated and will be removed after 2023-09-23.\n",
      "Instructions for updating:\n",
      "Lambda fuctions will be no more assumed to be used in the statement where they are used, or at least in the same block. https://github.com/tensorflow/tensorflow/issues/56089\n",
      "1/1 [==============================] - 19s 19s/step - loss: 1.2645\n",
      "Epoch 2/30\n",
      "1/1 [==============================] - 18s 18s/step - loss: 1.2767\n",
      "Epoch 3/30\n",
      "1/1 [==============================] - 18s 18s/step - loss: 1.2676\n",
      "Epoch 4/30\n",
      "1/1 [==============================] - 18s 18s/step - loss: 1.2753\n",
      "Epoch 5/30\n",
      "1/1 [==============================] - 18s 18s/step - loss: 1.2601\n",
      "Epoch 6/30\n",
      "1/1 [==============================] - 17s 17s/step - loss: 1.2821\n",
      "Epoch 7/30\n",
      "1/1 [==============================] - 17s 17s/step - loss: 1.2725\n",
      "Epoch 8/30\n",
      "1/1 [==============================] - 17s 17s/step - loss: 1.2723\n",
      "Epoch 9/30\n",
      "1/1 [==============================] - 17s 17s/step - loss: 1.2653\n",
      "Epoch 10/30\n",
      "1/1 [==============================] - 17s 17s/step - loss: 1.2719\n",
      "Epoch 11/30\n",
      "1/1 [==============================] - 16s 16s/step - loss: 1.2520\n",
      "Epoch 12/30\n",
      "1/1 [==============================] - 17s 17s/step - loss: 1.2543\n",
      "Epoch 13/30\n",
      "1/1 [==============================] - 17s 17s/step - loss: 1.2854\n",
      "Epoch 14/30\n",
      "1/1 [==============================] - 16s 16s/step - loss: 1.2646\n",
      "Epoch 15/30\n",
      "1/1 [==============================] - 16s 16s/step - loss: 1.2715\n",
      "Epoch 16/30\n",
      "1/1 [==============================] - 16s 16s/step - loss: 1.2836\n",
      "Epoch 17/30\n",
      "1/1 [==============================] - 16s 16s/step - loss: 1.2686\n",
      "Epoch 18/30\n",
      "1/1 [==============================] - 16s 16s/step - loss: 1.2817\n",
      "Epoch 19/30\n",
      "1/1 [==============================] - 17s 17s/step - loss: 1.2677\n",
      "Epoch 20/30\n",
      "1/1 [==============================] - 17s 17s/step - loss: 1.2687\n",
      "Epoch 21/30\n",
      "1/1 [==============================] - 16s 16s/step - loss: 1.2718\n",
      "Epoch 22/30\n",
      "1/1 [==============================] - 16s 16s/step - loss: 1.2625\n",
      "Epoch 23/30\n",
      "1/1 [==============================] - 16s 16s/step - loss: 1.2517\n",
      "Epoch 24/30\n",
      "1/1 [==============================] - 16s 16s/step - loss: 1.2915\n",
      "Epoch 25/30\n",
      "1/1 [==============================] - 16s 16s/step - loss: 1.2624\n",
      "Epoch 26/30\n",
      "1/1 [==============================] - 16s 16s/step - loss: 1.2558\n",
      "Epoch 27/30\n",
      "1/1 [==============================] - 16s 16s/step - loss: 1.2615\n",
      "Epoch 28/30\n",
      "1/1 [==============================] - 16s 16s/step - loss: 1.2551\n",
      "Epoch 29/30\n",
      "1/1 [==============================] - 16s 16s/step - loss: 1.2609\n",
      "Epoch 30/30\n",
      "1/1 [==============================] - 16s 16s/step - loss: 1.2773\n"
     ]
    }
   ],
   "source": [
    "import tensorflow as tf\n",
    "\n",
    "optimizer = tf.keras.optimizers.Adam(learning_rate=0.01)\n",
    "\n",
    "loss = tf.keras.losses.MeanSquaredError()\n",
    "model.compile(optimizer=optimizer, loss=loss)\n",
    "history = model.fit(x=[datapoint_circuits, commands],\n",
    "                    y=expected_outputs,\n",
    "                    epochs=30,\n",
    "                    verbose=1)"
   ]
  },
  {
   "cell_type": "code",
   "execution_count": 33,
   "metadata": {
    "colab": {},
    "colab_type": "code",
    "execution": {
     "iopub.execute_input": "2022-07-29T11:52:34.635392Z",
     "iopub.status.busy": "2022-07-29T11:52:34.634769Z",
     "iopub.status.idle": "2022-07-29T11:52:34.809203Z",
     "shell.execute_reply": "2022-07-29T11:52:34.808504Z"
    },
    "id": "azE-qV0OaC1o"
   },
   "outputs": [
    {
     "data": {
      "image/png": "[encoded data removed]",
      "text/plain": [
       "<Figure size 640x480 with 1 Axes>"
      ]
     },
     "metadata": {},
     "output_type": "display_data"
    }
   ],
   "source": [
    "plt.plot(history.history['loss'])\n",
    "plt.title(\"Learning to Control a Qubit\")\n",
    "plt.xlabel(\"Iterations\")\n",
    "plt.ylabel(\"Error in Control\")\n",
    "plt.show()"
   ]
  },
  {
   "attachments": {},
   "cell_type": "markdown",
   "metadata": {
    "colab_type": "text",
    "id": "GTd5DGcRmmOK"
   },
   "source": [
    "From this plot you can see that the neural network has learned to overcome the systematic miscalibration."
   ]
  },
  {
   "attachments": {},
   "cell_type": "markdown",
   "metadata": {
    "colab_type": "text",
    "id": "C2RfWismj66S"
   },
   "source": [
    "### 2.6 Verify outputs\n",
    "Now use the trained model, to correct the qubit calibration errors. With Cirq:"
   ]
  },
  {
   "cell_type": "code",
   "execution_count": 34,
   "metadata": {},
   "outputs": [
    {
     "data": {
      "text/plain": [
       "(a, b)"
      ]
     },
     "execution_count": 34,
     "metadata": {},
     "output_type": "execute_result"
    }
   ],
   "source": [
    "control_params"
   ]
  },
  {
   "cell_type": "code",
   "execution_count": 35,
   "metadata": {},
   "outputs": [
    {
     "name": "stdout",
     "output_type": "stream",
     "text": [
      "(0, 0): ───Rx(0.039π)───Ry(0.325π)───Rz(0.547π)─────────────────────────────────────────────────────────────────────────────────────────────────────────────────────────────────────────────────────────────────────────────────────────────────────────────────────────────────────────────────────────────────────────────────────────────────────────────────────────────────────────────────────────────────────────────────────────────────────────────────────────────────────────────────\n",
      "\n",
      "0: ───────────────────────────────────────────────@───Rx(a)───────────────────────────────────────────────────────────────────@─────────@───Rx(a)───────────────────────────────────────────────────────────────────────────────────────────────────────────@─────────@───Rx(a)───────────────────────────────────────────────────────────────────────────────────────────────────────────@─────────X───────────────────────────────────────────────────────────────────────────────────────M───\n",
      "                                                  │                                                                           │         │                                                                                                                   │         │                                                                                                                   │\n",
      "1: ───────────────────────────────────────────────X───BF(0.1)───H───@─────────────────────────────────────────────────────────┼─────────X───BF(0.1)───H─────────@───────────────────────────────────────────────────────────────────────────────────────────┼─────────X───BF(0.1)───H─────────@───────────────────────────────────────────────────────────────────────────────────────────┼─────────────────────────────────────────────────────────────────────────────────────────────────M───\n",
      "                                                                    │                                                         │                                 │                                                                                           │                                 │                                                                                           │\n",
      "2: ─────────────────────────────────────────────────────────────────X───BF(0.1)───H───@───────────────────────────────────────┼─────────────────────────────────X───BF(0.1)───H─────────@───────────────────────────────────────────────────────────────────┼─────────────────────────────────X───BF(0.1)───H─────────@───────────────────────────────────────────────────────────────────┼─────────────────────────────────────────────────────────────────────────────────────────────────M───\n",
      "                                                                                      │                                       │                                                         │                                                                   │                                                         │                                                                   │\n",
      "3: ───────────────────────────────────────────────────────────────────────────────────X───BF(0.1)───H───@─────────────────────┼─────────────────────────────────────────────────────────X───BF(0.1)───H─────────@───────────────────────────────────────────┼─────────────────────────────────────────────────────────X───BF(0.1)───H─────────@───────────────────────────────────────────┼─────────────────────────────────────────────────────────────────────────────────────────────────M───\n",
      "                                                                                                        │                     │                                                                                 │                                           │                                                                                 │                                           │\n",
      "4: ─────────────────────────────────────────────────────────────────────────────────────────────────────X───BF(0.1)───H───@───X─────────────────────────────────────────────────────────────────────────────────X───BF(0.1)───H─────────────────────────@───X─────────────────────────────────────────────────────────────────────────────────X───BF(0.1)───H─────────────────────────@───X─────────────────────────────────────────────────────────────────────────────────────────────────M───\n",
      "                                                                                                                          │                                                                                                                             │                                                                                                                             │\n",
      "5: ───────────────────────────────────────────────────────────────────────────────────────────────────────────────────────X───BF(0.1)───H───@───────────────────────────────────────────────────────────────────────────────────────────────────────X───X───BF(0.1)───H───@───────────────────────────────────────────────────────────────────────────────────────────────────────X───X───BF(0.1)───H───@───────────────────────────────────────────────────────────────────────────────X───M───\n",
      "                                                                                                                                            │                                                                                                       │                     │                                                                                                       │                     │                                                                               │\n",
      "6: ─────────────────────────────────────────────────────────────────────────────────────────────────────────────────────────────────────────X─────────BF(0.1)───H───@───────────────────────────────────────────────────────────────────────────────┼─────────────────────X─────────BF(0.1)───H───@───────────────────────────────────────────────────────────────────────────────┼─────────────────────X───BF(0.1)───H───@─────────────────────────────────────────────────────────────┼───M───\n",
      "                                                                                                                                                                    │                                                                               │                                             │                                                                               │                                       │                                                             │\n",
      "7: ─────────────────────────────────────────────────────────────────────────────────────────────────────────────────────────────────────────────────────────────────X─────────BF(0.1)───H───@───────────────────────────────────────────────────────┼─────────────────────────────────────────────X─────────BF(0.1)───H───@───────────────────────────────────────────────────────┼───────────────────────────────────────X───BF(0.1)───H───@───────────────────────────────────────────┼───M───\n",
      "                                                                                                                                                                                            │                                                       │                                                                     │                                                       │                                                         │                                           │\n",
      "8: ─────────────────────────────────────────────────────────────────────────────────────────────────────────────────────────────────────────────────────────────────────────────────────────X─────────BF(0.1)───H───@───────────────────────────────┼─────────────────────────────────────────────────────────────────────X─────────BF(0.1)───H───@───────────────────────────────┼─────────────────────────────────────────────────────────X───BF(0.1)───H───@─────────────────────────┼───M───\n",
      "                                                                                                                                                                                                                    │                               │                                                                                             │                               │                                                                           │                         │\n",
      "9: ─────────────────────────────────────────────────────────────────────────────────────────────────────────────────────────────────────────────────────────────────────────────────────────────────────────────────X─────────BF(0.1)───H───Rx(b)───@─────────────────────────────────────────────────────────────────────────────────────────────X─────────BF(0.1)───H───Rx(b)───@───────────────────────────────────────────────────────────────────────────X───BF(0.1)───H───Rx(b)───@───M───\n"
     ]
    }
   ],
   "source": [
    "params_to_prepare_output = controller(commands).numpy()\n",
    "full_circuit = noisy_preparation + model_circuit\n",
    "print(full_circuit)"
   ]
  },
  {
   "cell_type": "code",
   "execution_count": 36,
   "metadata": {
    "colab": {},
    "colab_type": "code",
    "execution": {
     "iopub.execute_input": "2022-07-29T11:52:34.813092Z",
     "iopub.status.busy": "2022-07-29T11:52:34.812454Z",
     "iopub.status.idle": "2022-07-29T11:52:34.825895Z",
     "shell.execute_reply": "2022-07-29T11:52:34.825203Z"
    },
    "id": "RoIlb7r7j5SY"
   },
   "outputs": [
    {
     "name": "stdout",
     "output_type": "stream",
     "text": [
      "For a desired output (expectation) of [1.] with noisy preparation, the controller\n",
      "network found the following values for theta: [-0.43385428  0.22177477]\n",
      "Which gives an actual expectation of: 0.519564688205719\n",
      "\n",
      "For a desired output (expectation) of [-1.] with noisy preparation, the controller\n",
      "network found the following values for theta: [-1.3351285  0.8036386]\n",
      "Which gives an actual expectation of: 0.5195654034614563\n",
      "\n"
     ]
    }
   ],
   "source": [
    "cirq_simulator = cirq.Simulator()\n",
    "\n",
    "def check_error(command_values, desired_values):\n",
    "  \"\"\"Based on the value in `command_value` see how well you could prepare\n",
    "  the full circuit to have `desired_value` when taking expectation w.r.t. Z.\"\"\"\n",
    "  params_to_prepare_output = controller(command_values).numpy()\n",
    "  full_circuit = noisy_preparation + model_circuit\n",
    "\n",
    "  # Test how well you can prepare a state to get expectation the expectation\n",
    "  # value in `desired_values`\n",
    "  for index in [0, 1]:\n",
    "    state = cirq_simulator.simulate(\n",
    "        full_circuit,\n",
    "        {s:v for (s,v) in zip(control_params, params_to_prepare_output[index])}\n",
    "    ).final_state_vector\n",
    "    expt = cirq.Z(qubit).expectation_from_state_vector(state, {qubit: 0}).real\n",
    "    print(f'For a desired output (expectation) of {desired_values[index]} with'\n",
    "          f' noisy preparation, the controller\\nnetwork found the following '\n",
    "          f'values for theta: {params_to_prepare_output[index]}\\nWhich gives an'\n",
    "          f' actual expectation of: {expt}\\n')\n",
    "\n",
    "\n",
    "check_error(commands, expected_outputs)"
   ]
  },
  {
   "attachments": {},
   "cell_type": "markdown",
   "metadata": {
    "colab_type": "text",
    "id": "wvW_ZDwmsws6"
   },
   "source": [
    "The value of the loss function during training provides a rough idea of how well the model is learning. The lower the loss, the closer the expectation values in the above cell is to `desired_values`. If you aren't as concerned with the parameter values, you can always check the outputs from above using `tfq`:"
   ]
  },
  {
   "cell_type": "code",
   "execution_count": 37,
   "metadata": {
    "colab": {},
    "colab_type": "code",
    "execution": {
     "iopub.execute_input": "2022-07-29T11:52:34.829247Z",
     "iopub.status.busy": "2022-07-29T11:52:34.828693Z",
     "iopub.status.idle": "2022-07-29T11:52:34.837077Z",
     "shell.execute_reply": "2022-07-29T11:52:34.836433Z"
    },
    "id": "aYskLTacs8Ku"
   },
   "outputs": [
    {
     "data": {
      "text/plain": [
       "<tf.Tensor: shape=(2, 2), dtype=float32, numpy=\n",
       "array([[0.5196    , 0.5228    ],\n",
       "       [0.51780003, 0.5194    ]], dtype=float32)>"
      ]
     },
     "execution_count": 37,
     "metadata": {},
     "output_type": "execute_result"
    }
   ],
   "source": [
    "model([datapoint_circuits, commands])"
   ]
  }
 ],
 "metadata": {
  "colab": {
   "collapsed_sections": [],
   "name": "hello_many_worlds.ipynb",
   "private_outputs": true,
   "provenance": [],
   "toc_visible": true
  },
  "kernelspec": {
   "display_name": "Python 3.9.12 64-bit ('tf27')",
   "language": "python",
   "name": "python3"
  },
  "language_info": {
   "codemirror_mode": {
    "name": "ipython",
    "version": 3
   },
   "file_extension": ".py",
   "mimetype": "text/x-python",
   "name": "python",
   "nbconvert_exporter": "python",
   "pygments_lexer": "ipython3",
   "version": "3.8.16"
  },
  "vscode": {
   "interpreter": {
    "hash": "9ecf280a3e2da1620d8f6fe73c4ec54d375669d066258c247c72ca225076a021"
   }
  }
 },
 "nbformat": 4,
 "nbformat_minor": 0
}
