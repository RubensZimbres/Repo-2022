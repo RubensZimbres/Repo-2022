{
  "cells": [
    {
      "cell_type": "markdown",
      "metadata": {
        "id": "DkA0Fobtb9dM"
      },
      "source": [
        "##### Copyright 2022 The Cirq Developers"
      ]
    },
    {
      "cell_type": "code",
      "execution_count": null,
      "metadata": {
        "cellView": "form",
        "id": "tUshu7YfcAAW"
      },
      "outputs": [],
      "source": [
        "# @title Licensed under the Apache License, Version 2.0 (the \"License\");\n",
        "# you may not use this file except in compliance with the License.\n",
        "# You may obtain a copy of the License at\n",
        "#\n",
        "# https://www.apache.org/licenses/LICENSE-2.0\n",
        "#\n",
        "# Unless required by applicable law or agreed to in writing, software\n",
        "# distributed under the License is distributed on an \"AS IS\" BASIS,\n",
        "# WITHOUT WARRANTIES OR CONDITIONS OF ANY KIND, either express or implied.\n",
        "# See the License for the specific language governing permissions and\n",
        "# limitations under the License."
      ]
    },
    {
      "cell_type": "markdown",
      "metadata": {
        "id": "_JFVRPQ1l17m"
      },
      "source": [
        "# QVM Creation Template"
      ]
    },
    {
      "cell_type": "markdown",
      "metadata": {
        "id": "E6JaKuNTl9SA"
      },
      "source": [
        "<table class=\"tfo-notebook-buttons\" align=\"left\">\n",
        "  <td>\n",
        "    <a target=\"_blank\" href=\"https://quantumai.google/cirq/simulate/qvm_builder_code\"><img src=\"https://quantumai.google/site-assets/images/buttons/quantumai_logo_1x.png\" />View on QuantumAI</a>\n",
        "  </td>\n",
        "  <td>\n",
        "    <a target=\"_blank\" href=\"https://colab.research.google.com/github/quantumlib/Cirq/blob/master/docs/simulate/qvm_builder_code.ipynb\"><img src=\"https://quantumai.google/site-assets/images/buttons/colab_logo_1x.png\" />Run in Google Colab</a>\n",
        "  </td>\n",
        "  <td>\n",
        "    <a target=\"_blank\" href=\"https://github.com/quantumlib/Cirq/blob/master/docs/simulate/qvm_builder_code.ipynb\"><img src=\"https://quantumai.google/site-assets/images/buttons/github_logo_1x.png\" />View source on GitHub</a>\n",
        "  </td>\n",
        "  <td>\n",
        "    <a href=\"https://storage.googleapis.com/tensorflow_docs/Cirq/docs/simulate/qvm_builder_code.ipynb\"><img src=\"https://quantumai.google/site-assets/images/buttons/download_icon_1x.png\" />Download notebook</a>\n",
        "  </td>\n",
        "</table>"
      ]
    },
    {
      "cell_type": "markdown",
      "metadata": {
        "id": "8e6bafdbda4d"
      },
      "source": [
        "This notebook includes a couple of clean and succinct code blocks that you can build on or copy and paste elsewhere in order to make use of the [Quantum Virtual Machine](/cirq/simulate/quantum_virtual_machine) without worrying about how it works inside. "
      ]
    },
    {
      "cell_type": "markdown",
      "metadata": {
        "id": "Lfira0gPf0Gd"
      },
      "source": [
        "## **Install** Cirq and qsim"
      ]
    },
    {
      "cell_type": "code",
      "execution_count": 5,
      "metadata": {
        "cellView": "form",
        "id": "zs5J6wAXqvtW"
      },
      "outputs": [],
      "source": [
        "# @title Install `cirq_google` and `qsimcirq`\n",
        "\n",
        "try:\n",
        "    import cirq\n",
        "    import cirq_google\n",
        "except ImportError:\n",
        "    print(\"installing cirq...\")\n",
        "    !pip install --quiet cirq-google\n",
        "    print(\"installed cirq.\")\n",
        "    import cirq\n",
        "    import cirq_google\n",
        "\n",
        "try:\n",
        "    import qsimcirq\n",
        "except ImportError:\n",
        "    print(\"installing qsimcirq...\")\n",
        "    !pip install --quiet qsimcirq\n",
        "    print(f\"installed qsimcirq.\")\n",
        "    import qsimcirq\n",
        "\n",
        "import time"
      ]
    },
    {
      "cell_type": "markdown",
      "metadata": {
        "id": "p2JAfQa8gVSe"
      },
      "source": [
        "## Create a **Quantum Virtual Machine**.\n",
        "\n",
        "Instantiate a `cirq.SimulatedLocalEngine` that uses the [Virtual Engine Interface](/cirq/simulate/virtual_engine_interface)."
      ]
    },
    {
      "cell_type": "code",
      "execution_count": 6,
      "metadata": {
        "cellView": "form",
        "id": "pbHCUPLpq5WE",
        "outputId": "91a2ca21-a5f0-4220-9b1e-a4a7b78ba61a",
        "colab": {
          "base_uri": "https://localhost:8080/"
        }
      },
      "outputs": [
        {
          "output_type": "stream",
          "name": "stdout",
          "text": [
            "Your quantum virtual machine rainbow is ready, here is the qubit grid: \n",
            "========================\n",
            "\n",
            "                  (3, 2)\n",
            "                  │\n",
            "                  │\n",
            "         (4, 1)───(4, 2)───(4, 3)\n",
            "         │        │        │\n",
            "         │        │        │\n",
            "(5, 0)───(5, 1)───(5, 2)───(5, 3)───(5, 4)\n",
            "         │        │        │        │\n",
            "         │        │        │        │\n",
            "         (6, 1)───(6, 2)───(6, 3)───(6, 4)───(6, 5)\n",
            "                  │        │        │        │\n",
            "                  │        │        │        │\n",
            "                  (7, 2)───(7, 3)───(7, 4)───(7, 5)───(7, 6)\n",
            "                           │        │        │\n",
            "                           │        │        │\n",
            "                           (8, 3)───(8, 4)───(8, 5)\n",
            "                                    │\n",
            "                                    │\n",
            "                                    (9, 4)\n"
          ]
        }
      ],
      "source": [
        "# @title Choose a processor (\"rainbow\" or \"weber\")\n",
        "processor_id = \"rainbow\"  # @param {type:\"string\"}\n",
        "\n",
        "# Instantiate an engine.\n",
        "sim_engine = cirq_google.engine.create_default_noisy_quantum_virtual_machine(\n",
        "    processor_id=processor_id, simulator_class=qsimcirq.QSimSimulator\n",
        ")\n",
        "print(\n",
        "    \"Your quantum virtual machine\",\n",
        "    processor_id,\n",
        "    \"is ready, here is the qubit grid:\",\n",
        "    \"\\n========================\\n\",\n",
        ")\n",
        "print(sim_engine.get_processor(processor_id).get_device())"
      ]
    },
    {
      "cell_type": "code",
      "source": [
        "import cirq_google as cg\n",
        "import qsimcirq\n",
        "\n",
        "# In VM: Transform circuit and Translate all gates to the type gates the device supports\n",
        "def GHZ_5q(num_qubits,measurements=True):\n",
        "    myqubits = cirq.LineQubit.range(num_qubits)\n",
        "    GHZ_circuit = cirq.Circuit([\n",
        "        cirq.Moment([cirq.H(myqubits[0])])\n",
        "    ])\n",
        "\n",
        "    for x in range(num_qubits-1):\n",
        "        GHZ_circuit.append([cirq.CNOT(myqubits[x],myqubits[x+1])])\n",
        "\n",
        "    if measurements:\n",
        "        GHZ_circuit.append(cirq.Moment(cirq.measure_each(*myqubits)))\n",
        "    return GHZ_circuit\n",
        "GHZ_5q_traslated = cirq.optimize_for_target_gateset(\n",
        "    GHZ_5q(5),\n",
        "    context=cirq.TransformerContext(deep=True),\n",
        "    gateset=cirq.SqrtIswapTargetGateset(),\n",
        ")\n"
      ],
      "metadata": {
        "id": "FVCVdGofMY2O"
      },
      "execution_count": 8,
      "outputs": []
    },
    {
      "cell_type": "code",
      "source": [
        "device_qubit_chain = [\n",
        "    cirq.GridQubit(5,2),\n",
        "    cirq.GridQubit(5,3),\n",
        "    cirq.GridQubit(4,3),\n",
        "    cirq.GridQubit(4,2),\n",
        "    cirq.GridQubit(4,1),\n",
        "]"
      ],
      "metadata": {
        "id": "Et9EObNJMm5a"
      },
      "execution_count": 9,
      "outputs": []
    },
    {
      "cell_type": "code",
      "source": [
        "myqubits = cirq.LineQubit.range(5)"
      ],
      "metadata": {
        "id": "TOaZnReUM0Cy"
      },
      "execution_count": 11,
      "outputs": []
    },
    {
      "cell_type": "code",
      "source": [
        "qubit_map = dict(zip(myqubits,device_qubit_chain))\n",
        "GHZ_5q_deviceready = GHZ_5q_traslated.transform_qubits(lambda q: qubit_map[q])\n",
        "\n",
        "print(GHZ_5q_deviceready)"
      ],
      "metadata": {
        "id": "WBoZ9q3OMpyX",
        "outputId": "fe6ddf3e-0680-4fae-820b-e71d7854edcd",
        "colab": {
          "base_uri": "https://localhost:8080/"
        }
      },
      "execution_count": 12,
      "outputs": [
        {
          "output_type": "stream",
          "name": "stdout",
          "text": [
            "(4, 1): ───────────────────────────────────────────────────────────────────────────────────────────────────────────────────────────────────────────────────────────────────────────────────────────────────────────────────────────────────────────────────PhXZ(a=-1.0,x=0.25,z=-0.5)─────────iSwap──────────────────────────────iSwap───────PhXZ(a=-0.5,x=0.75,z=0.5)───M('q(4)')───\n",
            "                                                                                                                                                                                                                                                                                              │                                  │\n",
            "(4, 2): ─────────────────────────────────────────────────────────────────────────────────────────────────────────────────────────────────────────────────────────────────PhXZ(a=-1.0,x=0.25,z=-0.5)─────────iSwap──────────────────────────────iSwap───────PhXZ(a=0.804,x=0.667,z=1.09e-08)───iSwap^0.5───PhXZ(a=-0.5,x=1,z=0)───iSwap^0.5───PhXZ(a=-1,x=0.5,z=-0.75)────M('q(3)')───\n",
            "                                                                                                                                                                                                            │                                  │\n",
            "(4, 3): ───────────────────────────────────────────────────────────────────────────────PhXZ(a=-1.0,x=0.25,z=-0.5)─────────iSwap──────────────────────────────iSwap───────PhXZ(a=0.804,x=0.667,z=1.09e-08)───iSwap^0.5───PhXZ(a=-0.5,x=1,z=0)───iSwap^0.5───PhXZ(a=-1,x=0.5,z=-0.75)──────────────────────────────────────────────────────────────────────────────────────M('q(2)')───\n",
            "                                                                                                                          │                                  │\n",
            "(5, 2): ───PhXZ(a=-1,x=0.25,z=-0.5)─────iSwap───────PhXZ(a=-0.5,x=1,z=0)───iSwap───────PhXZ(a=-1,x=0.5,z=-0.75)───────────┼──────────────────────────────────┼───────────────────────────────────────────────────────────────────────────────────────────────────────────────────────────────────────────────────────────────────────────────────────────────────────────M('q(0)')───\n",
            "                                        │                                  │                                              │                                  │\n",
            "(5, 3): ───PhXZ(a=-1.0,x=0.25,z=-0.5)───iSwap^0.5──────────────────────────iSwap^0.5───PhXZ(a=0.804,x=0.667,z=1.09e-08)───iSwap^0.5───PhXZ(a=-0.5,x=1,z=0)───iSwap^0.5───PhXZ(a=-1,x=0.5,z=-0.75)────────────────────────────────────────────────────────────────────────────────────────────────────────────────────────────────────────────────────────────────────────M('q(1)')───\n"
          ]
        }
      ]
    },
    {
      "cell_type": "code",
      "source": [
        "sim=cirq.Simulator()\n",
        "result=sim.run(GHZ_5q_deviceready,repetitions=1000) # sampling\n",
        "print(result)\n",
        "cirq.plot_state_histogram(result)"
      ],
      "metadata": {
        "id": "SAoBRO8ZTll5",
        "outputId": "7e04c4e2-24fe-4b27-ac60-b6131d3a3cd2",
        "colab": {
          "base_uri": "https://localhost:8080/",
          "height": 419
        }
      },
      "execution_count": 13,
      "outputs": [
        {
          "output_type": "stream",
          "name": "stdout",
          "text": [
            "q(0)=0000001100101111100110101110100000010111001110111110011111101011100110010001101100001000000001001000110000101110001001000011100100110110110011101110001011110010011011111001110111011110110101000111110010101011000011100000001111101010111110011101100111010111110101110001100110100011000001101111001001011000001100001111010101010011000110011001101001111101101110110000110111000011101101111110100100001111100001111000011111111000101110011011000100001001100001011000100011000100000001111011000110100100110111011101010101100111001000110100100000100000101101111100011001001001110101000100110100110110010010001100101110000110101101011101101111110011000010001010101000100100100010001001101011001010100100101011011000000000011110011101000001100111111101111100010001100010101100011101101010001100110101100000001100001111000111010101101001110011000111010011100010101001111101101011101001001011000000101010001101000101101000110111111010110101000101011001100111011011101111011110111100011010111100011111110001110000\n",
            "q(1)=0000001100101111100110101110100000010111001110111110011111101011100110010001101100001000000001001000110000101110001001000011100100110110110011101110001011110010011011111001110111011110110101000111110010101011000011100000001111101010111110011101100111010111110101110001100110100011000001101111001001011000001100001111010101010011000110011001101001111101101110110000110111000011101101111110100100001111100001111000011111111000101110011011000100001001100001011000100011000100000001111011000110100100110111011101010101100111001000110100100000100000101101111100011001001001110101000100110100110110010010001100101110000110101101011101101111110011000010001010101000100100100010001001101011001010100100101011011000000000011110011101000001100111111101111100010001100010101100011101101010001100110101100000001100001111000111010101101001110011000111010011100010101001111101101011101001001011000000101010001101000101101000110111111010110101000101011001100111011011101111011110111100011010111100011111110001110000\n",
            "q(2)=0000001100101111100110101110100000010111001110111110011111101011100110010001101100001000000001001000110000101110001001000011100100110110110011101110001011110010011011111001110111011110110101000111110010101011000011100000001111101010111110011101100111010111110101110001100110100011000001101111001001011000001100001111010101010011000110011001101001111101101110110000110111000011101101111110100100001111100001111000011111111000101110011011000100001001100001011000100011000100000001111011000110100100110111011101010101100111001000110100100000100000101101111100011001001001110101000100110100110110010010001100101110000110101101011101101111110011000010001010101000100100100010001001101011001010100100101011011000000000011110011101000001100111111101111100010001100010101100011101101010001100110101100000001100001111000111010101101001110011000111010011100010101001111101101011101001001011000000101010001101000101101000110111111010110101000101011001100111011011101111011110111100011010111100011111110001110000\n",
            "q(3)=0000001100101111100110101110100000010111001110111110011111101011100110010001101100001000000001001000110000101110001001000011100100110110110011101110001011110010011011111001110111011110110101000111110010101011000011100000001111101010111110011101100111010111110101110001100110100011000001101111001001011000001100001111010101010011000110011001101001111101101110110000110111000011101101111110100100001111100001111000011111111000101110011011000100001001100001011000100011000100000001111011000110100100110111011101010101100111001000110100100000100000101101111100011001001001110101000100110100110110010010001100101110000110101101011101101111110011000010001010101000100100100010001001101011001010100100101011011000000000011110011101000001100111111101111100010001100010101100011101101010001100110101100000001100001111000111010101101001110011000111010011100010101001111101101011101001001011000000101010001101000101101000110111111010110101000101011001100111011011101111011110111100011010111100011111110001110000\n",
            "q(4)=0000001100101111100110101110100000010111001110111110011111101011100110010001101100001000000001001000110000101110001001000011100100110110110011101110001011110010011011111001110111011110110101000111110010101011000011100000001111101010111110011101100111010111110101110001100110100011000001101111001001011000001100001111010101010011000110011001101001111101101110110000110111000011101101111110100100001111100001111000011111111000101110011011000100001001100001011000100011000100000001111011000110100100110111011101010101100111001000110100100000100000101101111100011001001001110101000100110100110110010010001100101110000110101101011101101111110011000010001010101000100100100010001001101011001010100100101011011000000000011110011101000001100111111101111100010001100010101100011101101010001100110101100000001100001111000111010101101001110011000111010011100010101001111101101011101001001011000000101010001101000101101000110111111010110101000101011001100111011011101111011110111100011010111100011111110001110000\n"
          ]
        },
        {
          "output_type": "execute_result",
          "data": {
            "text/plain": [
              "<matplotlib.axes._subplots.AxesSubplot at 0x7fbbf8b0c690>"
            ]
          },
          "metadata": {},
          "execution_count": 13
        },
        {
          "output_type": "display_data",
          "data": {
            "text/plain": [
              "<Figure size 432x288 with 1 Axes>"
            ],
            "image/png": "[encoded data removed]"
          },
          "metadata": {
            "needs_background": "light"
          }
        }
      ]
    },
    {
      "cell_type": "code",
      "source": [
        "cirq.plot_state_histogram()"
      ],
      "metadata": {
        "id": "5LtHeeciS9BM"
      },
      "execution_count": null,
      "outputs": []
    },
    {
      "cell_type": "markdown",
      "metadata": {
        "id": "TJfN17frwo-0"
      },
      "source": [
        "## **Create** a device-ready circuit."
      ]
    },
    {
      "cell_type": "markdown",
      "metadata": {
        "id": "BYxi9xpXjJdI"
      },
      "source": [
        "To learn how to create a device ready circuit, have a look at the [QVM Circuit Preparation](/cirq/simulate/qvm_basic_example) page."
      ]
    },
    {
      "cell_type": "code",
      "execution_count": null,
      "metadata": {
        "id": "FCoKJhGri8lR"
      },
      "outputs": [],
      "source": [
        "# create your device ready circuit here!\n",
        "q0 = cirq.GridQubit(4, 1)\n",
        "your_circuit = cirq.Circuit([(cirq.X**0.5)(q0), cirq.measure(q0)])\n",
        "print(your_circuit)"
      ]
    },
    {
      "cell_type": "markdown",
      "metadata": {
        "id": "Zxv0RtJuhaof"
      },
      "source": [
        "## **Execute** Your circuit on the Quantum Virtual Machine."
      ]
    },
    {
      "cell_type": "code",
      "execution_count": null,
      "metadata": {
        "cellView": "form",
        "id": "bFjnNSqRZsFu"
      },
      "outputs": [],
      "source": [
        "# @title Enter the name of your device ready circuit and execute it on the Quantum Virtual Machine\n",
        "circuit = your_circuit  # @param\n",
        "\n",
        "reps = 3000\n",
        "start = time.time()\n",
        "results = sim_engine.get_sampler(processor_id).run(circuit, repetitions=reps)\n",
        "elapsed = time.time() - start\n",
        "\n",
        "print('Circuit successfully executed on your quantum virtual machine', processor_id)\n",
        "print(f'QVM runtime: {elapsed:.04g}s ({reps} reps)')\n",
        "print('You can now print or plot \"results\"')"
      ]
    }
  ],
  "metadata": {
    "colab": {
      "collapsed_sections": [],
      "name": "qvm_builder_code.ipynb",
      "toc_visible": true,
      "provenance": []
    },
    "kernelspec": {
      "display_name": "Python 3",
      "name": "python3"
    }
  },
  "nbformat": 4,
  "nbformat_minor": 0
}